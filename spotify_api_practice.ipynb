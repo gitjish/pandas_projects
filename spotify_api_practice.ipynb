{
 "cells": [
  {
   "cell_type": "code",
   "execution_count": 5,
   "metadata": {},
   "outputs": [
    {
     "name": "stdout",
     "output_type": "stream",
     "text": [
      "{'display_name': 'sushamacardozo', 'external_urls': {'spotify': 'https://open.spotify.com/user/31kwtwm2w4zyqzbmw4ve7smdtuhm'}, 'followers': {'href': None, 'total': 0}, 'href': 'https://api.spotify.com/v1/users/31kwtwm2w4zyqzbmw4ve7smdtuhm', 'id': '31kwtwm2w4zyqzbmw4ve7smdtuhm', 'images': [], 'type': 'user', 'uri': 'spotify:user:31kwtwm2w4zyqzbmw4ve7smdtuhm'}\n",
      "{'href': 'https://api.spotify.com/v1/users/31kwtwm2w4zyqzbmw4ve7smdtuhm/playlists?offset=0&limit=50', 'items': [{'collaborative': False, 'description': '', 'external_urls': {'spotify': 'https://open.spotify.com/playlist/4JuNUx4pKJhUC7J1JBQkur'}, 'href': 'https://api.spotify.com/v1/playlists/4JuNUx4pKJhUC7J1JBQkur', 'id': '4JuNUx4pKJhUC7J1JBQkur', 'images': [], 'name': 'Hindi Songs', 'owner': {'display_name': 'sushamacardozo', 'external_urls': {'spotify': 'https://open.spotify.com/user/31kwtwm2w4zyqzbmw4ve7smdtuhm'}, 'href': 'https://api.spotify.com/v1/users/31kwtwm2w4zyqzbmw4ve7smdtuhm', 'id': '31kwtwm2w4zyqzbmw4ve7smdtuhm', 'type': 'user', 'uri': 'spotify:user:31kwtwm2w4zyqzbmw4ve7smdtuhm'}, 'primary_color': None, 'public': True, 'snapshot_id': 'MixiMmQ3MDY0NDg3OTE1YWVlYTkwMDM0NmNkNWE2MmU5YTJlNjU2NWY0', 'tracks': {'href': 'https://api.spotify.com/v1/playlists/4JuNUx4pKJhUC7J1JBQkur/tracks', 'total': 0}, 'type': 'playlist', 'uri': 'spotify:playlist:4JuNUx4pKJhUC7J1JBQkur'}, {'collaborative': False, 'description': '', 'external_urls': {'spotify': 'https://open.spotify.com/playlist/5CsE3bnqcGIEwY9q1Q3BXq'}, 'href': 'https://api.spotify.com/v1/playlists/5CsE3bnqcGIEwY9q1Q3BXq', 'id': '5CsE3bnqcGIEwY9q1Q3BXq', 'images': [], 'name': 'My Playlist #2', 'owner': {'display_name': 'sushamacardozo', 'external_urls': {'spotify': 'https://open.spotify.com/user/31kwtwm2w4zyqzbmw4ve7smdtuhm'}, 'href': 'https://api.spotify.com/v1/users/31kwtwm2w4zyqzbmw4ve7smdtuhm', 'id': '31kwtwm2w4zyqzbmw4ve7smdtuhm', 'type': 'user', 'uri': 'spotify:user:31kwtwm2w4zyqzbmw4ve7smdtuhm'}, 'primary_color': None, 'public': True, 'snapshot_id': 'MSxmZGUyMmZmMmIxNGNhYWI2YzM0NWRhNzk1MzNjNWYxYTBhODQ2Zjcy', 'tracks': {'href': 'https://api.spotify.com/v1/playlists/5CsE3bnqcGIEwY9q1Q3BXq/tracks', 'total': 0}, 'type': 'playlist', 'uri': 'spotify:playlist:5CsE3bnqcGIEwY9q1Q3BXq'}, {'collaborative': False, 'description': '', 'external_urls': {'spotify': 'https://open.spotify.com/playlist/3p3XnwbBkP0tqkxHW9tyDv'}, 'href': 'https://api.spotify.com/v1/playlists/3p3XnwbBkP0tqkxHW9tyDv', 'id': '3p3XnwbBkP0tqkxHW9tyDv', 'images': [{'height': 640, 'url': 'https://mosaic.scdn.co/640/ab67616d0000b273a48964b5d9a3d6968ae3e0deab67616d0000b273ba5db46f4b838ef6027e6f96ab67616d0000b273d304ba2d71de306812eebaf4ab67616d0000b273e787cffec20aa2a396a61647', 'width': 640}, {'height': 300, 'url': 'https://mosaic.scdn.co/300/ab67616d0000b273a48964b5d9a3d6968ae3e0deab67616d0000b273ba5db46f4b838ef6027e6f96ab67616d0000b273d304ba2d71de306812eebaf4ab67616d0000b273e787cffec20aa2a396a61647', 'width': 300}, {'height': 60, 'url': 'https://mosaic.scdn.co/60/ab67616d0000b273a48964b5d9a3d6968ae3e0deab67616d0000b273ba5db46f4b838ef6027e6f96ab67616d0000b273d304ba2d71de306812eebaf4ab67616d0000b273e787cffec20aa2a396a61647', 'width': 60}], 'name': 'My playlist #1', 'owner': {'display_name': 'sushamacardozo', 'external_urls': {'spotify': 'https://open.spotify.com/user/31kwtwm2w4zyqzbmw4ve7smdtuhm'}, 'href': 'https://api.spotify.com/v1/users/31kwtwm2w4zyqzbmw4ve7smdtuhm', 'id': '31kwtwm2w4zyqzbmw4ve7smdtuhm', 'type': 'user', 'uri': 'spotify:user:31kwtwm2w4zyqzbmw4ve7smdtuhm'}, 'primary_color': None, 'public': True, 'snapshot_id': 'Niw2YjJhODQ0YTJiODZlNTBjMDZkMDcwZmUxOWIyY2YyZmViYzBhNGI2', 'tracks': {'href': 'https://api.spotify.com/v1/playlists/3p3XnwbBkP0tqkxHW9tyDv/tracks', 'total': 5}, 'type': 'playlist', 'uri': 'spotify:playlist:3p3XnwbBkP0tqkxHW9tyDv'}], 'limit': 50, 'next': None, 'offset': 0, 'previous': None, 'total': 3}\n"
     ]
    }
   ],
   "source": [
    "import spotipy\n",
    "from spotipy.oauth2 import SpotifyClientCredentials\n",
    "from spotipy.oauth2 import SpotifyOAuth\n",
    "import os\n",
    "import requests\n",
    "import pandas as pd\n",
    "import mariadb\n",
    "import sys\n",
    "\n",
    "client_id = 'e8730ef24c72408dac82416586828b8f'\n",
    "client_secret = 'acd0e8fe228a4d7287132bd6e6312094'\n",
    "redirect_Uri = 'http://localhost:8080/callback'\n",
    "            \n",
    "uri = 'spotify:user:e8730ef24c72408dac82416586828b8f'\n",
    "\n",
    "sp = spotipy.Spotify(auth_manager=SpotifyOAuth(client_id=client_id, client_secret=client_secret, redirect_uri=redirect_Uri))\n",
    "\n",
    "results = sp.current_user()\n",
    "#print(results[\"display_name\"])\n",
    "print(results)\n",
    "\n",
    "playlists = []\n",
    "\n",
    "results = sp.current_user_playlists()\n",
    "print(results)\n",
    "\n",
    "\n",
    "\n"
   ]
  },
  {
   "cell_type": "code",
   "execution_count": null,
   "metadata": {},
   "outputs": [],
   "source": [
    "total_playlists = results['total']\n",
    "\n",
    "for i in range(0,total_playlists):\n",
    "    playlists.append(results['items'][i])\n",
    "\n",
    "print(playlists)"
   ]
  },
  {
   "cell_type": "code",
   "execution_count": null,
   "metadata": {},
   "outputs": [],
   "source": [
    "columns = []\n",
    "row_list = []\n",
    "\n",
    "for i in range(0,total_playlists):\n",
    "    #print(pl.keys())\n",
    "    rows = []\n",
    "    for key, value in playlists[i].items():\n",
    "        datatype = str(type(value))[8:len(str(type(value)))-2]\n",
    "        if value == None:\n",
    "            value = \"\"\n",
    "        #print(key, datatype)\n",
    "        if i == 0:\n",
    "            if key == \"external_urls\":\n",
    "                columns.append(\"pl_\" + key + \" VARCHAR(255)\")\n",
    "            elif key == \"images\":\n",
    "                columns.append(\"pl_\" + key + \" TEXT\")\n",
    "            elif key == \"owner\":\n",
    "                columns.append(\"pl_\" + key + \" VARCHAR(255)\")\n",
    "            elif key == \"primary_color\":\n",
    "                columns.append(\"pl_\" + key + \" VARCHAR(255)\")\n",
    "            elif key == \"tracks\":\n",
    "                columns.append(\"pl_no_of_tracks VARCHAR(255)\")\n",
    "            else:\n",
    "                if datatype == \"str\":\n",
    "                    columns.append(\"pl_\" + key + \" VARCHAR(255)\")\n",
    "                elif datatype == \"int\":\n",
    "                    columns.append(\"pl_\" + key + \" INT\")\n",
    "                elif datatype == \"bool\":\n",
    "                    columns.append(\"pl_\" + key + \" BOOL\")\n",
    "            #rows.append(\" VALUES \")\n",
    "        if key == \"external_urls\":\n",
    "            rows.append(str(value))\n",
    "        elif key == \"images\":\n",
    "            rows.append(str(value))\n",
    "        elif key == \"owner\":\n",
    "            rows.append(value[\"id\"])\n",
    "        elif key == \"primary_color\":\n",
    "            rows.append(value)\n",
    "        elif key == \"tracks\":\n",
    "            rows.append(value[\"total\"])\n",
    "        else:\n",
    "            rows.append(value)\n",
    "    #print(tuple(rows))\n",
    "    row_list.append(tuple(rows))\n",
    "#print(tuple(columns)) \n",
    "column_list = \"\"\n",
    "for c in columns:\n",
    "    column_list += c + \", \"\n",
    "column_list = \"(\" + column_list[:-2] + \")\"\n",
    "print(column_list)\n",
    "print(row_list)   \n",
    "#print(list)"
   ]
  },
  {
   "cell_type": "code",
   "execution_count": null,
   "metadata": {},
   "outputs": [],
   "source": [
    "try:\n",
    "    conn = mariadb.connect(\n",
    "        user=\"root\",\n",
    "        password=\"password\",\n",
    "        host=\"localhost\",\n",
    "        port=3306,\n",
    "        database=\"test_db\"\n",
    "    )\n",
    "except mariadb.Error as e:\n",
    "    print(f\"Error connecting to MariaDB Platform: {e}\")\n",
    "    sys.exit(1)\n",
    "conn.autocommit = False\n",
    "print(\"Connected Successfully!\")"
   ]
  },
  {
   "cell_type": "code",
   "execution_count": null,
   "metadata": {},
   "outputs": [],
   "source": [
    "try:\n",
    "    cur = conn.cursor()\n",
    "    create_table = f\"CREATE TABLE IF NOT EXISTS playlists {column_list} \"\n",
    "    #print(create_table)\n",
    "    cur.execute(\"DROP TABLE IF EXISTS playlist\")\n",
    "    cur.execute(create_table)\n",
    "\n",
    "except mariadb.Error as e:\n",
    "    print(f\"Error connecting to MariaDB Platform: {e}\")\n",
    "    sys.exit(1)\n",
    "    \n",
    "print(\"Table created Successfully!\")\n"
   ]
  },
  {
   "cell_type": "code",
   "execution_count": null,
   "metadata": {},
   "outputs": [],
   "source": [
    "try:\n",
    "    cur.execute(\"SELECT * FROM playlists\")\n",
    "    delete_rows = \"DELETE FROM playlists\"\n",
    "    cur.execute(delete_rows)\n",
    "    print(\"O Rows in playlists Table!\")\n",
    "    for r in row_list:\n",
    "        insert_values = f\"INSERT INTO playlists VALUES {r}\" \n",
    "        #print(insert_values)\n",
    "        cur.execute(insert_values)\n",
    "except mariadb.Error as e:\n",
    "    print(f\"Error connecting to MariaDB Platform: {e}\")\n",
    "    sys.exit(1)\n",
    "\n",
    "conn.commit()\n",
    "print(\"Rows inserted Successfully!\")\n",
    "cur.execute(\"SELECT * FROM playlists\")\n",
    "print(cur.fetchall())\n"
   ]
  },
  {
   "cell_type": "code",
   "execution_count": null,
   "metadata": {},
   "outputs": [],
   "source": [
    "conn.close()"
   ]
  }
 ],
 "metadata": {
  "kernelspec": {
   "display_name": "Python 3",
   "language": "python",
   "name": "python3"
  },
  "language_info": {
   "codemirror_mode": {
    "name": "ipython",
    "version": 3
   },
   "file_extension": ".py",
   "mimetype": "text/x-python",
   "name": "python",
   "nbconvert_exporter": "python",
   "pygments_lexer": "ipython3",
   "version": "3.7.3"
  },
  "orig_nbformat": 4,
  "vscode": {
   "interpreter": {
    "hash": "329e74eab13e1efbefcaeabff40e1514f85405b91e84e04e6869e473b0154ff3"
   }
  }
 },
 "nbformat": 4,
 "nbformat_minor": 2
}
