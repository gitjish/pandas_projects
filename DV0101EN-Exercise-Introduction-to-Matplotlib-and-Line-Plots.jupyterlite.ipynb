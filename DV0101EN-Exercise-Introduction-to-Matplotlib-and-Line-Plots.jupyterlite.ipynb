{
  "cells": [
    {
      "cell_type": "markdown",
      "metadata": {
        "button": false,
        "new_sheet": false,
        "run_control": {
          "read_only": false
        }
      },
      "source": [
        "<center>\n",
        "    <img src=\"https://cf-courses-data.s3.us.cloud-object-storage.appdomain.cloud/IBMDeveloperSkillsNetwork-DV0101EN-SkillsNetwork/labs/Module%201/images/IDSNlogo.png\" width=\"300\" alt=\"cognitiveclass.ai logo\"  />\n",
        "</center>\n",
        "\n",
        "# Data Visualization\n",
        "\n",
        "Estimated time needed: **30** minutes\n",
        "\n",
        "## Objectives\n",
        "\n",
        "After completing this lab you will be able to:\n",
        "\n",
        "*   Create Data Visualization with Python\n",
        "*   Use various Python libraries for visualization\n"
      ]
    },
    {
      "cell_type": "markdown",
      "metadata": {
        "button": false,
        "new_sheet": false,
        "run_control": {
          "read_only": false
        }
      },
      "source": [
        "## Introduction\n",
        "\n",
        "The aim of these labs is to introduce you to data visualization with Python as concrete and as consistent as possible.\n",
        "Speaking of consistency, because there is no *best* data visualization library available for Python - up to creating these labs - we have to introduce different libraries and show their benefits when we are discussing new visualization concepts. Doing so, we hope to make students well-rounded with visualization libraries and concepts so that they are able to judge and decide on the best visualization technique and tool for a given problem *and* audience.\n",
        "\n",
        "Please make sure that you have completed the prerequisites for this course, namely [**Python Basics for Data Science**](https://www.edx.org/course/python-basics-for-data-science-2?utm_medium=Exinfluencer&utm_source=Exinfluencer&utm_content=000026UJ&utm_term=10006555&utm_id=NA-SkillsNetwork-Channel-SkillsNetworkCoursesIBMDeveloperSkillsNetworkDV0101ENSkillsNetwork20297740-2021-01-01) and [**Analyzing Data with Python**](https://www.edx.org/course/data-analysis-with-python?utm_medium=Exinfluencer&utm_source=Exinfluencer&utm_content=000026UJ&utm_term=10006555&utm_id=NA-SkillsNetwork-Channel-SkillsNetworkCoursesIBMDeveloperSkillsNetworkDV0101ENSkillsNetwork20297740-2021-01-01).\n",
        "\n",
        "**Note**: The majority of the plots and visualizations will be generated using data stored in *pandas* dataframes. Therefore, in this lab, we provide a brief crash course on *pandas*. However, if you are interested in learning more about the *pandas* library, detailed description and explanation of how to use it and how to clean, munge, and process data stored in a *pandas* dataframe are provided in our course [**Analyzing Data with Python**](https://www.edx.org/course/data-analysis-with-python?utm_medium=Exinfluencer&utm_source=Exinfluencer&utm_content=000026UJ&utm_term=10006555&utm_id=NA-SkillsNetwork-Channel-SkillsNetworkCoursesIBMDeveloperSkillsNetworkDV0101ENSkillsNetwork20297740-2021-01-01).\n",
        "\n",
        "***\n"
      ]
    },
    {
      "cell_type": "markdown",
      "metadata": {
        "button": false,
        "new_sheet": false,
        "run_control": {
          "read_only": false
        }
      },
      "source": [
        "## Table of Contents\n",
        "\n",
        "<div class=\"alert alert-block alert-info\" style=\"margin-top: 20px\">\n",
        "\n",
        "1.  [Exploring Datasets with *pandas*](#0)<br>\n",
        "\n",
        "1.1 [The Dataset: Immigration to Canada from 1980 to 2013](#2)<br>\n",
        "1.2 [*pandas* Basics](#4) <br>\n",
        "1.3 [*pandas* Intermediate: Indexing and Selection](#6) <br>\n",
        "2\\. [Visualizing Data using Matplotlib](#8) <br>\n",
        "2.1 [Matplotlib: Standard Python Visualization Library](#10) <br>\n",
        "3\\. [Line Plots](#12)\n",
        "\n",
        "</div>\n"
      ]
    },
    {
      "cell_type": "markdown",
      "metadata": {
        "button": false,
        "new_sheet": false,
        "run_control": {
          "read_only": false
        }
      },
      "source": [
        "# Exploring Datasets with *pandas* <a id=\"0\"></a>\n",
        "\n",
        "*pandas* is an essential data analysis toolkit for Python. From their [website](http://pandas.pydata.org/?utm_medium=Exinfluencer&utm_source=Exinfluencer&utm_content=000026UJ&utm_term=10006555&utm_id=NA-SkillsNetwork-Channel-SkillsNetworkCoursesIBMDeveloperSkillsNetworkDV0101ENSkillsNetwork20297740-2021-01-01):\n",
        "\n",
        "> *pandas* is a Python package providing fast, flexible, and expressive data structures designed to make working with “relational” or “labeled” data both easy and intuitive. It aims to be the fundamental high-level building block for doing practical, **real world** data analysis in Python.\n",
        "\n",
        "The course heavily relies on *pandas* for data wrangling, analysis, and visualization. We encourage you to spend some time and familiarize yourself with the *pandas* API Reference: [http://pandas.pydata.org/pandas-docs/stable/api.html](http://pandas.pydata.org/pandas-docs/stable/api.html?utm_medium=Exinfluencer&utm_source=Exinfluencer&utm_content=000026UJ&utm_term=10006555&utm_id=NA-SkillsNetwork-Channel-SkillsNetworkCoursesIBMDeveloperSkillsNetworkDV0101ENSkillsNetwork20297740-2021-01-01).\n"
      ]
    },
    {
      "cell_type": "markdown",
      "metadata": {
        "button": false,
        "new_sheet": false,
        "run_control": {
          "read_only": false
        }
      },
      "source": [
        "## The Dataset: Immigration to Canada from 1980 to 2013 <a id=\"2\"></a>\n"
      ]
    },
    {
      "cell_type": "markdown",
      "metadata": {
        "button": false,
        "new_sheet": false,
        "run_control": {
          "read_only": false
        }
      },
      "source": [
        "Dataset Source: [International migration flows to and from selected countries - The 2015 revision](http://www.un.org/en/development/desa/population/migration/data/empirical2/migrationflows.shtml?utm_medium=Exinfluencer&utm_source=Exinfluencer&utm_content=000026UJ&utm_term=10006555&utm_id=NA-SkillsNetwork-Channel-SkillsNetworkCoursesIBMDeveloperSkillsNetworkDV0101ENSkillsNetwork20297740-2021-01-01).\n",
        "\n",
        "The dataset contains annual data on the flows of international immigrants as recorded by the countries of destination. The data presents both inflows and outflows according to the place of birth, citizenship or place of previous / next residence both for foreigners and nationals. The current version presents data pertaining to 45 countries.\n",
        "\n",
        "In this lab, we will focus on the Canadian immigration data.\n",
        "\n",
        "![Data Preview](https://cf-courses-data.s3.us.cloud-object-storage.appdomain.cloud/IBMDeveloperSkillsNetwork-DV0101EN-SkillsNetwork/labs/Module%201/images/DataSnapshot.png)\n",
        "\n",
        "The Canada Immigration dataset can be fetched from <a href=\"https://cf-courses-data.s3.us.cloud-object-storage.appdomain.cloud/IBMDeveloperSkillsNetwork-DV0101EN-SkillsNetwork/Data%20Files/Canada.xlsx?utm_medium=Exinfluencer&utm_source=Exinfluencer&utm_content=000026UJ&utm_term=10006555&utm_id=NA-SkillsNetwork-Channel-SkillsNetworkCoursesIBMDeveloperSkillsNetworkDV0101ENSkillsNetwork20297740-2021-01-01\">here</a>.\n",
        "\n",
        "***\n"
      ]
    },
    {
      "cell_type": "markdown",
      "metadata": {
        "button": false,
        "new_sheet": false,
        "run_control": {
          "read_only": false
        }
      },
      "source": [
        "## *pandas* Basics<a id=\"4\"></a>\n"
      ]
    },
    {
      "cell_type": "markdown",
      "metadata": {},
      "source": [
        "The first thing we'll do is install **openpyxl** (formerly **xlrd**), a module that *pandas* requires to read Excel files.\n"
      ]
    },
    {
      "cell_type": "code",
      "execution_count": 1,
      "metadata": {
        "trusted": true
      },
      "outputs": [],
      "source": [
        "#pip install openpyxl"
      ]
    },
    {
      "cell_type": "markdown",
      "metadata": {
        "button": false,
        "new_sheet": false,
        "run_control": {
          "read_only": false
        }
      },
      "source": [
        "Next, we'll do is import two key data analysis modules: *pandas* and *numpy*.\n"
      ]
    },
    {
      "cell_type": "code",
      "execution_count": 2,
      "metadata": {
        "button": false,
        "new_sheet": false,
        "run_control": {
          "read_only": false
        },
        "trusted": true
      },
      "outputs": [],
      "source": [
        "import numpy as np  # useful for many scientific computing in Python\n",
        "import pandas as pd # primary data structure library"
      ]
    },
    {
      "cell_type": "markdown",
      "metadata": {
        "button": false,
        "new_sheet": false,
        "run_control": {
          "read_only": false
        }
      },
      "source": [
        "Let's download and import our primary Canadian Immigration dataset using *pandas*'s `read_excel()` method.\n"
      ]
    },
    {
      "cell_type": "code",
      "execution_count": 3,
      "metadata": {
        "button": false,
        "new_sheet": false,
        "run_control": {
          "read_only": false
        },
        "trusted": true
      },
      "outputs": [
        {
          "name": "stdout",
          "output_type": "stream",
          "text": [
            "Data downloaded and read into a dataframe!\n"
          ]
        }
      ],
      "source": [
        "#from js import fetch\n",
        "#import io\n",
        "\n",
        "URL = 'https://cf-courses-data.s3.us.cloud-object-storage.appdomain.cloud/IBMDeveloperSkillsNetwork-DV0101EN-SkillsNetwork/Data%20Files/Canada.xlsx'\n",
        "#resp = await fetch(URL)\n",
        "#text = io.BytesIO((await resp.arrayBuffer()).to_py())\n",
        "\n",
        "df_can = pd.read_excel(URL,\n",
        "    sheet_name='Canada by Citizenship',\n",
        "    skiprows=range(20),\n",
        "    skipfooter=2)\n",
        "print('Data downloaded and read into a dataframe!')"
      ]
    },
    {
      "cell_type": "markdown",
      "metadata": {
        "button": false,
        "new_sheet": false,
        "run_control": {
          "read_only": false
        }
      },
      "source": [
        "Let's view the top 5 rows of the dataset using the `head()` function.\n"
      ]
    },
    {
      "cell_type": "code",
      "execution_count": 4,
      "metadata": {
        "button": false,
        "new_sheet": false,
        "run_control": {
          "read_only": false
        },
        "trusted": true
      },
      "outputs": [
        {
          "data": {
            "text/html": [
              "<div>\n",
              "<style scoped>\n",
              "    .dataframe tbody tr th:only-of-type {\n",
              "        vertical-align: middle;\n",
              "    }\n",
              "\n",
              "    .dataframe tbody tr th {\n",
              "        vertical-align: top;\n",
              "    }\n",
              "\n",
              "    .dataframe thead th {\n",
              "        text-align: right;\n",
              "    }\n",
              "</style>\n",
              "<table border=\"1\" class=\"dataframe\">\n",
              "  <thead>\n",
              "    <tr style=\"text-align: right;\">\n",
              "      <th></th>\n",
              "      <th>Type</th>\n",
              "      <th>Coverage</th>\n",
              "      <th>OdName</th>\n",
              "      <th>AREA</th>\n",
              "      <th>AreaName</th>\n",
              "      <th>REG</th>\n",
              "      <th>RegName</th>\n",
              "      <th>DEV</th>\n",
              "      <th>DevName</th>\n",
              "      <th>1980</th>\n",
              "      <th>...</th>\n",
              "      <th>2004</th>\n",
              "      <th>2005</th>\n",
              "      <th>2006</th>\n",
              "      <th>2007</th>\n",
              "      <th>2008</th>\n",
              "      <th>2009</th>\n",
              "      <th>2010</th>\n",
              "      <th>2011</th>\n",
              "      <th>2012</th>\n",
              "      <th>2013</th>\n",
              "    </tr>\n",
              "  </thead>\n",
              "  <tbody>\n",
              "    <tr>\n",
              "      <th>0</th>\n",
              "      <td>Immigrants</td>\n",
              "      <td>Foreigners</td>\n",
              "      <td>Afghanistan</td>\n",
              "      <td>935</td>\n",
              "      <td>Asia</td>\n",
              "      <td>5501</td>\n",
              "      <td>Southern Asia</td>\n",
              "      <td>902</td>\n",
              "      <td>Developing regions</td>\n",
              "      <td>16</td>\n",
              "      <td>...</td>\n",
              "      <td>2978</td>\n",
              "      <td>3436</td>\n",
              "      <td>3009</td>\n",
              "      <td>2652</td>\n",
              "      <td>2111</td>\n",
              "      <td>1746</td>\n",
              "      <td>1758</td>\n",
              "      <td>2203</td>\n",
              "      <td>2635</td>\n",
              "      <td>2004</td>\n",
              "    </tr>\n",
              "    <tr>\n",
              "      <th>1</th>\n",
              "      <td>Immigrants</td>\n",
              "      <td>Foreigners</td>\n",
              "      <td>Albania</td>\n",
              "      <td>908</td>\n",
              "      <td>Europe</td>\n",
              "      <td>925</td>\n",
              "      <td>Southern Europe</td>\n",
              "      <td>901</td>\n",
              "      <td>Developed regions</td>\n",
              "      <td>1</td>\n",
              "      <td>...</td>\n",
              "      <td>1450</td>\n",
              "      <td>1223</td>\n",
              "      <td>856</td>\n",
              "      <td>702</td>\n",
              "      <td>560</td>\n",
              "      <td>716</td>\n",
              "      <td>561</td>\n",
              "      <td>539</td>\n",
              "      <td>620</td>\n",
              "      <td>603</td>\n",
              "    </tr>\n",
              "    <tr>\n",
              "      <th>2</th>\n",
              "      <td>Immigrants</td>\n",
              "      <td>Foreigners</td>\n",
              "      <td>Algeria</td>\n",
              "      <td>903</td>\n",
              "      <td>Africa</td>\n",
              "      <td>912</td>\n",
              "      <td>Northern Africa</td>\n",
              "      <td>902</td>\n",
              "      <td>Developing regions</td>\n",
              "      <td>80</td>\n",
              "      <td>...</td>\n",
              "      <td>3616</td>\n",
              "      <td>3626</td>\n",
              "      <td>4807</td>\n",
              "      <td>3623</td>\n",
              "      <td>4005</td>\n",
              "      <td>5393</td>\n",
              "      <td>4752</td>\n",
              "      <td>4325</td>\n",
              "      <td>3774</td>\n",
              "      <td>4331</td>\n",
              "    </tr>\n",
              "    <tr>\n",
              "      <th>3</th>\n",
              "      <td>Immigrants</td>\n",
              "      <td>Foreigners</td>\n",
              "      <td>American Samoa</td>\n",
              "      <td>909</td>\n",
              "      <td>Oceania</td>\n",
              "      <td>957</td>\n",
              "      <td>Polynesia</td>\n",
              "      <td>902</td>\n",
              "      <td>Developing regions</td>\n",
              "      <td>0</td>\n",
              "      <td>...</td>\n",
              "      <td>0</td>\n",
              "      <td>0</td>\n",
              "      <td>1</td>\n",
              "      <td>0</td>\n",
              "      <td>0</td>\n",
              "      <td>0</td>\n",
              "      <td>0</td>\n",
              "      <td>0</td>\n",
              "      <td>0</td>\n",
              "      <td>0</td>\n",
              "    </tr>\n",
              "    <tr>\n",
              "      <th>4</th>\n",
              "      <td>Immigrants</td>\n",
              "      <td>Foreigners</td>\n",
              "      <td>Andorra</td>\n",
              "      <td>908</td>\n",
              "      <td>Europe</td>\n",
              "      <td>925</td>\n",
              "      <td>Southern Europe</td>\n",
              "      <td>901</td>\n",
              "      <td>Developed regions</td>\n",
              "      <td>0</td>\n",
              "      <td>...</td>\n",
              "      <td>0</td>\n",
              "      <td>0</td>\n",
              "      <td>1</td>\n",
              "      <td>1</td>\n",
              "      <td>0</td>\n",
              "      <td>0</td>\n",
              "      <td>0</td>\n",
              "      <td>0</td>\n",
              "      <td>1</td>\n",
              "      <td>1</td>\n",
              "    </tr>\n",
              "  </tbody>\n",
              "</table>\n",
              "<p>5 rows × 43 columns</p>\n",
              "</div>"
            ],
            "text/plain": [
              "         Type    Coverage          OdName  AREA AreaName   REG  \\\n",
              "0  Immigrants  Foreigners     Afghanistan   935     Asia  5501   \n",
              "1  Immigrants  Foreigners         Albania   908   Europe   925   \n",
              "2  Immigrants  Foreigners         Algeria   903   Africa   912   \n",
              "3  Immigrants  Foreigners  American Samoa   909  Oceania   957   \n",
              "4  Immigrants  Foreigners         Andorra   908   Europe   925   \n",
              "\n",
              "           RegName  DEV             DevName  1980  ...  2004  2005  2006  \\\n",
              "0    Southern Asia  902  Developing regions    16  ...  2978  3436  3009   \n",
              "1  Southern Europe  901   Developed regions     1  ...  1450  1223   856   \n",
              "2  Northern Africa  902  Developing regions    80  ...  3616  3626  4807   \n",
              "3        Polynesia  902  Developing regions     0  ...     0     0     1   \n",
              "4  Southern Europe  901   Developed regions     0  ...     0     0     1   \n",
              "\n",
              "   2007  2008  2009  2010  2011  2012  2013  \n",
              "0  2652  2111  1746  1758  2203  2635  2004  \n",
              "1   702   560   716   561   539   620   603  \n",
              "2  3623  4005  5393  4752  4325  3774  4331  \n",
              "3     0     0     0     0     0     0     0  \n",
              "4     1     0     0     0     0     1     1  \n",
              "\n",
              "[5 rows x 43 columns]"
            ]
          },
          "execution_count": 4,
          "metadata": {},
          "output_type": "execute_result"
        }
      ],
      "source": [
        "df_can.head()\n",
        "# tip: You can specify the number of rows you'd like to see as follows: df_can.head(10) "
      ]
    },
    {
      "cell_type": "markdown",
      "metadata": {
        "button": false,
        "new_sheet": false,
        "run_control": {
          "read_only": false
        }
      },
      "source": [
        "We can also view the bottom 5 rows of the dataset using the `tail()` function.\n"
      ]
    },
    {
      "cell_type": "code",
      "execution_count": 5,
      "metadata": {
        "button": false,
        "new_sheet": false,
        "run_control": {
          "read_only": false
        },
        "trusted": true
      },
      "outputs": [
        {
          "data": {
            "text/html": [
              "<div>\n",
              "<style scoped>\n",
              "    .dataframe tbody tr th:only-of-type {\n",
              "        vertical-align: middle;\n",
              "    }\n",
              "\n",
              "    .dataframe tbody tr th {\n",
              "        vertical-align: top;\n",
              "    }\n",
              "\n",
              "    .dataframe thead th {\n",
              "        text-align: right;\n",
              "    }\n",
              "</style>\n",
              "<table border=\"1\" class=\"dataframe\">\n",
              "  <thead>\n",
              "    <tr style=\"text-align: right;\">\n",
              "      <th></th>\n",
              "      <th>Type</th>\n",
              "      <th>Coverage</th>\n",
              "      <th>OdName</th>\n",
              "      <th>AREA</th>\n",
              "      <th>AreaName</th>\n",
              "      <th>REG</th>\n",
              "      <th>RegName</th>\n",
              "      <th>DEV</th>\n",
              "      <th>DevName</th>\n",
              "      <th>1980</th>\n",
              "      <th>...</th>\n",
              "      <th>2004</th>\n",
              "      <th>2005</th>\n",
              "      <th>2006</th>\n",
              "      <th>2007</th>\n",
              "      <th>2008</th>\n",
              "      <th>2009</th>\n",
              "      <th>2010</th>\n",
              "      <th>2011</th>\n",
              "      <th>2012</th>\n",
              "      <th>2013</th>\n",
              "    </tr>\n",
              "  </thead>\n",
              "  <tbody>\n",
              "    <tr>\n",
              "      <th>190</th>\n",
              "      <td>Immigrants</td>\n",
              "      <td>Foreigners</td>\n",
              "      <td>Viet Nam</td>\n",
              "      <td>935</td>\n",
              "      <td>Asia</td>\n",
              "      <td>920</td>\n",
              "      <td>South-Eastern Asia</td>\n",
              "      <td>902</td>\n",
              "      <td>Developing regions</td>\n",
              "      <td>1191</td>\n",
              "      <td>...</td>\n",
              "      <td>1816</td>\n",
              "      <td>1852</td>\n",
              "      <td>3153</td>\n",
              "      <td>2574</td>\n",
              "      <td>1784</td>\n",
              "      <td>2171</td>\n",
              "      <td>1942</td>\n",
              "      <td>1723</td>\n",
              "      <td>1731</td>\n",
              "      <td>2112</td>\n",
              "    </tr>\n",
              "    <tr>\n",
              "      <th>191</th>\n",
              "      <td>Immigrants</td>\n",
              "      <td>Foreigners</td>\n",
              "      <td>Western Sahara</td>\n",
              "      <td>903</td>\n",
              "      <td>Africa</td>\n",
              "      <td>912</td>\n",
              "      <td>Northern Africa</td>\n",
              "      <td>902</td>\n",
              "      <td>Developing regions</td>\n",
              "      <td>0</td>\n",
              "      <td>...</td>\n",
              "      <td>0</td>\n",
              "      <td>0</td>\n",
              "      <td>1</td>\n",
              "      <td>0</td>\n",
              "      <td>0</td>\n",
              "      <td>0</td>\n",
              "      <td>0</td>\n",
              "      <td>0</td>\n",
              "      <td>0</td>\n",
              "      <td>0</td>\n",
              "    </tr>\n",
              "    <tr>\n",
              "      <th>192</th>\n",
              "      <td>Immigrants</td>\n",
              "      <td>Foreigners</td>\n",
              "      <td>Yemen</td>\n",
              "      <td>935</td>\n",
              "      <td>Asia</td>\n",
              "      <td>922</td>\n",
              "      <td>Western Asia</td>\n",
              "      <td>902</td>\n",
              "      <td>Developing regions</td>\n",
              "      <td>1</td>\n",
              "      <td>...</td>\n",
              "      <td>124</td>\n",
              "      <td>161</td>\n",
              "      <td>140</td>\n",
              "      <td>122</td>\n",
              "      <td>133</td>\n",
              "      <td>128</td>\n",
              "      <td>211</td>\n",
              "      <td>160</td>\n",
              "      <td>174</td>\n",
              "      <td>217</td>\n",
              "    </tr>\n",
              "    <tr>\n",
              "      <th>193</th>\n",
              "      <td>Immigrants</td>\n",
              "      <td>Foreigners</td>\n",
              "      <td>Zambia</td>\n",
              "      <td>903</td>\n",
              "      <td>Africa</td>\n",
              "      <td>910</td>\n",
              "      <td>Eastern Africa</td>\n",
              "      <td>902</td>\n",
              "      <td>Developing regions</td>\n",
              "      <td>11</td>\n",
              "      <td>...</td>\n",
              "      <td>56</td>\n",
              "      <td>91</td>\n",
              "      <td>77</td>\n",
              "      <td>71</td>\n",
              "      <td>64</td>\n",
              "      <td>60</td>\n",
              "      <td>102</td>\n",
              "      <td>69</td>\n",
              "      <td>46</td>\n",
              "      <td>59</td>\n",
              "    </tr>\n",
              "    <tr>\n",
              "      <th>194</th>\n",
              "      <td>Immigrants</td>\n",
              "      <td>Foreigners</td>\n",
              "      <td>Zimbabwe</td>\n",
              "      <td>903</td>\n",
              "      <td>Africa</td>\n",
              "      <td>910</td>\n",
              "      <td>Eastern Africa</td>\n",
              "      <td>902</td>\n",
              "      <td>Developing regions</td>\n",
              "      <td>72</td>\n",
              "      <td>...</td>\n",
              "      <td>1450</td>\n",
              "      <td>615</td>\n",
              "      <td>454</td>\n",
              "      <td>663</td>\n",
              "      <td>611</td>\n",
              "      <td>508</td>\n",
              "      <td>494</td>\n",
              "      <td>434</td>\n",
              "      <td>437</td>\n",
              "      <td>407</td>\n",
              "    </tr>\n",
              "  </tbody>\n",
              "</table>\n",
              "<p>5 rows × 43 columns</p>\n",
              "</div>"
            ],
            "text/plain": [
              "           Type    Coverage          OdName  AREA AreaName  REG  \\\n",
              "190  Immigrants  Foreigners        Viet Nam   935     Asia  920   \n",
              "191  Immigrants  Foreigners  Western Sahara   903   Africa  912   \n",
              "192  Immigrants  Foreigners           Yemen   935     Asia  922   \n",
              "193  Immigrants  Foreigners          Zambia   903   Africa  910   \n",
              "194  Immigrants  Foreigners        Zimbabwe   903   Africa  910   \n",
              "\n",
              "                RegName  DEV             DevName  1980  ...  2004  2005  2006  \\\n",
              "190  South-Eastern Asia  902  Developing regions  1191  ...  1816  1852  3153   \n",
              "191     Northern Africa  902  Developing regions     0  ...     0     0     1   \n",
              "192        Western Asia  902  Developing regions     1  ...   124   161   140   \n",
              "193      Eastern Africa  902  Developing regions    11  ...    56    91    77   \n",
              "194      Eastern Africa  902  Developing regions    72  ...  1450   615   454   \n",
              "\n",
              "     2007  2008  2009  2010  2011  2012  2013  \n",
              "190  2574  1784  2171  1942  1723  1731  2112  \n",
              "191     0     0     0     0     0     0     0  \n",
              "192   122   133   128   211   160   174   217  \n",
              "193    71    64    60   102    69    46    59  \n",
              "194   663   611   508   494   434   437   407  \n",
              "\n",
              "[5 rows x 43 columns]"
            ]
          },
          "execution_count": 5,
          "metadata": {},
          "output_type": "execute_result"
        }
      ],
      "source": [
        "df_can.tail()"
      ]
    },
    {
      "attachments": {},
      "cell_type": "markdown",
      "metadata": {
        "button": false,
        "new_sheet": false,
        "run_control": {
          "read_only": false
        }
      },
      "source": [
        "When analyzing a dataset, it's always a good idea to start by getting basic information about your dataframe.\n",
        "\n",
        "Choose a method that can be used to get a short summary of the dataframe.\n"
      ]
    },
    {
      "cell_type": "code",
      "execution_count": 6,
      "metadata": {
        "trusted": true
      },
      "outputs": [
        {
          "name": "stdout",
          "output_type": "stream",
          "text": [
            "<class 'pandas.core.frame.DataFrame'>\n",
            "RangeIndex: 195 entries, 0 to 194\n",
            "Columns: 43 entries, Type to 2013\n",
            "dtypes: int64(37), object(6)\n",
            "memory usage: 65.6+ KB\n"
          ]
        }
      ],
      "source": [
        "df_can.info(verbose=False)"
      ]
    },
    {
      "attachments": {},
      "cell_type": "markdown",
      "metadata": {
        "button": false,
        "new_sheet": false,
        "run_control": {
          "read_only": false
        }
      },
      "source": [
        "Get the list of all columb headers\n"
      ]
    },
    {
      "cell_type": "code",
      "execution_count": 7,
      "metadata": {
        "button": false,
        "new_sheet": false,
        "run_control": {
          "read_only": false
        },
        "trusted": true
      },
      "outputs": [
        {
          "data": {
            "text/plain": [
              "Index([    'Type', 'Coverage',   'OdName',     'AREA', 'AreaName',      'REG',\n",
              "        'RegName',      'DEV',  'DevName',       1980,       1981,       1982,\n",
              "             1983,       1984,       1985,       1986,       1987,       1988,\n",
              "             1989,       1990,       1991,       1992,       1993,       1994,\n",
              "             1995,       1996,       1997,       1998,       1999,       2000,\n",
              "             2001,       2002,       2003,       2004,       2005,       2006,\n",
              "             2007,       2008,       2009,       2010,       2011,       2012,\n",
              "             2013],\n",
              "      dtype='object')"
            ]
          },
          "execution_count": 7,
          "metadata": {},
          "output_type": "execute_result"
        }
      ],
      "source": [
        "df_can.columns"
      ]
    },
    {
      "attachments": {},
      "cell_type": "markdown",
      "metadata": {
        "button": false,
        "new_sheet": false,
        "run_control": {
          "read_only": false
        }
      },
      "source": [
        "Similarly, get the list of indices."
      ]
    },
    {
      "cell_type": "code",
      "execution_count": 8,
      "metadata": {
        "button": false,
        "new_sheet": false,
        "run_control": {
          "read_only": false
        },
        "scrolled": true,
        "trusted": true
      },
      "outputs": [
        {
          "data": {
            "text/plain": [
              "RangeIndex(start=0, stop=195, step=1)"
            ]
          },
          "execution_count": 8,
          "metadata": {},
          "output_type": "execute_result"
        }
      ],
      "source": [
        "df_can.index"
      ]
    },
    {
      "cell_type": "markdown",
      "metadata": {
        "button": false,
        "new_sheet": false,
        "run_control": {
          "read_only": false
        }
      },
      "source": [
        "Note: The default type of intance variables `index` and `columns` are **NOT** `list`.\n"
      ]
    },
    {
      "cell_type": "code",
      "execution_count": 9,
      "metadata": {
        "button": false,
        "new_sheet": false,
        "run_control": {
          "read_only": false
        },
        "trusted": true
      },
      "outputs": [
        {
          "name": "stdout",
          "output_type": "stream",
          "text": [
            "<class 'pandas.core.indexes.base.Index'>\n",
            "<class 'pandas.core.indexes.range.RangeIndex'>\n"
          ]
        }
      ],
      "source": [
        "print(type(df_can.columns))\n",
        "print(type(df_can.index))"
      ]
    },
    {
      "attachments": {},
      "cell_type": "markdown",
      "metadata": {
        "button": false,
        "new_sheet": false,
        "run_control": {
          "read_only": false
        }
      },
      "source": [
        "print the index and columns as lists, also check the type\n"
      ]
    },
    {
      "cell_type": "code",
      "execution_count": 11,
      "metadata": {
        "button": false,
        "new_sheet": false,
        "run_control": {
          "read_only": false
        },
        "trusted": true
      },
      "outputs": [
        {
          "name": "stdout",
          "output_type": "stream",
          "text": [
            "<bound method IndexOpsMixin.tolist of Index([    'Type', 'Coverage',   'OdName',     'AREA', 'AreaName',      'REG',\n",
            "        'RegName',      'DEV',  'DevName',       1980,       1981,       1982,\n",
            "             1983,       1984,       1985,       1986,       1987,       1988,\n",
            "             1989,       1990,       1991,       1992,       1993,       1994,\n",
            "             1995,       1996,       1997,       1998,       1999,       2000,\n",
            "             2001,       2002,       2003,       2004,       2005,       2006,\n",
            "             2007,       2008,       2009,       2010,       2011,       2012,\n",
            "             2013],\n",
            "      dtype='object')>\n",
            "<bound method IndexOpsMixin.tolist of RangeIndex(start=0, stop=195, step=1)>\n"
          ]
        }
      ],
      "source": [
        "print(df_can.columns.to_list)\n",
        "\n",
        "print(df_can.index.to_list)\n"
      ]
    },
    {
      "attachments": {},
      "cell_type": "markdown",
      "metadata": {
        "button": false,
        "new_sheet": false,
        "run_control": {
          "read_only": false
        }
      },
      "source": [
        "view the dimensions of the dataframe\n"
      ]
    },
    {
      "cell_type": "code",
      "execution_count": 12,
      "metadata": {
        "button": false,
        "new_sheet": false,
        "run_control": {
          "read_only": false
        },
        "trusted": true
      },
      "outputs": [
        {
          "data": {
            "text/plain": [
              "(195, 43)"
            ]
          },
          "execution_count": 12,
          "metadata": {},
          "output_type": "execute_result"
        }
      ],
      "source": [
        "df_can.shape"
      ]
    },
    {
      "cell_type": "markdown",
      "metadata": {
        "button": false,
        "new_sheet": false,
        "run_control": {
          "read_only": false
        }
      },
      "source": [
        "**Note**: The main types stored in *pandas* objects are `float`, `int`, `bool`, `datetime64[ns]`, `datetime64[ns, tz]`, `timedelta[ns]`, `category`, and `object` (string). In addition, these dtypes have item sizes, e.g. `int64` and `int32`.\n"
      ]
    },
    {
      "cell_type": "markdown",
      "metadata": {
        "button": false,
        "new_sheet": false,
        "run_control": {
          "read_only": false
        }
      },
      "source": [
        "Let's clean the data set to remove a few unnecessary columns. We can use *pandas* `drop()` method as follows:\n"
      ]
    },
    {
      "cell_type": "code",
      "execution_count": 13,
      "metadata": {
        "button": false,
        "new_sheet": false,
        "run_control": {
          "read_only": false
        },
        "trusted": true
      },
      "outputs": [
        {
          "data": {
            "text/html": [
              "<div>\n",
              "<style scoped>\n",
              "    .dataframe tbody tr th:only-of-type {\n",
              "        vertical-align: middle;\n",
              "    }\n",
              "\n",
              "    .dataframe tbody tr th {\n",
              "        vertical-align: top;\n",
              "    }\n",
              "\n",
              "    .dataframe thead th {\n",
              "        text-align: right;\n",
              "    }\n",
              "</style>\n",
              "<table border=\"1\" class=\"dataframe\">\n",
              "  <thead>\n",
              "    <tr style=\"text-align: right;\">\n",
              "      <th></th>\n",
              "      <th>OdName</th>\n",
              "      <th>AreaName</th>\n",
              "      <th>RegName</th>\n",
              "      <th>DevName</th>\n",
              "      <th>1980</th>\n",
              "      <th>1981</th>\n",
              "      <th>1982</th>\n",
              "      <th>1983</th>\n",
              "      <th>1984</th>\n",
              "      <th>1985</th>\n",
              "      <th>...</th>\n",
              "      <th>2004</th>\n",
              "      <th>2005</th>\n",
              "      <th>2006</th>\n",
              "      <th>2007</th>\n",
              "      <th>2008</th>\n",
              "      <th>2009</th>\n",
              "      <th>2010</th>\n",
              "      <th>2011</th>\n",
              "      <th>2012</th>\n",
              "      <th>2013</th>\n",
              "    </tr>\n",
              "  </thead>\n",
              "  <tbody>\n",
              "    <tr>\n",
              "      <th>0</th>\n",
              "      <td>Afghanistan</td>\n",
              "      <td>Asia</td>\n",
              "      <td>Southern Asia</td>\n",
              "      <td>Developing regions</td>\n",
              "      <td>16</td>\n",
              "      <td>39</td>\n",
              "      <td>39</td>\n",
              "      <td>47</td>\n",
              "      <td>71</td>\n",
              "      <td>340</td>\n",
              "      <td>...</td>\n",
              "      <td>2978</td>\n",
              "      <td>3436</td>\n",
              "      <td>3009</td>\n",
              "      <td>2652</td>\n",
              "      <td>2111</td>\n",
              "      <td>1746</td>\n",
              "      <td>1758</td>\n",
              "      <td>2203</td>\n",
              "      <td>2635</td>\n",
              "      <td>2004</td>\n",
              "    </tr>\n",
              "    <tr>\n",
              "      <th>1</th>\n",
              "      <td>Albania</td>\n",
              "      <td>Europe</td>\n",
              "      <td>Southern Europe</td>\n",
              "      <td>Developed regions</td>\n",
              "      <td>1</td>\n",
              "      <td>0</td>\n",
              "      <td>0</td>\n",
              "      <td>0</td>\n",
              "      <td>0</td>\n",
              "      <td>0</td>\n",
              "      <td>...</td>\n",
              "      <td>1450</td>\n",
              "      <td>1223</td>\n",
              "      <td>856</td>\n",
              "      <td>702</td>\n",
              "      <td>560</td>\n",
              "      <td>716</td>\n",
              "      <td>561</td>\n",
              "      <td>539</td>\n",
              "      <td>620</td>\n",
              "      <td>603</td>\n",
              "    </tr>\n",
              "  </tbody>\n",
              "</table>\n",
              "<p>2 rows × 38 columns</p>\n",
              "</div>"
            ],
            "text/plain": [
              "        OdName AreaName          RegName             DevName  1980  1981  \\\n",
              "0  Afghanistan     Asia    Southern Asia  Developing regions    16    39   \n",
              "1      Albania   Europe  Southern Europe   Developed regions     1     0   \n",
              "\n",
              "   1982  1983  1984  1985  ...  2004  2005  2006  2007  2008  2009  2010  \\\n",
              "0    39    47    71   340  ...  2978  3436  3009  2652  2111  1746  1758   \n",
              "1     0     0     0     0  ...  1450  1223   856   702   560   716   561   \n",
              "\n",
              "   2011  2012  2013  \n",
              "0  2203  2635  2004  \n",
              "1   539   620   603  \n",
              "\n",
              "[2 rows x 38 columns]"
            ]
          },
          "execution_count": 13,
          "metadata": {},
          "output_type": "execute_result"
        }
      ],
      "source": [
        "# in pandas axis=0 represents rows (default) and axis=1 represents columns.\n",
        "df_can.drop(['AREA','REG','DEV','Type','Coverage'], axis=1, inplace=True)\n",
        "df_can.head(2)"
      ]
    },
    {
      "cell_type": "markdown",
      "metadata": {
        "button": false,
        "new_sheet": false,
        "run_control": {
          "read_only": false
        }
      },
      "source": [
        "Let's rename the columns so that they make sense. We can use `rename()` method by passing in a dictionary of old and new names as follows:\n"
      ]
    },
    {
      "cell_type": "code",
      "execution_count": 14,
      "metadata": {
        "button": false,
        "new_sheet": false,
        "run_control": {
          "read_only": false
        },
        "trusted": true
      },
      "outputs": [
        {
          "data": {
            "text/plain": [
              "Index([  'Country', 'Continent',    'Region',   'DevName',        1980,\n",
              "              1981,        1982,        1983,        1984,        1985,\n",
              "              1986,        1987,        1988,        1989,        1990,\n",
              "              1991,        1992,        1993,        1994,        1995,\n",
              "              1996,        1997,        1998,        1999,        2000,\n",
              "              2001,        2002,        2003,        2004,        2005,\n",
              "              2006,        2007,        2008,        2009,        2010,\n",
              "              2011,        2012,        2013],\n",
              "      dtype='object')"
            ]
          },
          "execution_count": 14,
          "metadata": {},
          "output_type": "execute_result"
        }
      ],
      "source": [
        "df_can.rename(columns={'OdName':'Country', 'AreaName':'Continent', 'RegName':'Region'}, inplace=True)\n",
        "df_can.columns"
      ]
    },
    {
      "cell_type": "markdown",
      "metadata": {
        "button": false,
        "new_sheet": false,
        "run_control": {
          "read_only": false
        }
      },
      "source": [
        "We will also add a 'Total' column that sums up the total immigrants by country over the entire period 1980 - 2013, as follows:\n"
      ]
    },
    {
      "cell_type": "code",
      "execution_count": 15,
      "metadata": {
        "button": false,
        "new_sheet": false,
        "run_control": {
          "read_only": false
        },
        "trusted": true
      },
      "outputs": [
        {
          "name": "stderr",
          "output_type": "stream",
          "text": [
            "C:\\Users\\12242\\AppData\\Local\\Temp\\ipykernel_11516\\1816195432.py:1: FutureWarning: Dropping of nuisance columns in DataFrame reductions (with 'numeric_only=None') is deprecated; in a future version this will raise TypeError.  Select only valid columns before calling the reduction.\n",
            "  df_can['Total']=df_can.sum(axis=1)\n"
          ]
        }
      ],
      "source": [
        "df_can['Total']=df_can.sum(axis=1)"
      ]
    },
    {
      "attachments": {},
      "cell_type": "markdown",
      "metadata": {
        "button": false,
        "new_sheet": false,
        "run_control": {
          "read_only": false
        }
      },
      "source": [
        "Check to see how many null objects we have in the dataset.\n"
      ]
    },
    {
      "cell_type": "code",
      "execution_count": 16,
      "metadata": {
        "button": false,
        "new_sheet": false,
        "run_control": {
          "read_only": false
        },
        "scrolled": true,
        "trusted": true
      },
      "outputs": [
        {
          "data": {
            "text/plain": [
              "Country      0\n",
              "Continent    0\n",
              "Region       0\n",
              "DevName      0\n",
              "1980         0\n",
              "1981         0\n",
              "1982         0\n",
              "1983         0\n",
              "1984         0\n",
              "1985         0\n",
              "1986         0\n",
              "1987         0\n",
              "1988         0\n",
              "1989         0\n",
              "1990         0\n",
              "1991         0\n",
              "1992         0\n",
              "1993         0\n",
              "1994         0\n",
              "1995         0\n",
              "1996         0\n",
              "1997         0\n",
              "1998         0\n",
              "1999         0\n",
              "2000         0\n",
              "2001         0\n",
              "2002         0\n",
              "2003         0\n",
              "2004         0\n",
              "2005         0\n",
              "2006         0\n",
              "2007         0\n",
              "2008         0\n",
              "2009         0\n",
              "2010         0\n",
              "2011         0\n",
              "2012         0\n",
              "2013         0\n",
              "Total        0\n",
              "dtype: int64"
            ]
          },
          "execution_count": 16,
          "metadata": {},
          "output_type": "execute_result"
        }
      ],
      "source": [
        "df_can.isnull().sum()"
      ]
    },
    {
      "attachments": {},
      "cell_type": "markdown",
      "metadata": {
        "button": false,
        "new_sheet": false,
        "run_control": {
          "read_only": false
        }
      },
      "source": [
        "Finally, let's view a quick summary of each column in our dataframe"
      ]
    },
    {
      "cell_type": "code",
      "execution_count": 17,
      "metadata": {
        "button": false,
        "new_sheet": false,
        "run_control": {
          "read_only": false
        },
        "trusted": true
      },
      "outputs": [
        {
          "data": {
            "text/html": [
              "<div>\n",
              "<style scoped>\n",
              "    .dataframe tbody tr th:only-of-type {\n",
              "        vertical-align: middle;\n",
              "    }\n",
              "\n",
              "    .dataframe tbody tr th {\n",
              "        vertical-align: top;\n",
              "    }\n",
              "\n",
              "    .dataframe thead th {\n",
              "        text-align: right;\n",
              "    }\n",
              "</style>\n",
              "<table border=\"1\" class=\"dataframe\">\n",
              "  <thead>\n",
              "    <tr style=\"text-align: right;\">\n",
              "      <th></th>\n",
              "      <th>1980</th>\n",
              "      <th>1981</th>\n",
              "      <th>1982</th>\n",
              "      <th>1983</th>\n",
              "      <th>1984</th>\n",
              "      <th>1985</th>\n",
              "      <th>1986</th>\n",
              "      <th>1987</th>\n",
              "      <th>1988</th>\n",
              "      <th>1989</th>\n",
              "      <th>...</th>\n",
              "      <th>2005</th>\n",
              "      <th>2006</th>\n",
              "      <th>2007</th>\n",
              "      <th>2008</th>\n",
              "      <th>2009</th>\n",
              "      <th>2010</th>\n",
              "      <th>2011</th>\n",
              "      <th>2012</th>\n",
              "      <th>2013</th>\n",
              "      <th>Total</th>\n",
              "    </tr>\n",
              "  </thead>\n",
              "  <tbody>\n",
              "    <tr>\n",
              "      <th>count</th>\n",
              "      <td>195.000000</td>\n",
              "      <td>195.000000</td>\n",
              "      <td>195.000000</td>\n",
              "      <td>195.000000</td>\n",
              "      <td>195.000000</td>\n",
              "      <td>195.000000</td>\n",
              "      <td>195.000000</td>\n",
              "      <td>195.000000</td>\n",
              "      <td>195.000000</td>\n",
              "      <td>195.000000</td>\n",
              "      <td>...</td>\n",
              "      <td>195.000000</td>\n",
              "      <td>195.000000</td>\n",
              "      <td>195.000000</td>\n",
              "      <td>195.000000</td>\n",
              "      <td>195.000000</td>\n",
              "      <td>195.000000</td>\n",
              "      <td>195.000000</td>\n",
              "      <td>195.000000</td>\n",
              "      <td>195.000000</td>\n",
              "      <td>195.000000</td>\n",
              "    </tr>\n",
              "    <tr>\n",
              "      <th>mean</th>\n",
              "      <td>508.394872</td>\n",
              "      <td>566.989744</td>\n",
              "      <td>534.723077</td>\n",
              "      <td>387.435897</td>\n",
              "      <td>376.497436</td>\n",
              "      <td>358.861538</td>\n",
              "      <td>441.271795</td>\n",
              "      <td>691.133333</td>\n",
              "      <td>714.389744</td>\n",
              "      <td>843.241026</td>\n",
              "      <td>...</td>\n",
              "      <td>1320.292308</td>\n",
              "      <td>1266.958974</td>\n",
              "      <td>1191.820513</td>\n",
              "      <td>1246.394872</td>\n",
              "      <td>1275.733333</td>\n",
              "      <td>1420.287179</td>\n",
              "      <td>1262.533333</td>\n",
              "      <td>1313.958974</td>\n",
              "      <td>1320.702564</td>\n",
              "      <td>32867.451282</td>\n",
              "    </tr>\n",
              "    <tr>\n",
              "      <th>std</th>\n",
              "      <td>1949.588546</td>\n",
              "      <td>2152.643752</td>\n",
              "      <td>1866.997511</td>\n",
              "      <td>1204.333597</td>\n",
              "      <td>1198.246371</td>\n",
              "      <td>1079.309600</td>\n",
              "      <td>1225.576630</td>\n",
              "      <td>2109.205607</td>\n",
              "      <td>2443.606788</td>\n",
              "      <td>2555.048874</td>\n",
              "      <td>...</td>\n",
              "      <td>4425.957828</td>\n",
              "      <td>3926.717747</td>\n",
              "      <td>3443.542409</td>\n",
              "      <td>3694.573544</td>\n",
              "      <td>3829.630424</td>\n",
              "      <td>4462.946328</td>\n",
              "      <td>4030.084313</td>\n",
              "      <td>4247.555161</td>\n",
              "      <td>4237.951988</td>\n",
              "      <td>91785.498686</td>\n",
              "    </tr>\n",
              "    <tr>\n",
              "      <th>min</th>\n",
              "      <td>0.000000</td>\n",
              "      <td>0.000000</td>\n",
              "      <td>0.000000</td>\n",
              "      <td>0.000000</td>\n",
              "      <td>0.000000</td>\n",
              "      <td>0.000000</td>\n",
              "      <td>0.000000</td>\n",
              "      <td>0.000000</td>\n",
              "      <td>0.000000</td>\n",
              "      <td>0.000000</td>\n",
              "      <td>...</td>\n",
              "      <td>0.000000</td>\n",
              "      <td>0.000000</td>\n",
              "      <td>0.000000</td>\n",
              "      <td>0.000000</td>\n",
              "      <td>0.000000</td>\n",
              "      <td>0.000000</td>\n",
              "      <td>0.000000</td>\n",
              "      <td>0.000000</td>\n",
              "      <td>0.000000</td>\n",
              "      <td>1.000000</td>\n",
              "    </tr>\n",
              "    <tr>\n",
              "      <th>25%</th>\n",
              "      <td>0.000000</td>\n",
              "      <td>0.000000</td>\n",
              "      <td>0.000000</td>\n",
              "      <td>0.000000</td>\n",
              "      <td>0.000000</td>\n",
              "      <td>0.000000</td>\n",
              "      <td>0.500000</td>\n",
              "      <td>0.500000</td>\n",
              "      <td>1.000000</td>\n",
              "      <td>1.000000</td>\n",
              "      <td>...</td>\n",
              "      <td>28.500000</td>\n",
              "      <td>25.000000</td>\n",
              "      <td>31.000000</td>\n",
              "      <td>31.000000</td>\n",
              "      <td>36.000000</td>\n",
              "      <td>40.500000</td>\n",
              "      <td>37.500000</td>\n",
              "      <td>42.500000</td>\n",
              "      <td>45.000000</td>\n",
              "      <td>952.000000</td>\n",
              "    </tr>\n",
              "    <tr>\n",
              "      <th>50%</th>\n",
              "      <td>13.000000</td>\n",
              "      <td>10.000000</td>\n",
              "      <td>11.000000</td>\n",
              "      <td>12.000000</td>\n",
              "      <td>13.000000</td>\n",
              "      <td>17.000000</td>\n",
              "      <td>18.000000</td>\n",
              "      <td>26.000000</td>\n",
              "      <td>34.000000</td>\n",
              "      <td>44.000000</td>\n",
              "      <td>...</td>\n",
              "      <td>210.000000</td>\n",
              "      <td>218.000000</td>\n",
              "      <td>198.000000</td>\n",
              "      <td>205.000000</td>\n",
              "      <td>214.000000</td>\n",
              "      <td>211.000000</td>\n",
              "      <td>179.000000</td>\n",
              "      <td>233.000000</td>\n",
              "      <td>213.000000</td>\n",
              "      <td>5018.000000</td>\n",
              "    </tr>\n",
              "    <tr>\n",
              "      <th>75%</th>\n",
              "      <td>251.500000</td>\n",
              "      <td>295.500000</td>\n",
              "      <td>275.000000</td>\n",
              "      <td>173.000000</td>\n",
              "      <td>181.000000</td>\n",
              "      <td>197.000000</td>\n",
              "      <td>254.000000</td>\n",
              "      <td>434.000000</td>\n",
              "      <td>409.000000</td>\n",
              "      <td>508.500000</td>\n",
              "      <td>...</td>\n",
              "      <td>832.000000</td>\n",
              "      <td>842.000000</td>\n",
              "      <td>899.000000</td>\n",
              "      <td>934.500000</td>\n",
              "      <td>888.000000</td>\n",
              "      <td>932.000000</td>\n",
              "      <td>772.000000</td>\n",
              "      <td>783.000000</td>\n",
              "      <td>796.000000</td>\n",
              "      <td>22239.500000</td>\n",
              "    </tr>\n",
              "    <tr>\n",
              "      <th>max</th>\n",
              "      <td>22045.000000</td>\n",
              "      <td>24796.000000</td>\n",
              "      <td>20620.000000</td>\n",
              "      <td>10015.000000</td>\n",
              "      <td>10170.000000</td>\n",
              "      <td>9564.000000</td>\n",
              "      <td>9470.000000</td>\n",
              "      <td>21337.000000</td>\n",
              "      <td>27359.000000</td>\n",
              "      <td>23795.000000</td>\n",
              "      <td>...</td>\n",
              "      <td>42584.000000</td>\n",
              "      <td>33848.000000</td>\n",
              "      <td>28742.000000</td>\n",
              "      <td>30037.000000</td>\n",
              "      <td>29622.000000</td>\n",
              "      <td>38617.000000</td>\n",
              "      <td>36765.000000</td>\n",
              "      <td>34315.000000</td>\n",
              "      <td>34129.000000</td>\n",
              "      <td>691904.000000</td>\n",
              "    </tr>\n",
              "  </tbody>\n",
              "</table>\n",
              "<p>8 rows × 35 columns</p>\n",
              "</div>"
            ],
            "text/plain": [
              "               1980          1981          1982          1983          1984  \\\n",
              "count    195.000000    195.000000    195.000000    195.000000    195.000000   \n",
              "mean     508.394872    566.989744    534.723077    387.435897    376.497436   \n",
              "std     1949.588546   2152.643752   1866.997511   1204.333597   1198.246371   \n",
              "min        0.000000      0.000000      0.000000      0.000000      0.000000   \n",
              "25%        0.000000      0.000000      0.000000      0.000000      0.000000   \n",
              "50%       13.000000     10.000000     11.000000     12.000000     13.000000   \n",
              "75%      251.500000    295.500000    275.000000    173.000000    181.000000   \n",
              "max    22045.000000  24796.000000  20620.000000  10015.000000  10170.000000   \n",
              "\n",
              "              1985         1986          1987          1988          1989  \\\n",
              "count   195.000000   195.000000    195.000000    195.000000    195.000000   \n",
              "mean    358.861538   441.271795    691.133333    714.389744    843.241026   \n",
              "std    1079.309600  1225.576630   2109.205607   2443.606788   2555.048874   \n",
              "min       0.000000     0.000000      0.000000      0.000000      0.000000   \n",
              "25%       0.000000     0.500000      0.500000      1.000000      1.000000   \n",
              "50%      17.000000    18.000000     26.000000     34.000000     44.000000   \n",
              "75%     197.000000   254.000000    434.000000    409.000000    508.500000   \n",
              "max    9564.000000  9470.000000  21337.000000  27359.000000  23795.000000   \n",
              "\n",
              "       ...          2005          2006          2007          2008  \\\n",
              "count  ...    195.000000    195.000000    195.000000    195.000000   \n",
              "mean   ...   1320.292308   1266.958974   1191.820513   1246.394872   \n",
              "std    ...   4425.957828   3926.717747   3443.542409   3694.573544   \n",
              "min    ...      0.000000      0.000000      0.000000      0.000000   \n",
              "25%    ...     28.500000     25.000000     31.000000     31.000000   \n",
              "50%    ...    210.000000    218.000000    198.000000    205.000000   \n",
              "75%    ...    832.000000    842.000000    899.000000    934.500000   \n",
              "max    ...  42584.000000  33848.000000  28742.000000  30037.000000   \n",
              "\n",
              "               2009          2010          2011          2012          2013  \\\n",
              "count    195.000000    195.000000    195.000000    195.000000    195.000000   \n",
              "mean    1275.733333   1420.287179   1262.533333   1313.958974   1320.702564   \n",
              "std     3829.630424   4462.946328   4030.084313   4247.555161   4237.951988   \n",
              "min        0.000000      0.000000      0.000000      0.000000      0.000000   \n",
              "25%       36.000000     40.500000     37.500000     42.500000     45.000000   \n",
              "50%      214.000000    211.000000    179.000000    233.000000    213.000000   \n",
              "75%      888.000000    932.000000    772.000000    783.000000    796.000000   \n",
              "max    29622.000000  38617.000000  36765.000000  34315.000000  34129.000000   \n",
              "\n",
              "               Total  \n",
              "count     195.000000  \n",
              "mean    32867.451282  \n",
              "std     91785.498686  \n",
              "min         1.000000  \n",
              "25%       952.000000  \n",
              "50%      5018.000000  \n",
              "75%     22239.500000  \n",
              "max    691904.000000  \n",
              "\n",
              "[8 rows x 35 columns]"
            ]
          },
          "execution_count": 17,
          "metadata": {},
          "output_type": "execute_result"
        }
      ],
      "source": [
        "df_can.describe()"
      ]
    },
    {
      "cell_type": "markdown",
      "metadata": {
        "button": false,
        "new_sheet": false,
        "run_control": {
          "read_only": false
        }
      },
      "source": [
        "***\n",
        "\n",
        "## *pandas* Intermediate: Indexing and Selection (slicing)<a id=\"6\"></a>\n"
      ]
    },
    {
      "cell_type": "markdown",
      "metadata": {
        "button": false,
        "new_sheet": false,
        "run_control": {
          "read_only": false
        }
      },
      "source": [
        "### Select Column\n",
        "\n",
        "**There are two ways to filter on a column name:**\n",
        "\n",
        "Method 1: Quick and easy, but only works if the column name does NOT have spaces or special characters.\n",
        "\n",
        "```python\n",
        "    df.column_name               # returns series\n",
        "```\n",
        "\n",
        "Method 2: More robust, and can filter on multiple columns.\n",
        "\n",
        "```python\n",
        "    df['column']                  # returns series\n",
        "```\n",
        "\n",
        "```python\n",
        "    df[['column 1', 'column 2']]  # returns dataframe\n",
        "```\n",
        "\n",
        "***\n"
      ]
    },
    {
      "cell_type": "markdown",
      "metadata": {
        "button": false,
        "new_sheet": false,
        "run_control": {
          "read_only": false
        }
      },
      "source": [
        "Example: Let's try filtering on the list of countries ('Country').\n"
      ]
    },
    {
      "cell_type": "code",
      "execution_count": 18,
      "metadata": {
        "button": false,
        "new_sheet": false,
        "run_control": {
          "read_only": false
        },
        "scrolled": true,
        "trusted": true
      },
      "outputs": [
        {
          "data": {
            "text/plain": [
              "0         Afghanistan\n",
              "1             Albania\n",
              "2             Algeria\n",
              "3      American Samoa\n",
              "4             Andorra\n",
              "            ...      \n",
              "190          Viet Nam\n",
              "191    Western Sahara\n",
              "192             Yemen\n",
              "193            Zambia\n",
              "194          Zimbabwe\n",
              "Name: Country, Length: 195, dtype: object"
            ]
          },
          "execution_count": 18,
          "metadata": {},
          "output_type": "execute_result"
        }
      ],
      "source": [
        "df_can.Country  # returns a series"
      ]
    },
    {
      "cell_type": "markdown",
      "metadata": {
        "button": false,
        "new_sheet": false,
        "run_control": {
          "read_only": false
        }
      },
      "source": [
        "Let's try filtering on the list of countries ('Country') and the data for years: 1980 - 1985.\n"
      ]
    },
    {
      "cell_type": "code",
      "execution_count": 20,
      "metadata": {
        "button": false,
        "new_sheet": false,
        "run_control": {
          "read_only": false
        },
        "trusted": true
      },
      "outputs": [
        {
          "data": {
            "text/html": [
              "<div>\n",
              "<style scoped>\n",
              "    .dataframe tbody tr th:only-of-type {\n",
              "        vertical-align: middle;\n",
              "    }\n",
              "\n",
              "    .dataframe tbody tr th {\n",
              "        vertical-align: top;\n",
              "    }\n",
              "\n",
              "    .dataframe thead th {\n",
              "        text-align: right;\n",
              "    }\n",
              "</style>\n",
              "<table border=\"1\" class=\"dataframe\">\n",
              "  <thead>\n",
              "    <tr style=\"text-align: right;\">\n",
              "      <th></th>\n",
              "      <th>Country</th>\n",
              "      <th>1980</th>\n",
              "      <th>1981</th>\n",
              "      <th>1982</th>\n",
              "      <th>1983</th>\n",
              "      <th>1984</th>\n",
              "      <th>1985</th>\n",
              "    </tr>\n",
              "  </thead>\n",
              "  <tbody>\n",
              "    <tr>\n",
              "      <th>0</th>\n",
              "      <td>Afghanistan</td>\n",
              "      <td>16</td>\n",
              "      <td>39</td>\n",
              "      <td>39</td>\n",
              "      <td>47</td>\n",
              "      <td>71</td>\n",
              "      <td>340</td>\n",
              "    </tr>\n",
              "    <tr>\n",
              "      <th>1</th>\n",
              "      <td>Albania</td>\n",
              "      <td>1</td>\n",
              "      <td>0</td>\n",
              "      <td>0</td>\n",
              "      <td>0</td>\n",
              "      <td>0</td>\n",
              "      <td>0</td>\n",
              "    </tr>\n",
              "    <tr>\n",
              "      <th>2</th>\n",
              "      <td>Algeria</td>\n",
              "      <td>80</td>\n",
              "      <td>67</td>\n",
              "      <td>71</td>\n",
              "      <td>69</td>\n",
              "      <td>63</td>\n",
              "      <td>44</td>\n",
              "    </tr>\n",
              "    <tr>\n",
              "      <th>3</th>\n",
              "      <td>American Samoa</td>\n",
              "      <td>0</td>\n",
              "      <td>1</td>\n",
              "      <td>0</td>\n",
              "      <td>0</td>\n",
              "      <td>0</td>\n",
              "      <td>0</td>\n",
              "    </tr>\n",
              "    <tr>\n",
              "      <th>4</th>\n",
              "      <td>Andorra</td>\n",
              "      <td>0</td>\n",
              "      <td>0</td>\n",
              "      <td>0</td>\n",
              "      <td>0</td>\n",
              "      <td>0</td>\n",
              "      <td>0</td>\n",
              "    </tr>\n",
              "    <tr>\n",
              "      <th>...</th>\n",
              "      <td>...</td>\n",
              "      <td>...</td>\n",
              "      <td>...</td>\n",
              "      <td>...</td>\n",
              "      <td>...</td>\n",
              "      <td>...</td>\n",
              "      <td>...</td>\n",
              "    </tr>\n",
              "    <tr>\n",
              "      <th>190</th>\n",
              "      <td>Viet Nam</td>\n",
              "      <td>1191</td>\n",
              "      <td>1829</td>\n",
              "      <td>2162</td>\n",
              "      <td>3404</td>\n",
              "      <td>7583</td>\n",
              "      <td>5907</td>\n",
              "    </tr>\n",
              "    <tr>\n",
              "      <th>191</th>\n",
              "      <td>Western Sahara</td>\n",
              "      <td>0</td>\n",
              "      <td>0</td>\n",
              "      <td>0</td>\n",
              "      <td>0</td>\n",
              "      <td>0</td>\n",
              "      <td>0</td>\n",
              "    </tr>\n",
              "    <tr>\n",
              "      <th>192</th>\n",
              "      <td>Yemen</td>\n",
              "      <td>1</td>\n",
              "      <td>2</td>\n",
              "      <td>1</td>\n",
              "      <td>6</td>\n",
              "      <td>0</td>\n",
              "      <td>18</td>\n",
              "    </tr>\n",
              "    <tr>\n",
              "      <th>193</th>\n",
              "      <td>Zambia</td>\n",
              "      <td>11</td>\n",
              "      <td>17</td>\n",
              "      <td>11</td>\n",
              "      <td>7</td>\n",
              "      <td>16</td>\n",
              "      <td>9</td>\n",
              "    </tr>\n",
              "    <tr>\n",
              "      <th>194</th>\n",
              "      <td>Zimbabwe</td>\n",
              "      <td>72</td>\n",
              "      <td>114</td>\n",
              "      <td>102</td>\n",
              "      <td>44</td>\n",
              "      <td>32</td>\n",
              "      <td>29</td>\n",
              "    </tr>\n",
              "  </tbody>\n",
              "</table>\n",
              "<p>195 rows × 7 columns</p>\n",
              "</div>"
            ],
            "text/plain": [
              "            Country  1980  1981  1982  1983  1984  1985\n",
              "0       Afghanistan    16    39    39    47    71   340\n",
              "1           Albania     1     0     0     0     0     0\n",
              "2           Algeria    80    67    71    69    63    44\n",
              "3    American Samoa     0     1     0     0     0     0\n",
              "4           Andorra     0     0     0     0     0     0\n",
              "..              ...   ...   ...   ...   ...   ...   ...\n",
              "190        Viet Nam  1191  1829  2162  3404  7583  5907\n",
              "191  Western Sahara     0     0     0     0     0     0\n",
              "192           Yemen     1     2     1     6     0    18\n",
              "193          Zambia    11    17    11     7    16     9\n",
              "194        Zimbabwe    72   114   102    44    32    29\n",
              "\n",
              "[195 rows x 7 columns]"
            ]
          },
          "execution_count": 20,
          "metadata": {},
          "output_type": "execute_result"
        }
      ],
      "source": [
        "df_can[['Country',1980,1981,1982,1983,1984,1985]]"
      ]
    },
    {
      "cell_type": "markdown",
      "metadata": {
        "button": false,
        "new_sheet": false,
        "run_control": {
          "read_only": false
        }
      },
      "source": [
        "### Select Row\n",
        "\n",
        "There are main 2 ways to select rows:\n",
        "\n",
        "```python\n",
        "    df.loc[label]    # filters by the labels of the index/column\n",
        "    df.iloc[index]   # filters by the positions of the index/column\n",
        "```\n"
      ]
    },
    {
      "attachments": {},
      "cell_type": "markdown",
      "metadata": {
        "button": false,
        "new_sheet": false,
        "run_control": {
          "read_only": false
        }
      },
      "source": [
        "Before we proceed, notice that the default index of the dataset is a numeric range from 0 to 194. This makes it very difficult to do a query by a specific country. For example to search for data on Japan, we need to know the corresponding index value.\n",
        "\n",
        "This can be fixed very easily by setting the 'Country' column as the index.\n"
      ]
    },
    {
      "cell_type": "code",
      "execution_count": 22,
      "metadata": {
        "button": false,
        "new_sheet": false,
        "run_control": {
          "read_only": false
        },
        "scrolled": true,
        "trusted": true
      },
      "outputs": [],
      "source": [
        "#df_can.reset_index('Country',inplace=True)\n",
        "df_can.set_index('Country', inplace=True)\n",
        "# tip: The opposite of set is reset. So to reset the index, we can use df_can.reset_index()"
      ]
    },
    {
      "cell_type": "code",
      "execution_count": 23,
      "metadata": {
        "button": false,
        "new_sheet": false,
        "run_control": {
          "read_only": false
        },
        "trusted": true
      },
      "outputs": [
        {
          "data": {
            "text/html": [
              "<div>\n",
              "<style scoped>\n",
              "    .dataframe tbody tr th:only-of-type {\n",
              "        vertical-align: middle;\n",
              "    }\n",
              "\n",
              "    .dataframe tbody tr th {\n",
              "        vertical-align: top;\n",
              "    }\n",
              "\n",
              "    .dataframe thead th {\n",
              "        text-align: right;\n",
              "    }\n",
              "</style>\n",
              "<table border=\"1\" class=\"dataframe\">\n",
              "  <thead>\n",
              "    <tr style=\"text-align: right;\">\n",
              "      <th></th>\n",
              "      <th>Continent</th>\n",
              "      <th>Region</th>\n",
              "      <th>DevName</th>\n",
              "      <th>1980</th>\n",
              "      <th>1981</th>\n",
              "      <th>1982</th>\n",
              "      <th>1983</th>\n",
              "      <th>1984</th>\n",
              "      <th>1985</th>\n",
              "      <th>1986</th>\n",
              "      <th>...</th>\n",
              "      <th>2005</th>\n",
              "      <th>2006</th>\n",
              "      <th>2007</th>\n",
              "      <th>2008</th>\n",
              "      <th>2009</th>\n",
              "      <th>2010</th>\n",
              "      <th>2011</th>\n",
              "      <th>2012</th>\n",
              "      <th>2013</th>\n",
              "      <th>Total</th>\n",
              "    </tr>\n",
              "    <tr>\n",
              "      <th>Country</th>\n",
              "      <th></th>\n",
              "      <th></th>\n",
              "      <th></th>\n",
              "      <th></th>\n",
              "      <th></th>\n",
              "      <th></th>\n",
              "      <th></th>\n",
              "      <th></th>\n",
              "      <th></th>\n",
              "      <th></th>\n",
              "      <th></th>\n",
              "      <th></th>\n",
              "      <th></th>\n",
              "      <th></th>\n",
              "      <th></th>\n",
              "      <th></th>\n",
              "      <th></th>\n",
              "      <th></th>\n",
              "      <th></th>\n",
              "      <th></th>\n",
              "      <th></th>\n",
              "    </tr>\n",
              "  </thead>\n",
              "  <tbody>\n",
              "    <tr>\n",
              "      <th>Afghanistan</th>\n",
              "      <td>Asia</td>\n",
              "      <td>Southern Asia</td>\n",
              "      <td>Developing regions</td>\n",
              "      <td>16</td>\n",
              "      <td>39</td>\n",
              "      <td>39</td>\n",
              "      <td>47</td>\n",
              "      <td>71</td>\n",
              "      <td>340</td>\n",
              "      <td>496</td>\n",
              "      <td>...</td>\n",
              "      <td>3436</td>\n",
              "      <td>3009</td>\n",
              "      <td>2652</td>\n",
              "      <td>2111</td>\n",
              "      <td>1746</td>\n",
              "      <td>1758</td>\n",
              "      <td>2203</td>\n",
              "      <td>2635</td>\n",
              "      <td>2004</td>\n",
              "      <td>58639</td>\n",
              "    </tr>\n",
              "    <tr>\n",
              "      <th>Albania</th>\n",
              "      <td>Europe</td>\n",
              "      <td>Southern Europe</td>\n",
              "      <td>Developed regions</td>\n",
              "      <td>1</td>\n",
              "      <td>0</td>\n",
              "      <td>0</td>\n",
              "      <td>0</td>\n",
              "      <td>0</td>\n",
              "      <td>0</td>\n",
              "      <td>1</td>\n",
              "      <td>...</td>\n",
              "      <td>1223</td>\n",
              "      <td>856</td>\n",
              "      <td>702</td>\n",
              "      <td>560</td>\n",
              "      <td>716</td>\n",
              "      <td>561</td>\n",
              "      <td>539</td>\n",
              "      <td>620</td>\n",
              "      <td>603</td>\n",
              "      <td>15699</td>\n",
              "    </tr>\n",
              "    <tr>\n",
              "      <th>Algeria</th>\n",
              "      <td>Africa</td>\n",
              "      <td>Northern Africa</td>\n",
              "      <td>Developing regions</td>\n",
              "      <td>80</td>\n",
              "      <td>67</td>\n",
              "      <td>71</td>\n",
              "      <td>69</td>\n",
              "      <td>63</td>\n",
              "      <td>44</td>\n",
              "      <td>69</td>\n",
              "      <td>...</td>\n",
              "      <td>3626</td>\n",
              "      <td>4807</td>\n",
              "      <td>3623</td>\n",
              "      <td>4005</td>\n",
              "      <td>5393</td>\n",
              "      <td>4752</td>\n",
              "      <td>4325</td>\n",
              "      <td>3774</td>\n",
              "      <td>4331</td>\n",
              "      <td>69439</td>\n",
              "    </tr>\n",
              "  </tbody>\n",
              "</table>\n",
              "<p>3 rows × 38 columns</p>\n",
              "</div>"
            ],
            "text/plain": [
              "            Continent           Region             DevName  1980  1981  1982  \\\n",
              "Country                                                                        \n",
              "Afghanistan      Asia    Southern Asia  Developing regions    16    39    39   \n",
              "Albania        Europe  Southern Europe   Developed regions     1     0     0   \n",
              "Algeria        Africa  Northern Africa  Developing regions    80    67    71   \n",
              "\n",
              "             1983  1984  1985  1986  ...  2005  2006  2007  2008  2009  2010  \\\n",
              "Country                              ...                                       \n",
              "Afghanistan    47    71   340   496  ...  3436  3009  2652  2111  1746  1758   \n",
              "Albania         0     0     0     1  ...  1223   856   702   560   716   561   \n",
              "Algeria        69    63    44    69  ...  3626  4807  3623  4005  5393  4752   \n",
              "\n",
              "             2011  2012  2013  Total  \n",
              "Country                               \n",
              "Afghanistan  2203  2635  2004  58639  \n",
              "Albania       539   620   603  15699  \n",
              "Algeria      4325  3774  4331  69439  \n",
              "\n",
              "[3 rows x 38 columns]"
            ]
          },
          "execution_count": 23,
          "metadata": {},
          "output_type": "execute_result"
        }
      ],
      "source": [
        "df_can.head(3)"
      ]
    },
    {
      "cell_type": "markdown",
      "metadata": {
        "button": false,
        "new_sheet": false,
        "run_control": {
          "read_only": false
        }
      },
      "source": [
        "Example: Let's view the number of immigrants from Japan (row 87) for the following scenarios:\n",
        "1\\. The full row data (all columns)\n",
        "2\\. For year 2013\n",
        "3\\. For years 1980 to 1985\n"
      ]
    },
    {
      "cell_type": "code",
      "execution_count": 24,
      "metadata": {
        "button": false,
        "new_sheet": false,
        "run_control": {
          "read_only": false
        },
        "scrolled": true,
        "trusted": true
      },
      "outputs": [
        {
          "data": {
            "text/plain": [
              "Continent                 Asia\n",
              "Region            Eastern Asia\n",
              "DevName      Developed regions\n",
              "1980                       701\n",
              "1981                       756\n",
              "1982                       598\n",
              "1983                       309\n",
              "1984                       246\n",
              "1985                       198\n",
              "1986                       248\n",
              "1987                       422\n",
              "1988                       324\n",
              "1989                       494\n",
              "1990                       379\n",
              "1991                       506\n",
              "1992                       605\n",
              "1993                       907\n",
              "1994                       956\n",
              "1995                       826\n",
              "1996                       994\n",
              "1997                       924\n",
              "1998                       897\n",
              "1999                      1083\n",
              "2000                      1010\n",
              "2001                      1092\n",
              "2002                       806\n",
              "2003                       817\n",
              "2004                       973\n",
              "2005                      1067\n",
              "2006                      1212\n",
              "2007                      1250\n",
              "2008                      1284\n",
              "2009                      1194\n",
              "2010                      1168\n",
              "2011                      1265\n",
              "2012                      1214\n",
              "2013                       982\n",
              "Total                    27707\n",
              "Name: Japan, dtype: object"
            ]
          },
          "execution_count": 24,
          "metadata": {},
          "output_type": "execute_result"
        }
      ],
      "source": [
        "# 1. the full row data (all columns)\n",
        "df_can.loc['Japan']"
      ]
    },
    {
      "cell_type": "code",
      "execution_count": 25,
      "metadata": {
        "collapsed": false,
        "jupyter": {
          "outputs_hidden": false
        },
        "pycharm": {
          "name": "#%%\n"
        },
        "trusted": true
      },
      "outputs": [
        {
          "data": {
            "text/plain": [
              "Continent                 Asia\n",
              "Region            Eastern Asia\n",
              "DevName      Developed regions\n",
              "1980                       701\n",
              "1981                       756\n",
              "1982                       598\n",
              "1983                       309\n",
              "1984                       246\n",
              "1985                       198\n",
              "1986                       248\n",
              "1987                       422\n",
              "1988                       324\n",
              "1989                       494\n",
              "1990                       379\n",
              "1991                       506\n",
              "1992                       605\n",
              "1993                       907\n",
              "1994                       956\n",
              "1995                       826\n",
              "1996                       994\n",
              "1997                       924\n",
              "1998                       897\n",
              "1999                      1083\n",
              "2000                      1010\n",
              "2001                      1092\n",
              "2002                       806\n",
              "2003                       817\n",
              "2004                       973\n",
              "2005                      1067\n",
              "2006                      1212\n",
              "2007                      1250\n",
              "2008                      1284\n",
              "2009                      1194\n",
              "2010                      1168\n",
              "2011                      1265\n",
              "2012                      1214\n",
              "2013                       982\n",
              "Total                    27707\n",
              "Name: Japan, dtype: object"
            ]
          },
          "execution_count": 25,
          "metadata": {},
          "output_type": "execute_result"
        }
      ],
      "source": [
        "# alternate methods\n",
        "df_can.iloc[87]"
      ]
    },
    {
      "cell_type": "code",
      "execution_count": 26,
      "metadata": {
        "collapsed": false,
        "jupyter": {
          "outputs_hidden": false
        },
        "pycharm": {
          "name": "#%%\n"
        },
        "trusted": true
      },
      "outputs": [
        {
          "data": {
            "text/html": [
              "<div>\n",
              "<style scoped>\n",
              "    .dataframe tbody tr th:only-of-type {\n",
              "        vertical-align: middle;\n",
              "    }\n",
              "\n",
              "    .dataframe tbody tr th {\n",
              "        vertical-align: top;\n",
              "    }\n",
              "\n",
              "    .dataframe thead th {\n",
              "        text-align: right;\n",
              "    }\n",
              "</style>\n",
              "<table border=\"1\" class=\"dataframe\">\n",
              "  <thead>\n",
              "    <tr style=\"text-align: right;\">\n",
              "      <th></th>\n",
              "      <th>Continent</th>\n",
              "      <th>Region</th>\n",
              "      <th>DevName</th>\n",
              "      <th>1980</th>\n",
              "      <th>1981</th>\n",
              "      <th>1982</th>\n",
              "      <th>1983</th>\n",
              "      <th>1984</th>\n",
              "      <th>1985</th>\n",
              "      <th>1986</th>\n",
              "      <th>...</th>\n",
              "      <th>2005</th>\n",
              "      <th>2006</th>\n",
              "      <th>2007</th>\n",
              "      <th>2008</th>\n",
              "      <th>2009</th>\n",
              "      <th>2010</th>\n",
              "      <th>2011</th>\n",
              "      <th>2012</th>\n",
              "      <th>2013</th>\n",
              "      <th>Total</th>\n",
              "    </tr>\n",
              "    <tr>\n",
              "      <th>Country</th>\n",
              "      <th></th>\n",
              "      <th></th>\n",
              "      <th></th>\n",
              "      <th></th>\n",
              "      <th></th>\n",
              "      <th></th>\n",
              "      <th></th>\n",
              "      <th></th>\n",
              "      <th></th>\n",
              "      <th></th>\n",
              "      <th></th>\n",
              "      <th></th>\n",
              "      <th></th>\n",
              "      <th></th>\n",
              "      <th></th>\n",
              "      <th></th>\n",
              "      <th></th>\n",
              "      <th></th>\n",
              "      <th></th>\n",
              "      <th></th>\n",
              "      <th></th>\n",
              "    </tr>\n",
              "  </thead>\n",
              "  <tbody>\n",
              "    <tr>\n",
              "      <th>Japan</th>\n",
              "      <td>Asia</td>\n",
              "      <td>Eastern Asia</td>\n",
              "      <td>Developed regions</td>\n",
              "      <td>701</td>\n",
              "      <td>756</td>\n",
              "      <td>598</td>\n",
              "      <td>309</td>\n",
              "      <td>246</td>\n",
              "      <td>198</td>\n",
              "      <td>248</td>\n",
              "      <td>...</td>\n",
              "      <td>1067</td>\n",
              "      <td>1212</td>\n",
              "      <td>1250</td>\n",
              "      <td>1284</td>\n",
              "      <td>1194</td>\n",
              "      <td>1168</td>\n",
              "      <td>1265</td>\n",
              "      <td>1214</td>\n",
              "      <td>982</td>\n",
              "      <td>27707</td>\n",
              "    </tr>\n",
              "  </tbody>\n",
              "</table>\n",
              "<p>1 rows × 38 columns</p>\n",
              "</div>"
            ],
            "text/plain": [
              "        Continent        Region            DevName  1980  1981  1982  1983  \\\n",
              "Country                                                                      \n",
              "Japan        Asia  Eastern Asia  Developed regions   701   756   598   309   \n",
              "\n",
              "         1984  1985  1986  ...  2005  2006  2007  2008  2009  2010  2011  \\\n",
              "Country                    ...                                             \n",
              "Japan     246   198   248  ...  1067  1212  1250  1284  1194  1168  1265   \n",
              "\n",
              "         2012  2013  Total  \n",
              "Country                     \n",
              "Japan    1214   982  27707  \n",
              "\n",
              "[1 rows x 38 columns]"
            ]
          },
          "execution_count": 26,
          "metadata": {},
          "output_type": "execute_result"
        }
      ],
      "source": [
        "df_can[df_can.index == 'Japan']"
      ]
    },
    {
      "cell_type": "code",
      "execution_count": 27,
      "metadata": {
        "button": false,
        "new_sheet": false,
        "run_control": {
          "read_only": false
        },
        "scrolled": true,
        "trusted": true
      },
      "outputs": [
        {
          "data": {
            "text/plain": [
              "982"
            ]
          },
          "execution_count": 27,
          "metadata": {},
          "output_type": "execute_result"
        }
      ],
      "source": [
        "# 2. for year 2013\n",
        "df_can.loc['Japan', 2013]"
      ]
    },
    {
      "cell_type": "code",
      "execution_count": 28,
      "metadata": {
        "collapsed": false,
        "jupyter": {
          "outputs_hidden": false
        },
        "pycharm": {
          "name": "#%%\n"
        },
        "trusted": true
      },
      "outputs": [
        {
          "data": {
            "text/plain": [
              "982"
            ]
          },
          "execution_count": 28,
          "metadata": {},
          "output_type": "execute_result"
        }
      ],
      "source": [
        "# alternate method\n",
        "# year 2013 is the last column, with a positional index of 36\n",
        "df_can.iloc[87, 36]"
      ]
    },
    {
      "cell_type": "code",
      "execution_count": 29,
      "metadata": {
        "button": false,
        "new_sheet": false,
        "run_control": {
          "read_only": false
        },
        "trusted": true
      },
      "outputs": [
        {
          "data": {
            "text/plain": [
              "1980    701\n",
              "1981    756\n",
              "1982    598\n",
              "1983    309\n",
              "1984    246\n",
              "1984    246\n",
              "Name: Japan, dtype: object"
            ]
          },
          "execution_count": 29,
          "metadata": {},
          "output_type": "execute_result"
        }
      ],
      "source": [
        "# 3. for years 1980 to 1985\n",
        "df_can.loc['Japan', [1980, 1981, 1982, 1983, 1984, 1984]]"
      ]
    },
    {
      "cell_type": "code",
      "execution_count": 30,
      "metadata": {
        "collapsed": false,
        "jupyter": {
          "outputs_hidden": false
        },
        "pycharm": {
          "name": "#%%\n"
        },
        "trusted": true
      },
      "outputs": [
        {
          "data": {
            "text/plain": [
              "1980    701\n",
              "1981    756\n",
              "1982    598\n",
              "1983    309\n",
              "1984    246\n",
              "1985    198\n",
              "Name: Japan, dtype: object"
            ]
          },
          "execution_count": 30,
          "metadata": {},
          "output_type": "execute_result"
        }
      ],
      "source": [
        "# Alternative Method\n",
        "df_can.iloc[87, [3, 4, 5, 6, 7, 8]]"
      ]
    },
    {
      "cell_type": "markdown",
      "metadata": {
        "button": false,
        "new_sheet": false,
        "run_control": {
          "read_only": false
        }
      },
      "source": [
        "Column names that are integers (such as the years) might introduce some confusion. For example, when we are referencing the year 2013, one might confuse that when the 2013th positional index.\n",
        "\n",
        "To avoid this ambuigity, let's convert the column names into strings: '1980' to '2013'.\n"
      ]
    },
    {
      "cell_type": "code",
      "execution_count": 31,
      "metadata": {
        "button": false,
        "new_sheet": false,
        "run_control": {
          "read_only": false
        },
        "trusted": true
      },
      "outputs": [],
      "source": [
        "df_can.columns = list(map(str, df_can.columns))\n",
        "# [print (type(x)) for x in df_can.columns.values] #<-- uncomment to check type of column headers"
      ]
    },
    {
      "cell_type": "markdown",
      "metadata": {
        "button": false,
        "new_sheet": false,
        "run_control": {
          "read_only": false
        }
      },
      "source": [
        "Since we converted the years to string, let's declare a variable that will allow us to easily call upon the full range of years:\n"
      ]
    },
    {
      "cell_type": "code",
      "execution_count": 32,
      "metadata": {
        "button": false,
        "new_sheet": false,
        "run_control": {
          "read_only": false
        },
        "trusted": true
      },
      "outputs": [
        {
          "data": {
            "text/plain": [
              "['1980',\n",
              " '1981',\n",
              " '1982',\n",
              " '1983',\n",
              " '1984',\n",
              " '1985',\n",
              " '1986',\n",
              " '1987',\n",
              " '1988',\n",
              " '1989',\n",
              " '1990',\n",
              " '1991',\n",
              " '1992',\n",
              " '1993',\n",
              " '1994',\n",
              " '1995',\n",
              " '1996',\n",
              " '1997',\n",
              " '1998',\n",
              " '1999',\n",
              " '2000',\n",
              " '2001',\n",
              " '2002',\n",
              " '2003',\n",
              " '2004',\n",
              " '2005',\n",
              " '2006',\n",
              " '2007',\n",
              " '2008',\n",
              " '2009',\n",
              " '2010',\n",
              " '2011',\n",
              " '2012',\n",
              " '2013']"
            ]
          },
          "execution_count": 32,
          "metadata": {},
          "output_type": "execute_result"
        }
      ],
      "source": [
        "# useful for plotting later on\n",
        "years = list(map(str, range(1980, 2014)))\n",
        "years"
      ]
    },
    {
      "cell_type": "markdown",
      "metadata": {
        "button": false,
        "new_sheet": false,
        "run_control": {
          "read_only": false
        }
      },
      "source": [
        "### Filtering based on a criteria\n",
        "\n",
        "To filter the dataframe based on a condition, we simply pass the condition as a boolean vector.\n",
        "\n",
        "For example, Let's filter the dataframe to show the data on Asian countries (AreaName = Asia).\n"
      ]
    },
    {
      "cell_type": "code",
      "execution_count": 33,
      "metadata": {
        "button": false,
        "new_sheet": false,
        "run_control": {
          "read_only": false
        },
        "scrolled": true,
        "trusted": true
      },
      "outputs": [
        {
          "name": "stdout",
          "output_type": "stream",
          "text": [
            "Country\n",
            "Afghanistan        True\n",
            "Albania           False\n",
            "Algeria           False\n",
            "American Samoa    False\n",
            "Andorra           False\n",
            "                  ...  \n",
            "Viet Nam           True\n",
            "Western Sahara    False\n",
            "Yemen              True\n",
            "Zambia            False\n",
            "Zimbabwe          False\n",
            "Name: Continent, Length: 195, dtype: bool\n"
          ]
        }
      ],
      "source": [
        "# 1. create the condition boolean series\n",
        "condition = df_can['Continent'] == 'Asia'\n",
        "print(condition)"
      ]
    },
    {
      "cell_type": "code",
      "execution_count": 34,
      "metadata": {
        "button": false,
        "new_sheet": false,
        "run_control": {
          "read_only": false
        },
        "trusted": true
      },
      "outputs": [
        {
          "data": {
            "text/html": [
              "<div>\n",
              "<style scoped>\n",
              "    .dataframe tbody tr th:only-of-type {\n",
              "        vertical-align: middle;\n",
              "    }\n",
              "\n",
              "    .dataframe tbody tr th {\n",
              "        vertical-align: top;\n",
              "    }\n",
              "\n",
              "    .dataframe thead th {\n",
              "        text-align: right;\n",
              "    }\n",
              "</style>\n",
              "<table border=\"1\" class=\"dataframe\">\n",
              "  <thead>\n",
              "    <tr style=\"text-align: right;\">\n",
              "      <th></th>\n",
              "      <th>Continent</th>\n",
              "      <th>Region</th>\n",
              "      <th>DevName</th>\n",
              "      <th>1980</th>\n",
              "      <th>1981</th>\n",
              "      <th>1982</th>\n",
              "      <th>1983</th>\n",
              "      <th>1984</th>\n",
              "      <th>1985</th>\n",
              "      <th>1986</th>\n",
              "      <th>...</th>\n",
              "      <th>2005</th>\n",
              "      <th>2006</th>\n",
              "      <th>2007</th>\n",
              "      <th>2008</th>\n",
              "      <th>2009</th>\n",
              "      <th>2010</th>\n",
              "      <th>2011</th>\n",
              "      <th>2012</th>\n",
              "      <th>2013</th>\n",
              "      <th>Total</th>\n",
              "    </tr>\n",
              "    <tr>\n",
              "      <th>Country</th>\n",
              "      <th></th>\n",
              "      <th></th>\n",
              "      <th></th>\n",
              "      <th></th>\n",
              "      <th></th>\n",
              "      <th></th>\n",
              "      <th></th>\n",
              "      <th></th>\n",
              "      <th></th>\n",
              "      <th></th>\n",
              "      <th></th>\n",
              "      <th></th>\n",
              "      <th></th>\n",
              "      <th></th>\n",
              "      <th></th>\n",
              "      <th></th>\n",
              "      <th></th>\n",
              "      <th></th>\n",
              "      <th></th>\n",
              "      <th></th>\n",
              "      <th></th>\n",
              "    </tr>\n",
              "  </thead>\n",
              "  <tbody>\n",
              "    <tr>\n",
              "      <th>Afghanistan</th>\n",
              "      <td>Asia</td>\n",
              "      <td>Southern Asia</td>\n",
              "      <td>Developing regions</td>\n",
              "      <td>16</td>\n",
              "      <td>39</td>\n",
              "      <td>39</td>\n",
              "      <td>47</td>\n",
              "      <td>71</td>\n",
              "      <td>340</td>\n",
              "      <td>496</td>\n",
              "      <td>...</td>\n",
              "      <td>3436</td>\n",
              "      <td>3009</td>\n",
              "      <td>2652</td>\n",
              "      <td>2111</td>\n",
              "      <td>1746</td>\n",
              "      <td>1758</td>\n",
              "      <td>2203</td>\n",
              "      <td>2635</td>\n",
              "      <td>2004</td>\n",
              "      <td>58639</td>\n",
              "    </tr>\n",
              "    <tr>\n",
              "      <th>Armenia</th>\n",
              "      <td>Asia</td>\n",
              "      <td>Western Asia</td>\n",
              "      <td>Developing regions</td>\n",
              "      <td>0</td>\n",
              "      <td>0</td>\n",
              "      <td>0</td>\n",
              "      <td>0</td>\n",
              "      <td>0</td>\n",
              "      <td>0</td>\n",
              "      <td>0</td>\n",
              "      <td>...</td>\n",
              "      <td>224</td>\n",
              "      <td>218</td>\n",
              "      <td>198</td>\n",
              "      <td>205</td>\n",
              "      <td>267</td>\n",
              "      <td>252</td>\n",
              "      <td>236</td>\n",
              "      <td>258</td>\n",
              "      <td>207</td>\n",
              "      <td>3310</td>\n",
              "    </tr>\n",
              "    <tr>\n",
              "      <th>Azerbaijan</th>\n",
              "      <td>Asia</td>\n",
              "      <td>Western Asia</td>\n",
              "      <td>Developing regions</td>\n",
              "      <td>0</td>\n",
              "      <td>0</td>\n",
              "      <td>0</td>\n",
              "      <td>0</td>\n",
              "      <td>0</td>\n",
              "      <td>0</td>\n",
              "      <td>0</td>\n",
              "      <td>...</td>\n",
              "      <td>359</td>\n",
              "      <td>236</td>\n",
              "      <td>203</td>\n",
              "      <td>125</td>\n",
              "      <td>165</td>\n",
              "      <td>209</td>\n",
              "      <td>138</td>\n",
              "      <td>161</td>\n",
              "      <td>57</td>\n",
              "      <td>2649</td>\n",
              "    </tr>\n",
              "    <tr>\n",
              "      <th>Bahrain</th>\n",
              "      <td>Asia</td>\n",
              "      <td>Western Asia</td>\n",
              "      <td>Developing regions</td>\n",
              "      <td>0</td>\n",
              "      <td>2</td>\n",
              "      <td>1</td>\n",
              "      <td>1</td>\n",
              "      <td>1</td>\n",
              "      <td>3</td>\n",
              "      <td>0</td>\n",
              "      <td>...</td>\n",
              "      <td>12</td>\n",
              "      <td>12</td>\n",
              "      <td>22</td>\n",
              "      <td>9</td>\n",
              "      <td>35</td>\n",
              "      <td>28</td>\n",
              "      <td>21</td>\n",
              "      <td>39</td>\n",
              "      <td>32</td>\n",
              "      <td>475</td>\n",
              "    </tr>\n",
              "    <tr>\n",
              "      <th>Bangladesh</th>\n",
              "      <td>Asia</td>\n",
              "      <td>Southern Asia</td>\n",
              "      <td>Developing regions</td>\n",
              "      <td>83</td>\n",
              "      <td>84</td>\n",
              "      <td>86</td>\n",
              "      <td>81</td>\n",
              "      <td>98</td>\n",
              "      <td>92</td>\n",
              "      <td>486</td>\n",
              "      <td>...</td>\n",
              "      <td>4171</td>\n",
              "      <td>4014</td>\n",
              "      <td>2897</td>\n",
              "      <td>2939</td>\n",
              "      <td>2104</td>\n",
              "      <td>4721</td>\n",
              "      <td>2694</td>\n",
              "      <td>2640</td>\n",
              "      <td>3789</td>\n",
              "      <td>65568</td>\n",
              "    </tr>\n",
              "    <tr>\n",
              "      <th>Bhutan</th>\n",
              "      <td>Asia</td>\n",
              "      <td>Southern Asia</td>\n",
              "      <td>Developing regions</td>\n",
              "      <td>0</td>\n",
              "      <td>0</td>\n",
              "      <td>0</td>\n",
              "      <td>0</td>\n",
              "      <td>1</td>\n",
              "      <td>0</td>\n",
              "      <td>0</td>\n",
              "      <td>...</td>\n",
              "      <td>5</td>\n",
              "      <td>10</td>\n",
              "      <td>7</td>\n",
              "      <td>36</td>\n",
              "      <td>865</td>\n",
              "      <td>1464</td>\n",
              "      <td>1879</td>\n",
              "      <td>1075</td>\n",
              "      <td>487</td>\n",
              "      <td>5876</td>\n",
              "    </tr>\n",
              "    <tr>\n",
              "      <th>Brunei Darussalam</th>\n",
              "      <td>Asia</td>\n",
              "      <td>South-Eastern Asia</td>\n",
              "      <td>Developing regions</td>\n",
              "      <td>79</td>\n",
              "      <td>6</td>\n",
              "      <td>8</td>\n",
              "      <td>2</td>\n",
              "      <td>2</td>\n",
              "      <td>4</td>\n",
              "      <td>12</td>\n",
              "      <td>...</td>\n",
              "      <td>4</td>\n",
              "      <td>5</td>\n",
              "      <td>11</td>\n",
              "      <td>10</td>\n",
              "      <td>5</td>\n",
              "      <td>12</td>\n",
              "      <td>6</td>\n",
              "      <td>3</td>\n",
              "      <td>6</td>\n",
              "      <td>600</td>\n",
              "    </tr>\n",
              "    <tr>\n",
              "      <th>Cambodia</th>\n",
              "      <td>Asia</td>\n",
              "      <td>South-Eastern Asia</td>\n",
              "      <td>Developing regions</td>\n",
              "      <td>12</td>\n",
              "      <td>19</td>\n",
              "      <td>26</td>\n",
              "      <td>33</td>\n",
              "      <td>10</td>\n",
              "      <td>7</td>\n",
              "      <td>8</td>\n",
              "      <td>...</td>\n",
              "      <td>370</td>\n",
              "      <td>529</td>\n",
              "      <td>460</td>\n",
              "      <td>354</td>\n",
              "      <td>203</td>\n",
              "      <td>200</td>\n",
              "      <td>196</td>\n",
              "      <td>233</td>\n",
              "      <td>288</td>\n",
              "      <td>6538</td>\n",
              "    </tr>\n",
              "    <tr>\n",
              "      <th>China</th>\n",
              "      <td>Asia</td>\n",
              "      <td>Eastern Asia</td>\n",
              "      <td>Developing regions</td>\n",
              "      <td>5123</td>\n",
              "      <td>6682</td>\n",
              "      <td>3308</td>\n",
              "      <td>1863</td>\n",
              "      <td>1527</td>\n",
              "      <td>1816</td>\n",
              "      <td>1960</td>\n",
              "      <td>...</td>\n",
              "      <td>42584</td>\n",
              "      <td>33518</td>\n",
              "      <td>27642</td>\n",
              "      <td>30037</td>\n",
              "      <td>29622</td>\n",
              "      <td>30391</td>\n",
              "      <td>28502</td>\n",
              "      <td>33024</td>\n",
              "      <td>34129</td>\n",
              "      <td>659962</td>\n",
              "    </tr>\n",
              "    <tr>\n",
              "      <th>China, Hong Kong Special Administrative Region</th>\n",
              "      <td>Asia</td>\n",
              "      <td>Eastern Asia</td>\n",
              "      <td>Developing regions</td>\n",
              "      <td>0</td>\n",
              "      <td>0</td>\n",
              "      <td>0</td>\n",
              "      <td>0</td>\n",
              "      <td>0</td>\n",
              "      <td>0</td>\n",
              "      <td>0</td>\n",
              "      <td>...</td>\n",
              "      <td>729</td>\n",
              "      <td>712</td>\n",
              "      <td>674</td>\n",
              "      <td>897</td>\n",
              "      <td>657</td>\n",
              "      <td>623</td>\n",
              "      <td>591</td>\n",
              "      <td>728</td>\n",
              "      <td>774</td>\n",
              "      <td>9327</td>\n",
              "    </tr>\n",
              "    <tr>\n",
              "      <th>China, Macao Special Administrative Region</th>\n",
              "      <td>Asia</td>\n",
              "      <td>Eastern Asia</td>\n",
              "      <td>Developing regions</td>\n",
              "      <td>0</td>\n",
              "      <td>0</td>\n",
              "      <td>0</td>\n",
              "      <td>0</td>\n",
              "      <td>0</td>\n",
              "      <td>0</td>\n",
              "      <td>0</td>\n",
              "      <td>...</td>\n",
              "      <td>21</td>\n",
              "      <td>32</td>\n",
              "      <td>16</td>\n",
              "      <td>12</td>\n",
              "      <td>21</td>\n",
              "      <td>21</td>\n",
              "      <td>13</td>\n",
              "      <td>33</td>\n",
              "      <td>29</td>\n",
              "      <td>284</td>\n",
              "    </tr>\n",
              "    <tr>\n",
              "      <th>Cyprus</th>\n",
              "      <td>Asia</td>\n",
              "      <td>Western Asia</td>\n",
              "      <td>Developing regions</td>\n",
              "      <td>132</td>\n",
              "      <td>128</td>\n",
              "      <td>84</td>\n",
              "      <td>46</td>\n",
              "      <td>46</td>\n",
              "      <td>43</td>\n",
              "      <td>48</td>\n",
              "      <td>...</td>\n",
              "      <td>7</td>\n",
              "      <td>9</td>\n",
              "      <td>4</td>\n",
              "      <td>7</td>\n",
              "      <td>6</td>\n",
              "      <td>18</td>\n",
              "      <td>6</td>\n",
              "      <td>12</td>\n",
              "      <td>16</td>\n",
              "      <td>1126</td>\n",
              "    </tr>\n",
              "    <tr>\n",
              "      <th>Democratic People's Republic of Korea</th>\n",
              "      <td>Asia</td>\n",
              "      <td>Eastern Asia</td>\n",
              "      <td>Developing regions</td>\n",
              "      <td>1</td>\n",
              "      <td>1</td>\n",
              "      <td>3</td>\n",
              "      <td>1</td>\n",
              "      <td>4</td>\n",
              "      <td>3</td>\n",
              "      <td>0</td>\n",
              "      <td>...</td>\n",
              "      <td>14</td>\n",
              "      <td>10</td>\n",
              "      <td>7</td>\n",
              "      <td>19</td>\n",
              "      <td>11</td>\n",
              "      <td>45</td>\n",
              "      <td>97</td>\n",
              "      <td>66</td>\n",
              "      <td>17</td>\n",
              "      <td>388</td>\n",
              "    </tr>\n",
              "    <tr>\n",
              "      <th>Georgia</th>\n",
              "      <td>Asia</td>\n",
              "      <td>Western Asia</td>\n",
              "      <td>Developing regions</td>\n",
              "      <td>0</td>\n",
              "      <td>0</td>\n",
              "      <td>0</td>\n",
              "      <td>0</td>\n",
              "      <td>0</td>\n",
              "      <td>0</td>\n",
              "      <td>0</td>\n",
              "      <td>...</td>\n",
              "      <td>114</td>\n",
              "      <td>125</td>\n",
              "      <td>132</td>\n",
              "      <td>112</td>\n",
              "      <td>128</td>\n",
              "      <td>126</td>\n",
              "      <td>139</td>\n",
              "      <td>147</td>\n",
              "      <td>125</td>\n",
              "      <td>2068</td>\n",
              "    </tr>\n",
              "    <tr>\n",
              "      <th>India</th>\n",
              "      <td>Asia</td>\n",
              "      <td>Southern Asia</td>\n",
              "      <td>Developing regions</td>\n",
              "      <td>8880</td>\n",
              "      <td>8670</td>\n",
              "      <td>8147</td>\n",
              "      <td>7338</td>\n",
              "      <td>5704</td>\n",
              "      <td>4211</td>\n",
              "      <td>7150</td>\n",
              "      <td>...</td>\n",
              "      <td>36210</td>\n",
              "      <td>33848</td>\n",
              "      <td>28742</td>\n",
              "      <td>28261</td>\n",
              "      <td>29456</td>\n",
              "      <td>34235</td>\n",
              "      <td>27509</td>\n",
              "      <td>30933</td>\n",
              "      <td>33087</td>\n",
              "      <td>691904</td>\n",
              "    </tr>\n",
              "    <tr>\n",
              "      <th>Indonesia</th>\n",
              "      <td>Asia</td>\n",
              "      <td>South-Eastern Asia</td>\n",
              "      <td>Developing regions</td>\n",
              "      <td>186</td>\n",
              "      <td>178</td>\n",
              "      <td>252</td>\n",
              "      <td>115</td>\n",
              "      <td>123</td>\n",
              "      <td>100</td>\n",
              "      <td>127</td>\n",
              "      <td>...</td>\n",
              "      <td>632</td>\n",
              "      <td>613</td>\n",
              "      <td>657</td>\n",
              "      <td>661</td>\n",
              "      <td>504</td>\n",
              "      <td>712</td>\n",
              "      <td>390</td>\n",
              "      <td>395</td>\n",
              "      <td>387</td>\n",
              "      <td>13150</td>\n",
              "    </tr>\n",
              "    <tr>\n",
              "      <th>Iran (Islamic Republic of)</th>\n",
              "      <td>Asia</td>\n",
              "      <td>Southern Asia</td>\n",
              "      <td>Developing regions</td>\n",
              "      <td>1172</td>\n",
              "      <td>1429</td>\n",
              "      <td>1822</td>\n",
              "      <td>1592</td>\n",
              "      <td>1977</td>\n",
              "      <td>1648</td>\n",
              "      <td>1794</td>\n",
              "      <td>...</td>\n",
              "      <td>5837</td>\n",
              "      <td>7480</td>\n",
              "      <td>6974</td>\n",
              "      <td>6475</td>\n",
              "      <td>6580</td>\n",
              "      <td>7477</td>\n",
              "      <td>7479</td>\n",
              "      <td>7534</td>\n",
              "      <td>11291</td>\n",
              "      <td>175923</td>\n",
              "    </tr>\n",
              "    <tr>\n",
              "      <th>Iraq</th>\n",
              "      <td>Asia</td>\n",
              "      <td>Western Asia</td>\n",
              "      <td>Developing regions</td>\n",
              "      <td>262</td>\n",
              "      <td>245</td>\n",
              "      <td>260</td>\n",
              "      <td>380</td>\n",
              "      <td>428</td>\n",
              "      <td>231</td>\n",
              "      <td>265</td>\n",
              "      <td>...</td>\n",
              "      <td>2226</td>\n",
              "      <td>1788</td>\n",
              "      <td>2406</td>\n",
              "      <td>3543</td>\n",
              "      <td>5450</td>\n",
              "      <td>5941</td>\n",
              "      <td>6196</td>\n",
              "      <td>4041</td>\n",
              "      <td>4918</td>\n",
              "      <td>69789</td>\n",
              "    </tr>\n",
              "    <tr>\n",
              "      <th>Israel</th>\n",
              "      <td>Asia</td>\n",
              "      <td>Western Asia</td>\n",
              "      <td>Developing regions</td>\n",
              "      <td>1403</td>\n",
              "      <td>1711</td>\n",
              "      <td>1334</td>\n",
              "      <td>541</td>\n",
              "      <td>446</td>\n",
              "      <td>680</td>\n",
              "      <td>1212</td>\n",
              "      <td>...</td>\n",
              "      <td>2446</td>\n",
              "      <td>2625</td>\n",
              "      <td>2401</td>\n",
              "      <td>2562</td>\n",
              "      <td>2316</td>\n",
              "      <td>2755</td>\n",
              "      <td>1970</td>\n",
              "      <td>2134</td>\n",
              "      <td>1945</td>\n",
              "      <td>66508</td>\n",
              "    </tr>\n",
              "    <tr>\n",
              "      <th>Japan</th>\n",
              "      <td>Asia</td>\n",
              "      <td>Eastern Asia</td>\n",
              "      <td>Developed regions</td>\n",
              "      <td>701</td>\n",
              "      <td>756</td>\n",
              "      <td>598</td>\n",
              "      <td>309</td>\n",
              "      <td>246</td>\n",
              "      <td>198</td>\n",
              "      <td>248</td>\n",
              "      <td>...</td>\n",
              "      <td>1067</td>\n",
              "      <td>1212</td>\n",
              "      <td>1250</td>\n",
              "      <td>1284</td>\n",
              "      <td>1194</td>\n",
              "      <td>1168</td>\n",
              "      <td>1265</td>\n",
              "      <td>1214</td>\n",
              "      <td>982</td>\n",
              "      <td>27707</td>\n",
              "    </tr>\n",
              "    <tr>\n",
              "      <th>Jordan</th>\n",
              "      <td>Asia</td>\n",
              "      <td>Western Asia</td>\n",
              "      <td>Developing regions</td>\n",
              "      <td>177</td>\n",
              "      <td>160</td>\n",
              "      <td>155</td>\n",
              "      <td>113</td>\n",
              "      <td>102</td>\n",
              "      <td>179</td>\n",
              "      <td>181</td>\n",
              "      <td>...</td>\n",
              "      <td>1940</td>\n",
              "      <td>1827</td>\n",
              "      <td>1421</td>\n",
              "      <td>1581</td>\n",
              "      <td>1235</td>\n",
              "      <td>1831</td>\n",
              "      <td>1635</td>\n",
              "      <td>1206</td>\n",
              "      <td>1255</td>\n",
              "      <td>35406</td>\n",
              "    </tr>\n",
              "    <tr>\n",
              "      <th>Kazakhstan</th>\n",
              "      <td>Asia</td>\n",
              "      <td>Central Asia</td>\n",
              "      <td>Developing regions</td>\n",
              "      <td>0</td>\n",
              "      <td>0</td>\n",
              "      <td>0</td>\n",
              "      <td>0</td>\n",
              "      <td>0</td>\n",
              "      <td>0</td>\n",
              "      <td>0</td>\n",
              "      <td>...</td>\n",
              "      <td>506</td>\n",
              "      <td>408</td>\n",
              "      <td>436</td>\n",
              "      <td>394</td>\n",
              "      <td>431</td>\n",
              "      <td>377</td>\n",
              "      <td>381</td>\n",
              "      <td>462</td>\n",
              "      <td>348</td>\n",
              "      <td>8490</td>\n",
              "    </tr>\n",
              "    <tr>\n",
              "      <th>Kuwait</th>\n",
              "      <td>Asia</td>\n",
              "      <td>Western Asia</td>\n",
              "      <td>Developing regions</td>\n",
              "      <td>1</td>\n",
              "      <td>0</td>\n",
              "      <td>8</td>\n",
              "      <td>2</td>\n",
              "      <td>1</td>\n",
              "      <td>4</td>\n",
              "      <td>4</td>\n",
              "      <td>...</td>\n",
              "      <td>66</td>\n",
              "      <td>35</td>\n",
              "      <td>62</td>\n",
              "      <td>53</td>\n",
              "      <td>68</td>\n",
              "      <td>67</td>\n",
              "      <td>58</td>\n",
              "      <td>73</td>\n",
              "      <td>48</td>\n",
              "      <td>2025</td>\n",
              "    </tr>\n",
              "    <tr>\n",
              "      <th>Kyrgyzstan</th>\n",
              "      <td>Asia</td>\n",
              "      <td>Central Asia</td>\n",
              "      <td>Developing regions</td>\n",
              "      <td>0</td>\n",
              "      <td>0</td>\n",
              "      <td>0</td>\n",
              "      <td>0</td>\n",
              "      <td>0</td>\n",
              "      <td>0</td>\n",
              "      <td>0</td>\n",
              "      <td>...</td>\n",
              "      <td>173</td>\n",
              "      <td>161</td>\n",
              "      <td>135</td>\n",
              "      <td>168</td>\n",
              "      <td>173</td>\n",
              "      <td>157</td>\n",
              "      <td>159</td>\n",
              "      <td>278</td>\n",
              "      <td>123</td>\n",
              "      <td>2353</td>\n",
              "    </tr>\n",
              "    <tr>\n",
              "      <th>Lao People's Democratic Republic</th>\n",
              "      <td>Asia</td>\n",
              "      <td>South-Eastern Asia</td>\n",
              "      <td>Developing regions</td>\n",
              "      <td>11</td>\n",
              "      <td>6</td>\n",
              "      <td>16</td>\n",
              "      <td>16</td>\n",
              "      <td>7</td>\n",
              "      <td>17</td>\n",
              "      <td>21</td>\n",
              "      <td>...</td>\n",
              "      <td>42</td>\n",
              "      <td>74</td>\n",
              "      <td>53</td>\n",
              "      <td>32</td>\n",
              "      <td>39</td>\n",
              "      <td>54</td>\n",
              "      <td>22</td>\n",
              "      <td>25</td>\n",
              "      <td>15</td>\n",
              "      <td>1089</td>\n",
              "    </tr>\n",
              "    <tr>\n",
              "      <th>Lebanon</th>\n",
              "      <td>Asia</td>\n",
              "      <td>Western Asia</td>\n",
              "      <td>Developing regions</td>\n",
              "      <td>1409</td>\n",
              "      <td>1119</td>\n",
              "      <td>1159</td>\n",
              "      <td>789</td>\n",
              "      <td>1253</td>\n",
              "      <td>1683</td>\n",
              "      <td>2576</td>\n",
              "      <td>...</td>\n",
              "      <td>3709</td>\n",
              "      <td>3802</td>\n",
              "      <td>3467</td>\n",
              "      <td>3566</td>\n",
              "      <td>3077</td>\n",
              "      <td>3432</td>\n",
              "      <td>3072</td>\n",
              "      <td>1614</td>\n",
              "      <td>2172</td>\n",
              "      <td>115359</td>\n",
              "    </tr>\n",
              "    <tr>\n",
              "      <th>Malaysia</th>\n",
              "      <td>Asia</td>\n",
              "      <td>South-Eastern Asia</td>\n",
              "      <td>Developing regions</td>\n",
              "      <td>786</td>\n",
              "      <td>816</td>\n",
              "      <td>813</td>\n",
              "      <td>448</td>\n",
              "      <td>384</td>\n",
              "      <td>374</td>\n",
              "      <td>425</td>\n",
              "      <td>...</td>\n",
              "      <td>593</td>\n",
              "      <td>580</td>\n",
              "      <td>600</td>\n",
              "      <td>658</td>\n",
              "      <td>640</td>\n",
              "      <td>802</td>\n",
              "      <td>409</td>\n",
              "      <td>358</td>\n",
              "      <td>204</td>\n",
              "      <td>24417</td>\n",
              "    </tr>\n",
              "    <tr>\n",
              "      <th>Maldives</th>\n",
              "      <td>Asia</td>\n",
              "      <td>Southern Asia</td>\n",
              "      <td>Developing regions</td>\n",
              "      <td>0</td>\n",
              "      <td>0</td>\n",
              "      <td>0</td>\n",
              "      <td>1</td>\n",
              "      <td>0</td>\n",
              "      <td>0</td>\n",
              "      <td>0</td>\n",
              "      <td>...</td>\n",
              "      <td>0</td>\n",
              "      <td>0</td>\n",
              "      <td>2</td>\n",
              "      <td>1</td>\n",
              "      <td>7</td>\n",
              "      <td>4</td>\n",
              "      <td>3</td>\n",
              "      <td>1</td>\n",
              "      <td>1</td>\n",
              "      <td>30</td>\n",
              "    </tr>\n",
              "    <tr>\n",
              "      <th>Mongolia</th>\n",
              "      <td>Asia</td>\n",
              "      <td>Eastern Asia</td>\n",
              "      <td>Developing regions</td>\n",
              "      <td>0</td>\n",
              "      <td>0</td>\n",
              "      <td>0</td>\n",
              "      <td>0</td>\n",
              "      <td>0</td>\n",
              "      <td>0</td>\n",
              "      <td>0</td>\n",
              "      <td>...</td>\n",
              "      <td>59</td>\n",
              "      <td>64</td>\n",
              "      <td>82</td>\n",
              "      <td>59</td>\n",
              "      <td>118</td>\n",
              "      <td>169</td>\n",
              "      <td>103</td>\n",
              "      <td>68</td>\n",
              "      <td>99</td>\n",
              "      <td>952</td>\n",
              "    </tr>\n",
              "    <tr>\n",
              "      <th>Myanmar</th>\n",
              "      <td>Asia</td>\n",
              "      <td>South-Eastern Asia</td>\n",
              "      <td>Developing regions</td>\n",
              "      <td>80</td>\n",
              "      <td>62</td>\n",
              "      <td>46</td>\n",
              "      <td>31</td>\n",
              "      <td>41</td>\n",
              "      <td>23</td>\n",
              "      <td>18</td>\n",
              "      <td>...</td>\n",
              "      <td>210</td>\n",
              "      <td>953</td>\n",
              "      <td>1887</td>\n",
              "      <td>975</td>\n",
              "      <td>1153</td>\n",
              "      <td>556</td>\n",
              "      <td>368</td>\n",
              "      <td>193</td>\n",
              "      <td>262</td>\n",
              "      <td>9245</td>\n",
              "    </tr>\n",
              "    <tr>\n",
              "      <th>Nepal</th>\n",
              "      <td>Asia</td>\n",
              "      <td>Southern Asia</td>\n",
              "      <td>Developing regions</td>\n",
              "      <td>1</td>\n",
              "      <td>1</td>\n",
              "      <td>6</td>\n",
              "      <td>1</td>\n",
              "      <td>2</td>\n",
              "      <td>4</td>\n",
              "      <td>13</td>\n",
              "      <td>...</td>\n",
              "      <td>607</td>\n",
              "      <td>540</td>\n",
              "      <td>511</td>\n",
              "      <td>581</td>\n",
              "      <td>561</td>\n",
              "      <td>1392</td>\n",
              "      <td>1129</td>\n",
              "      <td>1185</td>\n",
              "      <td>1308</td>\n",
              "      <td>10222</td>\n",
              "    </tr>\n",
              "    <tr>\n",
              "      <th>Oman</th>\n",
              "      <td>Asia</td>\n",
              "      <td>Western Asia</td>\n",
              "      <td>Developing regions</td>\n",
              "      <td>0</td>\n",
              "      <td>0</td>\n",
              "      <td>0</td>\n",
              "      <td>8</td>\n",
              "      <td>0</td>\n",
              "      <td>0</td>\n",
              "      <td>0</td>\n",
              "      <td>...</td>\n",
              "      <td>14</td>\n",
              "      <td>18</td>\n",
              "      <td>16</td>\n",
              "      <td>10</td>\n",
              "      <td>7</td>\n",
              "      <td>14</td>\n",
              "      <td>10</td>\n",
              "      <td>13</td>\n",
              "      <td>11</td>\n",
              "      <td>224</td>\n",
              "    </tr>\n",
              "    <tr>\n",
              "      <th>Pakistan</th>\n",
              "      <td>Asia</td>\n",
              "      <td>Southern Asia</td>\n",
              "      <td>Developing regions</td>\n",
              "      <td>978</td>\n",
              "      <td>972</td>\n",
              "      <td>1201</td>\n",
              "      <td>900</td>\n",
              "      <td>668</td>\n",
              "      <td>514</td>\n",
              "      <td>691</td>\n",
              "      <td>...</td>\n",
              "      <td>14314</td>\n",
              "      <td>13127</td>\n",
              "      <td>10124</td>\n",
              "      <td>8994</td>\n",
              "      <td>7217</td>\n",
              "      <td>6811</td>\n",
              "      <td>7468</td>\n",
              "      <td>11227</td>\n",
              "      <td>12603</td>\n",
              "      <td>241600</td>\n",
              "    </tr>\n",
              "    <tr>\n",
              "      <th>Philippines</th>\n",
              "      <td>Asia</td>\n",
              "      <td>South-Eastern Asia</td>\n",
              "      <td>Developing regions</td>\n",
              "      <td>6051</td>\n",
              "      <td>5921</td>\n",
              "      <td>5249</td>\n",
              "      <td>4562</td>\n",
              "      <td>3801</td>\n",
              "      <td>3150</td>\n",
              "      <td>4166</td>\n",
              "      <td>...</td>\n",
              "      <td>18139</td>\n",
              "      <td>18400</td>\n",
              "      <td>19837</td>\n",
              "      <td>24887</td>\n",
              "      <td>28573</td>\n",
              "      <td>38617</td>\n",
              "      <td>36765</td>\n",
              "      <td>34315</td>\n",
              "      <td>29544</td>\n",
              "      <td>511391</td>\n",
              "    </tr>\n",
              "    <tr>\n",
              "      <th>Qatar</th>\n",
              "      <td>Asia</td>\n",
              "      <td>Western Asia</td>\n",
              "      <td>Developing regions</td>\n",
              "      <td>0</td>\n",
              "      <td>0</td>\n",
              "      <td>0</td>\n",
              "      <td>0</td>\n",
              "      <td>0</td>\n",
              "      <td>0</td>\n",
              "      <td>1</td>\n",
              "      <td>...</td>\n",
              "      <td>11</td>\n",
              "      <td>2</td>\n",
              "      <td>5</td>\n",
              "      <td>9</td>\n",
              "      <td>6</td>\n",
              "      <td>18</td>\n",
              "      <td>3</td>\n",
              "      <td>14</td>\n",
              "      <td>6</td>\n",
              "      <td>157</td>\n",
              "    </tr>\n",
              "    <tr>\n",
              "      <th>Republic of Korea</th>\n",
              "      <td>Asia</td>\n",
              "      <td>Eastern Asia</td>\n",
              "      <td>Developing regions</td>\n",
              "      <td>1011</td>\n",
              "      <td>1456</td>\n",
              "      <td>1572</td>\n",
              "      <td>1081</td>\n",
              "      <td>847</td>\n",
              "      <td>962</td>\n",
              "      <td>1208</td>\n",
              "      <td>...</td>\n",
              "      <td>5832</td>\n",
              "      <td>6215</td>\n",
              "      <td>5920</td>\n",
              "      <td>7294</td>\n",
              "      <td>5874</td>\n",
              "      <td>5537</td>\n",
              "      <td>4588</td>\n",
              "      <td>5316</td>\n",
              "      <td>4509</td>\n",
              "      <td>142581</td>\n",
              "    </tr>\n",
              "    <tr>\n",
              "      <th>Saudi Arabia</th>\n",
              "      <td>Asia</td>\n",
              "      <td>Western Asia</td>\n",
              "      <td>Developing regions</td>\n",
              "      <td>0</td>\n",
              "      <td>0</td>\n",
              "      <td>1</td>\n",
              "      <td>4</td>\n",
              "      <td>1</td>\n",
              "      <td>2</td>\n",
              "      <td>5</td>\n",
              "      <td>...</td>\n",
              "      <td>198</td>\n",
              "      <td>252</td>\n",
              "      <td>188</td>\n",
              "      <td>249</td>\n",
              "      <td>246</td>\n",
              "      <td>330</td>\n",
              "      <td>278</td>\n",
              "      <td>286</td>\n",
              "      <td>267</td>\n",
              "      <td>3425</td>\n",
              "    </tr>\n",
              "    <tr>\n",
              "      <th>Singapore</th>\n",
              "      <td>Asia</td>\n",
              "      <td>South-Eastern Asia</td>\n",
              "      <td>Developing regions</td>\n",
              "      <td>241</td>\n",
              "      <td>301</td>\n",
              "      <td>337</td>\n",
              "      <td>169</td>\n",
              "      <td>128</td>\n",
              "      <td>139</td>\n",
              "      <td>205</td>\n",
              "      <td>...</td>\n",
              "      <td>392</td>\n",
              "      <td>298</td>\n",
              "      <td>690</td>\n",
              "      <td>734</td>\n",
              "      <td>366</td>\n",
              "      <td>805</td>\n",
              "      <td>219</td>\n",
              "      <td>146</td>\n",
              "      <td>141</td>\n",
              "      <td>14579</td>\n",
              "    </tr>\n",
              "    <tr>\n",
              "      <th>Sri Lanka</th>\n",
              "      <td>Asia</td>\n",
              "      <td>Southern Asia</td>\n",
              "      <td>Developing regions</td>\n",
              "      <td>185</td>\n",
              "      <td>371</td>\n",
              "      <td>290</td>\n",
              "      <td>197</td>\n",
              "      <td>1086</td>\n",
              "      <td>845</td>\n",
              "      <td>1838</td>\n",
              "      <td>...</td>\n",
              "      <td>4930</td>\n",
              "      <td>4714</td>\n",
              "      <td>4123</td>\n",
              "      <td>4756</td>\n",
              "      <td>4547</td>\n",
              "      <td>4422</td>\n",
              "      <td>3309</td>\n",
              "      <td>3338</td>\n",
              "      <td>2394</td>\n",
              "      <td>148358</td>\n",
              "    </tr>\n",
              "    <tr>\n",
              "      <th>State of Palestine</th>\n",
              "      <td>Asia</td>\n",
              "      <td>Western Asia</td>\n",
              "      <td>Developing regions</td>\n",
              "      <td>0</td>\n",
              "      <td>0</td>\n",
              "      <td>0</td>\n",
              "      <td>0</td>\n",
              "      <td>0</td>\n",
              "      <td>0</td>\n",
              "      <td>0</td>\n",
              "      <td>...</td>\n",
              "      <td>453</td>\n",
              "      <td>627</td>\n",
              "      <td>441</td>\n",
              "      <td>481</td>\n",
              "      <td>400</td>\n",
              "      <td>654</td>\n",
              "      <td>555</td>\n",
              "      <td>533</td>\n",
              "      <td>462</td>\n",
              "      <td>6512</td>\n",
              "    </tr>\n",
              "    <tr>\n",
              "      <th>Syrian Arab Republic</th>\n",
              "      <td>Asia</td>\n",
              "      <td>Western Asia</td>\n",
              "      <td>Developing regions</td>\n",
              "      <td>315</td>\n",
              "      <td>419</td>\n",
              "      <td>409</td>\n",
              "      <td>269</td>\n",
              "      <td>264</td>\n",
              "      <td>385</td>\n",
              "      <td>493</td>\n",
              "      <td>...</td>\n",
              "      <td>1458</td>\n",
              "      <td>1145</td>\n",
              "      <td>1056</td>\n",
              "      <td>919</td>\n",
              "      <td>917</td>\n",
              "      <td>1039</td>\n",
              "      <td>1005</td>\n",
              "      <td>650</td>\n",
              "      <td>1009</td>\n",
              "      <td>31485</td>\n",
              "    </tr>\n",
              "    <tr>\n",
              "      <th>Tajikistan</th>\n",
              "      <td>Asia</td>\n",
              "      <td>Central Asia</td>\n",
              "      <td>Developing regions</td>\n",
              "      <td>0</td>\n",
              "      <td>0</td>\n",
              "      <td>0</td>\n",
              "      <td>0</td>\n",
              "      <td>0</td>\n",
              "      <td>0</td>\n",
              "      <td>0</td>\n",
              "      <td>...</td>\n",
              "      <td>85</td>\n",
              "      <td>46</td>\n",
              "      <td>44</td>\n",
              "      <td>15</td>\n",
              "      <td>50</td>\n",
              "      <td>52</td>\n",
              "      <td>47</td>\n",
              "      <td>34</td>\n",
              "      <td>39</td>\n",
              "      <td>503</td>\n",
              "    </tr>\n",
              "    <tr>\n",
              "      <th>Thailand</th>\n",
              "      <td>Asia</td>\n",
              "      <td>South-Eastern Asia</td>\n",
              "      <td>Developing regions</td>\n",
              "      <td>56</td>\n",
              "      <td>53</td>\n",
              "      <td>113</td>\n",
              "      <td>65</td>\n",
              "      <td>82</td>\n",
              "      <td>66</td>\n",
              "      <td>78</td>\n",
              "      <td>...</td>\n",
              "      <td>575</td>\n",
              "      <td>500</td>\n",
              "      <td>487</td>\n",
              "      <td>519</td>\n",
              "      <td>512</td>\n",
              "      <td>499</td>\n",
              "      <td>396</td>\n",
              "      <td>296</td>\n",
              "      <td>400</td>\n",
              "      <td>9174</td>\n",
              "    </tr>\n",
              "    <tr>\n",
              "      <th>Turkey</th>\n",
              "      <td>Asia</td>\n",
              "      <td>Western Asia</td>\n",
              "      <td>Developing regions</td>\n",
              "      <td>481</td>\n",
              "      <td>874</td>\n",
              "      <td>706</td>\n",
              "      <td>280</td>\n",
              "      <td>338</td>\n",
              "      <td>202</td>\n",
              "      <td>257</td>\n",
              "      <td>...</td>\n",
              "      <td>2065</td>\n",
              "      <td>1638</td>\n",
              "      <td>1463</td>\n",
              "      <td>1122</td>\n",
              "      <td>1238</td>\n",
              "      <td>1492</td>\n",
              "      <td>1257</td>\n",
              "      <td>1068</td>\n",
              "      <td>729</td>\n",
              "      <td>31781</td>\n",
              "    </tr>\n",
              "    <tr>\n",
              "      <th>Turkmenistan</th>\n",
              "      <td>Asia</td>\n",
              "      <td>Central Asia</td>\n",
              "      <td>Developing regions</td>\n",
              "      <td>0</td>\n",
              "      <td>0</td>\n",
              "      <td>0</td>\n",
              "      <td>0</td>\n",
              "      <td>0</td>\n",
              "      <td>0</td>\n",
              "      <td>0</td>\n",
              "      <td>...</td>\n",
              "      <td>40</td>\n",
              "      <td>26</td>\n",
              "      <td>37</td>\n",
              "      <td>13</td>\n",
              "      <td>20</td>\n",
              "      <td>30</td>\n",
              "      <td>20</td>\n",
              "      <td>20</td>\n",
              "      <td>14</td>\n",
              "      <td>310</td>\n",
              "    </tr>\n",
              "    <tr>\n",
              "      <th>United Arab Emirates</th>\n",
              "      <td>Asia</td>\n",
              "      <td>Western Asia</td>\n",
              "      <td>Developing regions</td>\n",
              "      <td>0</td>\n",
              "      <td>2</td>\n",
              "      <td>2</td>\n",
              "      <td>1</td>\n",
              "      <td>2</td>\n",
              "      <td>0</td>\n",
              "      <td>5</td>\n",
              "      <td>...</td>\n",
              "      <td>31</td>\n",
              "      <td>42</td>\n",
              "      <td>37</td>\n",
              "      <td>33</td>\n",
              "      <td>37</td>\n",
              "      <td>86</td>\n",
              "      <td>60</td>\n",
              "      <td>54</td>\n",
              "      <td>46</td>\n",
              "      <td>836</td>\n",
              "    </tr>\n",
              "    <tr>\n",
              "      <th>Uzbekistan</th>\n",
              "      <td>Asia</td>\n",
              "      <td>Central Asia</td>\n",
              "      <td>Developing regions</td>\n",
              "      <td>0</td>\n",
              "      <td>0</td>\n",
              "      <td>0</td>\n",
              "      <td>0</td>\n",
              "      <td>0</td>\n",
              "      <td>0</td>\n",
              "      <td>0</td>\n",
              "      <td>...</td>\n",
              "      <td>330</td>\n",
              "      <td>262</td>\n",
              "      <td>284</td>\n",
              "      <td>215</td>\n",
              "      <td>288</td>\n",
              "      <td>289</td>\n",
              "      <td>162</td>\n",
              "      <td>235</td>\n",
              "      <td>167</td>\n",
              "      <td>3368</td>\n",
              "    </tr>\n",
              "    <tr>\n",
              "      <th>Viet Nam</th>\n",
              "      <td>Asia</td>\n",
              "      <td>South-Eastern Asia</td>\n",
              "      <td>Developing regions</td>\n",
              "      <td>1191</td>\n",
              "      <td>1829</td>\n",
              "      <td>2162</td>\n",
              "      <td>3404</td>\n",
              "      <td>7583</td>\n",
              "      <td>5907</td>\n",
              "      <td>2741</td>\n",
              "      <td>...</td>\n",
              "      <td>1852</td>\n",
              "      <td>3153</td>\n",
              "      <td>2574</td>\n",
              "      <td>1784</td>\n",
              "      <td>2171</td>\n",
              "      <td>1942</td>\n",
              "      <td>1723</td>\n",
              "      <td>1731</td>\n",
              "      <td>2112</td>\n",
              "      <td>97146</td>\n",
              "    </tr>\n",
              "    <tr>\n",
              "      <th>Yemen</th>\n",
              "      <td>Asia</td>\n",
              "      <td>Western Asia</td>\n",
              "      <td>Developing regions</td>\n",
              "      <td>1</td>\n",
              "      <td>2</td>\n",
              "      <td>1</td>\n",
              "      <td>6</td>\n",
              "      <td>0</td>\n",
              "      <td>18</td>\n",
              "      <td>7</td>\n",
              "      <td>...</td>\n",
              "      <td>161</td>\n",
              "      <td>140</td>\n",
              "      <td>122</td>\n",
              "      <td>133</td>\n",
              "      <td>128</td>\n",
              "      <td>211</td>\n",
              "      <td>160</td>\n",
              "      <td>174</td>\n",
              "      <td>217</td>\n",
              "      <td>2985</td>\n",
              "    </tr>\n",
              "  </tbody>\n",
              "</table>\n",
              "<p>49 rows × 38 columns</p>\n",
              "</div>"
            ],
            "text/plain": [
              "                                               Continent              Region  \\\n",
              "Country                                                                        \n",
              "Afghanistan                                         Asia       Southern Asia   \n",
              "Armenia                                             Asia        Western Asia   \n",
              "Azerbaijan                                          Asia        Western Asia   \n",
              "Bahrain                                             Asia        Western Asia   \n",
              "Bangladesh                                          Asia       Southern Asia   \n",
              "Bhutan                                              Asia       Southern Asia   \n",
              "Brunei Darussalam                                   Asia  South-Eastern Asia   \n",
              "Cambodia                                            Asia  South-Eastern Asia   \n",
              "China                                               Asia        Eastern Asia   \n",
              "China, Hong Kong Special Administrative Region      Asia        Eastern Asia   \n",
              "China, Macao Special Administrative Region          Asia        Eastern Asia   \n",
              "Cyprus                                              Asia        Western Asia   \n",
              "Democratic People's Republic of Korea               Asia        Eastern Asia   \n",
              "Georgia                                             Asia        Western Asia   \n",
              "India                                               Asia       Southern Asia   \n",
              "Indonesia                                           Asia  South-Eastern Asia   \n",
              "Iran (Islamic Republic of)                          Asia       Southern Asia   \n",
              "Iraq                                                Asia        Western Asia   \n",
              "Israel                                              Asia        Western Asia   \n",
              "Japan                                               Asia        Eastern Asia   \n",
              "Jordan                                              Asia        Western Asia   \n",
              "Kazakhstan                                          Asia        Central Asia   \n",
              "Kuwait                                              Asia        Western Asia   \n",
              "Kyrgyzstan                                          Asia        Central Asia   \n",
              "Lao People's Democratic Republic                    Asia  South-Eastern Asia   \n",
              "Lebanon                                             Asia        Western Asia   \n",
              "Malaysia                                            Asia  South-Eastern Asia   \n",
              "Maldives                                            Asia       Southern Asia   \n",
              "Mongolia                                            Asia        Eastern Asia   \n",
              "Myanmar                                             Asia  South-Eastern Asia   \n",
              "Nepal                                               Asia       Southern Asia   \n",
              "Oman                                                Asia        Western Asia   \n",
              "Pakistan                                            Asia       Southern Asia   \n",
              "Philippines                                         Asia  South-Eastern Asia   \n",
              "Qatar                                               Asia        Western Asia   \n",
              "Republic of Korea                                   Asia        Eastern Asia   \n",
              "Saudi Arabia                                        Asia        Western Asia   \n",
              "Singapore                                           Asia  South-Eastern Asia   \n",
              "Sri Lanka                                           Asia       Southern Asia   \n",
              "State of Palestine                                  Asia        Western Asia   \n",
              "Syrian Arab Republic                                Asia        Western Asia   \n",
              "Tajikistan                                          Asia        Central Asia   \n",
              "Thailand                                            Asia  South-Eastern Asia   \n",
              "Turkey                                              Asia        Western Asia   \n",
              "Turkmenistan                                        Asia        Central Asia   \n",
              "United Arab Emirates                                Asia        Western Asia   \n",
              "Uzbekistan                                          Asia        Central Asia   \n",
              "Viet Nam                                            Asia  South-Eastern Asia   \n",
              "Yemen                                               Asia        Western Asia   \n",
              "\n",
              "                                                           DevName  1980  \\\n",
              "Country                                                                    \n",
              "Afghanistan                                     Developing regions    16   \n",
              "Armenia                                         Developing regions     0   \n",
              "Azerbaijan                                      Developing regions     0   \n",
              "Bahrain                                         Developing regions     0   \n",
              "Bangladesh                                      Developing regions    83   \n",
              "Bhutan                                          Developing regions     0   \n",
              "Brunei Darussalam                               Developing regions    79   \n",
              "Cambodia                                        Developing regions    12   \n",
              "China                                           Developing regions  5123   \n",
              "China, Hong Kong Special Administrative Region  Developing regions     0   \n",
              "China, Macao Special Administrative Region      Developing regions     0   \n",
              "Cyprus                                          Developing regions   132   \n",
              "Democratic People's Republic of Korea           Developing regions     1   \n",
              "Georgia                                         Developing regions     0   \n",
              "India                                           Developing regions  8880   \n",
              "Indonesia                                       Developing regions   186   \n",
              "Iran (Islamic Republic of)                      Developing regions  1172   \n",
              "Iraq                                            Developing regions   262   \n",
              "Israel                                          Developing regions  1403   \n",
              "Japan                                            Developed regions   701   \n",
              "Jordan                                          Developing regions   177   \n",
              "Kazakhstan                                      Developing regions     0   \n",
              "Kuwait                                          Developing regions     1   \n",
              "Kyrgyzstan                                      Developing regions     0   \n",
              "Lao People's Democratic Republic                Developing regions    11   \n",
              "Lebanon                                         Developing regions  1409   \n",
              "Malaysia                                        Developing regions   786   \n",
              "Maldives                                        Developing regions     0   \n",
              "Mongolia                                        Developing regions     0   \n",
              "Myanmar                                         Developing regions    80   \n",
              "Nepal                                           Developing regions     1   \n",
              "Oman                                            Developing regions     0   \n",
              "Pakistan                                        Developing regions   978   \n",
              "Philippines                                     Developing regions  6051   \n",
              "Qatar                                           Developing regions     0   \n",
              "Republic of Korea                               Developing regions  1011   \n",
              "Saudi Arabia                                    Developing regions     0   \n",
              "Singapore                                       Developing regions   241   \n",
              "Sri Lanka                                       Developing regions   185   \n",
              "State of Palestine                              Developing regions     0   \n",
              "Syrian Arab Republic                            Developing regions   315   \n",
              "Tajikistan                                      Developing regions     0   \n",
              "Thailand                                        Developing regions    56   \n",
              "Turkey                                          Developing regions   481   \n",
              "Turkmenistan                                    Developing regions     0   \n",
              "United Arab Emirates                            Developing regions     0   \n",
              "Uzbekistan                                      Developing regions     0   \n",
              "Viet Nam                                        Developing regions  1191   \n",
              "Yemen                                           Developing regions     1   \n",
              "\n",
              "                                                1981  1982  1983  1984  1985  \\\n",
              "Country                                                                        \n",
              "Afghanistan                                       39    39    47    71   340   \n",
              "Armenia                                            0     0     0     0     0   \n",
              "Azerbaijan                                         0     0     0     0     0   \n",
              "Bahrain                                            2     1     1     1     3   \n",
              "Bangladesh                                        84    86    81    98    92   \n",
              "Bhutan                                             0     0     0     1     0   \n",
              "Brunei Darussalam                                  6     8     2     2     4   \n",
              "Cambodia                                          19    26    33    10     7   \n",
              "China                                           6682  3308  1863  1527  1816   \n",
              "China, Hong Kong Special Administrative Region     0     0     0     0     0   \n",
              "China, Macao Special Administrative Region         0     0     0     0     0   \n",
              "Cyprus                                           128    84    46    46    43   \n",
              "Democratic People's Republic of Korea              1     3     1     4     3   \n",
              "Georgia                                            0     0     0     0     0   \n",
              "India                                           8670  8147  7338  5704  4211   \n",
              "Indonesia                                        178   252   115   123   100   \n",
              "Iran (Islamic Republic of)                      1429  1822  1592  1977  1648   \n",
              "Iraq                                             245   260   380   428   231   \n",
              "Israel                                          1711  1334   541   446   680   \n",
              "Japan                                            756   598   309   246   198   \n",
              "Jordan                                           160   155   113   102   179   \n",
              "Kazakhstan                                         0     0     0     0     0   \n",
              "Kuwait                                             0     8     2     1     4   \n",
              "Kyrgyzstan                                         0     0     0     0     0   \n",
              "Lao People's Democratic Republic                   6    16    16     7    17   \n",
              "Lebanon                                         1119  1159   789  1253  1683   \n",
              "Malaysia                                         816   813   448   384   374   \n",
              "Maldives                                           0     0     1     0     0   \n",
              "Mongolia                                           0     0     0     0     0   \n",
              "Myanmar                                           62    46    31    41    23   \n",
              "Nepal                                              1     6     1     2     4   \n",
              "Oman                                               0     0     8     0     0   \n",
              "Pakistan                                         972  1201   900   668   514   \n",
              "Philippines                                     5921  5249  4562  3801  3150   \n",
              "Qatar                                              0     0     0     0     0   \n",
              "Republic of Korea                               1456  1572  1081   847   962   \n",
              "Saudi Arabia                                       0     1     4     1     2   \n",
              "Singapore                                        301   337   169   128   139   \n",
              "Sri Lanka                                        371   290   197  1086   845   \n",
              "State of Palestine                                 0     0     0     0     0   \n",
              "Syrian Arab Republic                             419   409   269   264   385   \n",
              "Tajikistan                                         0     0     0     0     0   \n",
              "Thailand                                          53   113    65    82    66   \n",
              "Turkey                                           874   706   280   338   202   \n",
              "Turkmenistan                                       0     0     0     0     0   \n",
              "United Arab Emirates                               2     2     1     2     0   \n",
              "Uzbekistan                                         0     0     0     0     0   \n",
              "Viet Nam                                        1829  2162  3404  7583  5907   \n",
              "Yemen                                              2     1     6     0    18   \n",
              "\n",
              "                                                1986  ...   2005   2006  \\\n",
              "Country                                               ...                 \n",
              "Afghanistan                                      496  ...   3436   3009   \n",
              "Armenia                                            0  ...    224    218   \n",
              "Azerbaijan                                         0  ...    359    236   \n",
              "Bahrain                                            0  ...     12     12   \n",
              "Bangladesh                                       486  ...   4171   4014   \n",
              "Bhutan                                             0  ...      5     10   \n",
              "Brunei Darussalam                                 12  ...      4      5   \n",
              "Cambodia                                           8  ...    370    529   \n",
              "China                                           1960  ...  42584  33518   \n",
              "China, Hong Kong Special Administrative Region     0  ...    729    712   \n",
              "China, Macao Special Administrative Region         0  ...     21     32   \n",
              "Cyprus                                            48  ...      7      9   \n",
              "Democratic People's Republic of Korea              0  ...     14     10   \n",
              "Georgia                                            0  ...    114    125   \n",
              "India                                           7150  ...  36210  33848   \n",
              "Indonesia                                        127  ...    632    613   \n",
              "Iran (Islamic Republic of)                      1794  ...   5837   7480   \n",
              "Iraq                                             265  ...   2226   1788   \n",
              "Israel                                          1212  ...   2446   2625   \n",
              "Japan                                            248  ...   1067   1212   \n",
              "Jordan                                           181  ...   1940   1827   \n",
              "Kazakhstan                                         0  ...    506    408   \n",
              "Kuwait                                             4  ...     66     35   \n",
              "Kyrgyzstan                                         0  ...    173    161   \n",
              "Lao People's Democratic Republic                  21  ...     42     74   \n",
              "Lebanon                                         2576  ...   3709   3802   \n",
              "Malaysia                                         425  ...    593    580   \n",
              "Maldives                                           0  ...      0      0   \n",
              "Mongolia                                           0  ...     59     64   \n",
              "Myanmar                                           18  ...    210    953   \n",
              "Nepal                                             13  ...    607    540   \n",
              "Oman                                               0  ...     14     18   \n",
              "Pakistan                                         691  ...  14314  13127   \n",
              "Philippines                                     4166  ...  18139  18400   \n",
              "Qatar                                              1  ...     11      2   \n",
              "Republic of Korea                               1208  ...   5832   6215   \n",
              "Saudi Arabia                                       5  ...    198    252   \n",
              "Singapore                                        205  ...    392    298   \n",
              "Sri Lanka                                       1838  ...   4930   4714   \n",
              "State of Palestine                                 0  ...    453    627   \n",
              "Syrian Arab Republic                             493  ...   1458   1145   \n",
              "Tajikistan                                         0  ...     85     46   \n",
              "Thailand                                          78  ...    575    500   \n",
              "Turkey                                           257  ...   2065   1638   \n",
              "Turkmenistan                                       0  ...     40     26   \n",
              "United Arab Emirates                               5  ...     31     42   \n",
              "Uzbekistan                                         0  ...    330    262   \n",
              "Viet Nam                                        2741  ...   1852   3153   \n",
              "Yemen                                              7  ...    161    140   \n",
              "\n",
              "                                                 2007   2008   2009   2010  \\\n",
              "Country                                                                      \n",
              "Afghanistan                                      2652   2111   1746   1758   \n",
              "Armenia                                           198    205    267    252   \n",
              "Azerbaijan                                        203    125    165    209   \n",
              "Bahrain                                            22      9     35     28   \n",
              "Bangladesh                                       2897   2939   2104   4721   \n",
              "Bhutan                                              7     36    865   1464   \n",
              "Brunei Darussalam                                  11     10      5     12   \n",
              "Cambodia                                          460    354    203    200   \n",
              "China                                           27642  30037  29622  30391   \n",
              "China, Hong Kong Special Administrative Region    674    897    657    623   \n",
              "China, Macao Special Administrative Region         16     12     21     21   \n",
              "Cyprus                                              4      7      6     18   \n",
              "Democratic People's Republic of Korea               7     19     11     45   \n",
              "Georgia                                           132    112    128    126   \n",
              "India                                           28742  28261  29456  34235   \n",
              "Indonesia                                         657    661    504    712   \n",
              "Iran (Islamic Republic of)                       6974   6475   6580   7477   \n",
              "Iraq                                             2406   3543   5450   5941   \n",
              "Israel                                           2401   2562   2316   2755   \n",
              "Japan                                            1250   1284   1194   1168   \n",
              "Jordan                                           1421   1581   1235   1831   \n",
              "Kazakhstan                                        436    394    431    377   \n",
              "Kuwait                                             62     53     68     67   \n",
              "Kyrgyzstan                                        135    168    173    157   \n",
              "Lao People's Democratic Republic                   53     32     39     54   \n",
              "Lebanon                                          3467   3566   3077   3432   \n",
              "Malaysia                                          600    658    640    802   \n",
              "Maldives                                            2      1      7      4   \n",
              "Mongolia                                           82     59    118    169   \n",
              "Myanmar                                          1887    975   1153    556   \n",
              "Nepal                                             511    581    561   1392   \n",
              "Oman                                               16     10      7     14   \n",
              "Pakistan                                        10124   8994   7217   6811   \n",
              "Philippines                                     19837  24887  28573  38617   \n",
              "Qatar                                               5      9      6     18   \n",
              "Republic of Korea                                5920   7294   5874   5537   \n",
              "Saudi Arabia                                      188    249    246    330   \n",
              "Singapore                                         690    734    366    805   \n",
              "Sri Lanka                                        4123   4756   4547   4422   \n",
              "State of Palestine                                441    481    400    654   \n",
              "Syrian Arab Republic                             1056    919    917   1039   \n",
              "Tajikistan                                         44     15     50     52   \n",
              "Thailand                                          487    519    512    499   \n",
              "Turkey                                           1463   1122   1238   1492   \n",
              "Turkmenistan                                       37     13     20     30   \n",
              "United Arab Emirates                               37     33     37     86   \n",
              "Uzbekistan                                        284    215    288    289   \n",
              "Viet Nam                                         2574   1784   2171   1942   \n",
              "Yemen                                             122    133    128    211   \n",
              "\n",
              "                                                 2011   2012   2013   Total  \n",
              "Country                                                                      \n",
              "Afghanistan                                      2203   2635   2004   58639  \n",
              "Armenia                                           236    258    207    3310  \n",
              "Azerbaijan                                        138    161     57    2649  \n",
              "Bahrain                                            21     39     32     475  \n",
              "Bangladesh                                       2694   2640   3789   65568  \n",
              "Bhutan                                           1879   1075    487    5876  \n",
              "Brunei Darussalam                                   6      3      6     600  \n",
              "Cambodia                                          196    233    288    6538  \n",
              "China                                           28502  33024  34129  659962  \n",
              "China, Hong Kong Special Administrative Region    591    728    774    9327  \n",
              "China, Macao Special Administrative Region         13     33     29     284  \n",
              "Cyprus                                              6     12     16    1126  \n",
              "Democratic People's Republic of Korea              97     66     17     388  \n",
              "Georgia                                           139    147    125    2068  \n",
              "India                                           27509  30933  33087  691904  \n",
              "Indonesia                                         390    395    387   13150  \n",
              "Iran (Islamic Republic of)                       7479   7534  11291  175923  \n",
              "Iraq                                             6196   4041   4918   69789  \n",
              "Israel                                           1970   2134   1945   66508  \n",
              "Japan                                            1265   1214    982   27707  \n",
              "Jordan                                           1635   1206   1255   35406  \n",
              "Kazakhstan                                        381    462    348    8490  \n",
              "Kuwait                                             58     73     48    2025  \n",
              "Kyrgyzstan                                        159    278    123    2353  \n",
              "Lao People's Democratic Republic                   22     25     15    1089  \n",
              "Lebanon                                          3072   1614   2172  115359  \n",
              "Malaysia                                          409    358    204   24417  \n",
              "Maldives                                            3      1      1      30  \n",
              "Mongolia                                          103     68     99     952  \n",
              "Myanmar                                           368    193    262    9245  \n",
              "Nepal                                            1129   1185   1308   10222  \n",
              "Oman                                               10     13     11     224  \n",
              "Pakistan                                         7468  11227  12603  241600  \n",
              "Philippines                                     36765  34315  29544  511391  \n",
              "Qatar                                               3     14      6     157  \n",
              "Republic of Korea                                4588   5316   4509  142581  \n",
              "Saudi Arabia                                      278    286    267    3425  \n",
              "Singapore                                         219    146    141   14579  \n",
              "Sri Lanka                                        3309   3338   2394  148358  \n",
              "State of Palestine                                555    533    462    6512  \n",
              "Syrian Arab Republic                             1005    650   1009   31485  \n",
              "Tajikistan                                         47     34     39     503  \n",
              "Thailand                                          396    296    400    9174  \n",
              "Turkey                                           1257   1068    729   31781  \n",
              "Turkmenistan                                       20     20     14     310  \n",
              "United Arab Emirates                               60     54     46     836  \n",
              "Uzbekistan                                        162    235    167    3368  \n",
              "Viet Nam                                         1723   1731   2112   97146  \n",
              "Yemen                                             160    174    217    2985  \n",
              "\n",
              "[49 rows x 38 columns]"
            ]
          },
          "execution_count": 34,
          "metadata": {},
          "output_type": "execute_result"
        }
      ],
      "source": [
        "# 2. pass this condition into the dataFrame\n",
        "df_can[condition]"
      ]
    },
    {
      "cell_type": "code",
      "execution_count": 35,
      "metadata": {
        "button": false,
        "new_sheet": false,
        "run_control": {
          "read_only": false
        },
        "trusted": true
      },
      "outputs": [
        {
          "data": {
            "text/html": [
              "<div>\n",
              "<style scoped>\n",
              "    .dataframe tbody tr th:only-of-type {\n",
              "        vertical-align: middle;\n",
              "    }\n",
              "\n",
              "    .dataframe tbody tr th {\n",
              "        vertical-align: top;\n",
              "    }\n",
              "\n",
              "    .dataframe thead th {\n",
              "        text-align: right;\n",
              "    }\n",
              "</style>\n",
              "<table border=\"1\" class=\"dataframe\">\n",
              "  <thead>\n",
              "    <tr style=\"text-align: right;\">\n",
              "      <th></th>\n",
              "      <th>Continent</th>\n",
              "      <th>Region</th>\n",
              "      <th>DevName</th>\n",
              "      <th>1980</th>\n",
              "      <th>1981</th>\n",
              "      <th>1982</th>\n",
              "      <th>1983</th>\n",
              "      <th>1984</th>\n",
              "      <th>1985</th>\n",
              "      <th>1986</th>\n",
              "      <th>...</th>\n",
              "      <th>2005</th>\n",
              "      <th>2006</th>\n",
              "      <th>2007</th>\n",
              "      <th>2008</th>\n",
              "      <th>2009</th>\n",
              "      <th>2010</th>\n",
              "      <th>2011</th>\n",
              "      <th>2012</th>\n",
              "      <th>2013</th>\n",
              "      <th>Total</th>\n",
              "    </tr>\n",
              "    <tr>\n",
              "      <th>Country</th>\n",
              "      <th></th>\n",
              "      <th></th>\n",
              "      <th></th>\n",
              "      <th></th>\n",
              "      <th></th>\n",
              "      <th></th>\n",
              "      <th></th>\n",
              "      <th></th>\n",
              "      <th></th>\n",
              "      <th></th>\n",
              "      <th></th>\n",
              "      <th></th>\n",
              "      <th></th>\n",
              "      <th></th>\n",
              "      <th></th>\n",
              "      <th></th>\n",
              "      <th></th>\n",
              "      <th></th>\n",
              "      <th></th>\n",
              "      <th></th>\n",
              "      <th></th>\n",
              "    </tr>\n",
              "  </thead>\n",
              "  <tbody>\n",
              "    <tr>\n",
              "      <th>Afghanistan</th>\n",
              "      <td>Asia</td>\n",
              "      <td>Southern Asia</td>\n",
              "      <td>Developing regions</td>\n",
              "      <td>16</td>\n",
              "      <td>39</td>\n",
              "      <td>39</td>\n",
              "      <td>47</td>\n",
              "      <td>71</td>\n",
              "      <td>340</td>\n",
              "      <td>496</td>\n",
              "      <td>...</td>\n",
              "      <td>3436</td>\n",
              "      <td>3009</td>\n",
              "      <td>2652</td>\n",
              "      <td>2111</td>\n",
              "      <td>1746</td>\n",
              "      <td>1758</td>\n",
              "      <td>2203</td>\n",
              "      <td>2635</td>\n",
              "      <td>2004</td>\n",
              "      <td>58639</td>\n",
              "    </tr>\n",
              "    <tr>\n",
              "      <th>Bangladesh</th>\n",
              "      <td>Asia</td>\n",
              "      <td>Southern Asia</td>\n",
              "      <td>Developing regions</td>\n",
              "      <td>83</td>\n",
              "      <td>84</td>\n",
              "      <td>86</td>\n",
              "      <td>81</td>\n",
              "      <td>98</td>\n",
              "      <td>92</td>\n",
              "      <td>486</td>\n",
              "      <td>...</td>\n",
              "      <td>4171</td>\n",
              "      <td>4014</td>\n",
              "      <td>2897</td>\n",
              "      <td>2939</td>\n",
              "      <td>2104</td>\n",
              "      <td>4721</td>\n",
              "      <td>2694</td>\n",
              "      <td>2640</td>\n",
              "      <td>3789</td>\n",
              "      <td>65568</td>\n",
              "    </tr>\n",
              "    <tr>\n",
              "      <th>Bhutan</th>\n",
              "      <td>Asia</td>\n",
              "      <td>Southern Asia</td>\n",
              "      <td>Developing regions</td>\n",
              "      <td>0</td>\n",
              "      <td>0</td>\n",
              "      <td>0</td>\n",
              "      <td>0</td>\n",
              "      <td>1</td>\n",
              "      <td>0</td>\n",
              "      <td>0</td>\n",
              "      <td>...</td>\n",
              "      <td>5</td>\n",
              "      <td>10</td>\n",
              "      <td>7</td>\n",
              "      <td>36</td>\n",
              "      <td>865</td>\n",
              "      <td>1464</td>\n",
              "      <td>1879</td>\n",
              "      <td>1075</td>\n",
              "      <td>487</td>\n",
              "      <td>5876</td>\n",
              "    </tr>\n",
              "    <tr>\n",
              "      <th>India</th>\n",
              "      <td>Asia</td>\n",
              "      <td>Southern Asia</td>\n",
              "      <td>Developing regions</td>\n",
              "      <td>8880</td>\n",
              "      <td>8670</td>\n",
              "      <td>8147</td>\n",
              "      <td>7338</td>\n",
              "      <td>5704</td>\n",
              "      <td>4211</td>\n",
              "      <td>7150</td>\n",
              "      <td>...</td>\n",
              "      <td>36210</td>\n",
              "      <td>33848</td>\n",
              "      <td>28742</td>\n",
              "      <td>28261</td>\n",
              "      <td>29456</td>\n",
              "      <td>34235</td>\n",
              "      <td>27509</td>\n",
              "      <td>30933</td>\n",
              "      <td>33087</td>\n",
              "      <td>691904</td>\n",
              "    </tr>\n",
              "    <tr>\n",
              "      <th>Iran (Islamic Republic of)</th>\n",
              "      <td>Asia</td>\n",
              "      <td>Southern Asia</td>\n",
              "      <td>Developing regions</td>\n",
              "      <td>1172</td>\n",
              "      <td>1429</td>\n",
              "      <td>1822</td>\n",
              "      <td>1592</td>\n",
              "      <td>1977</td>\n",
              "      <td>1648</td>\n",
              "      <td>1794</td>\n",
              "      <td>...</td>\n",
              "      <td>5837</td>\n",
              "      <td>7480</td>\n",
              "      <td>6974</td>\n",
              "      <td>6475</td>\n",
              "      <td>6580</td>\n",
              "      <td>7477</td>\n",
              "      <td>7479</td>\n",
              "      <td>7534</td>\n",
              "      <td>11291</td>\n",
              "      <td>175923</td>\n",
              "    </tr>\n",
              "    <tr>\n",
              "      <th>Maldives</th>\n",
              "      <td>Asia</td>\n",
              "      <td>Southern Asia</td>\n",
              "      <td>Developing regions</td>\n",
              "      <td>0</td>\n",
              "      <td>0</td>\n",
              "      <td>0</td>\n",
              "      <td>1</td>\n",
              "      <td>0</td>\n",
              "      <td>0</td>\n",
              "      <td>0</td>\n",
              "      <td>...</td>\n",
              "      <td>0</td>\n",
              "      <td>0</td>\n",
              "      <td>2</td>\n",
              "      <td>1</td>\n",
              "      <td>7</td>\n",
              "      <td>4</td>\n",
              "      <td>3</td>\n",
              "      <td>1</td>\n",
              "      <td>1</td>\n",
              "      <td>30</td>\n",
              "    </tr>\n",
              "    <tr>\n",
              "      <th>Nepal</th>\n",
              "      <td>Asia</td>\n",
              "      <td>Southern Asia</td>\n",
              "      <td>Developing regions</td>\n",
              "      <td>1</td>\n",
              "      <td>1</td>\n",
              "      <td>6</td>\n",
              "      <td>1</td>\n",
              "      <td>2</td>\n",
              "      <td>4</td>\n",
              "      <td>13</td>\n",
              "      <td>...</td>\n",
              "      <td>607</td>\n",
              "      <td>540</td>\n",
              "      <td>511</td>\n",
              "      <td>581</td>\n",
              "      <td>561</td>\n",
              "      <td>1392</td>\n",
              "      <td>1129</td>\n",
              "      <td>1185</td>\n",
              "      <td>1308</td>\n",
              "      <td>10222</td>\n",
              "    </tr>\n",
              "    <tr>\n",
              "      <th>Pakistan</th>\n",
              "      <td>Asia</td>\n",
              "      <td>Southern Asia</td>\n",
              "      <td>Developing regions</td>\n",
              "      <td>978</td>\n",
              "      <td>972</td>\n",
              "      <td>1201</td>\n",
              "      <td>900</td>\n",
              "      <td>668</td>\n",
              "      <td>514</td>\n",
              "      <td>691</td>\n",
              "      <td>...</td>\n",
              "      <td>14314</td>\n",
              "      <td>13127</td>\n",
              "      <td>10124</td>\n",
              "      <td>8994</td>\n",
              "      <td>7217</td>\n",
              "      <td>6811</td>\n",
              "      <td>7468</td>\n",
              "      <td>11227</td>\n",
              "      <td>12603</td>\n",
              "      <td>241600</td>\n",
              "    </tr>\n",
              "    <tr>\n",
              "      <th>Sri Lanka</th>\n",
              "      <td>Asia</td>\n",
              "      <td>Southern Asia</td>\n",
              "      <td>Developing regions</td>\n",
              "      <td>185</td>\n",
              "      <td>371</td>\n",
              "      <td>290</td>\n",
              "      <td>197</td>\n",
              "      <td>1086</td>\n",
              "      <td>845</td>\n",
              "      <td>1838</td>\n",
              "      <td>...</td>\n",
              "      <td>4930</td>\n",
              "      <td>4714</td>\n",
              "      <td>4123</td>\n",
              "      <td>4756</td>\n",
              "      <td>4547</td>\n",
              "      <td>4422</td>\n",
              "      <td>3309</td>\n",
              "      <td>3338</td>\n",
              "      <td>2394</td>\n",
              "      <td>148358</td>\n",
              "    </tr>\n",
              "  </tbody>\n",
              "</table>\n",
              "<p>9 rows × 38 columns</p>\n",
              "</div>"
            ],
            "text/plain": [
              "                           Continent         Region             DevName  1980  \\\n",
              "Country                                                                         \n",
              "Afghanistan                     Asia  Southern Asia  Developing regions    16   \n",
              "Bangladesh                      Asia  Southern Asia  Developing regions    83   \n",
              "Bhutan                          Asia  Southern Asia  Developing regions     0   \n",
              "India                           Asia  Southern Asia  Developing regions  8880   \n",
              "Iran (Islamic Republic of)      Asia  Southern Asia  Developing regions  1172   \n",
              "Maldives                        Asia  Southern Asia  Developing regions     0   \n",
              "Nepal                           Asia  Southern Asia  Developing regions     1   \n",
              "Pakistan                        Asia  Southern Asia  Developing regions   978   \n",
              "Sri Lanka                       Asia  Southern Asia  Developing regions   185   \n",
              "\n",
              "                            1981  1982  1983  1984  1985  1986  ...   2005  \\\n",
              "Country                                                         ...          \n",
              "Afghanistan                   39    39    47    71   340   496  ...   3436   \n",
              "Bangladesh                    84    86    81    98    92   486  ...   4171   \n",
              "Bhutan                         0     0     0     1     0     0  ...      5   \n",
              "India                       8670  8147  7338  5704  4211  7150  ...  36210   \n",
              "Iran (Islamic Republic of)  1429  1822  1592  1977  1648  1794  ...   5837   \n",
              "Maldives                       0     0     1     0     0     0  ...      0   \n",
              "Nepal                          1     6     1     2     4    13  ...    607   \n",
              "Pakistan                     972  1201   900   668   514   691  ...  14314   \n",
              "Sri Lanka                    371   290   197  1086   845  1838  ...   4930   \n",
              "\n",
              "                             2006   2007   2008   2009   2010   2011   2012  \\\n",
              "Country                                                                       \n",
              "Afghanistan                  3009   2652   2111   1746   1758   2203   2635   \n",
              "Bangladesh                   4014   2897   2939   2104   4721   2694   2640   \n",
              "Bhutan                         10      7     36    865   1464   1879   1075   \n",
              "India                       33848  28742  28261  29456  34235  27509  30933   \n",
              "Iran (Islamic Republic of)   7480   6974   6475   6580   7477   7479   7534   \n",
              "Maldives                        0      2      1      7      4      3      1   \n",
              "Nepal                         540    511    581    561   1392   1129   1185   \n",
              "Pakistan                    13127  10124   8994   7217   6811   7468  11227   \n",
              "Sri Lanka                    4714   4123   4756   4547   4422   3309   3338   \n",
              "\n",
              "                             2013   Total  \n",
              "Country                                    \n",
              "Afghanistan                  2004   58639  \n",
              "Bangladesh                   3789   65568  \n",
              "Bhutan                        487    5876  \n",
              "India                       33087  691904  \n",
              "Iran (Islamic Republic of)  11291  175923  \n",
              "Maldives                        1      30  \n",
              "Nepal                        1308   10222  \n",
              "Pakistan                    12603  241600  \n",
              "Sri Lanka                    2394  148358  \n",
              "\n",
              "[9 rows x 38 columns]"
            ]
          },
          "execution_count": 35,
          "metadata": {},
          "output_type": "execute_result"
        }
      ],
      "source": [
        "# we can pass multiple criteria in the same line.\n",
        "# let's filter for AreaNAme = Asia and RegName = Southern Asia\n",
        "df_can[(df_can['Continent']=='Asia') & (df_can['Region']=='Southern Asia')]\n",
        "\n",
        "\n",
        "\n",
        "# note: When using 'and' and 'or' operators, pandas requires we use '&' and '|' instead of 'and' and 'or'\n",
        "# don't forget to enclose the two conditions in parentheses"
      ]
    },
    {
      "cell_type": "markdown",
      "metadata": {
        "button": false,
        "new_sheet": false,
        "run_control": {
          "read_only": false
        }
      },
      "source": [
        "Before we proceed: let's review the changes we have made to our dataframe.\n"
      ]
    },
    {
      "cell_type": "code",
      "execution_count": 36,
      "metadata": {
        "button": false,
        "new_sheet": false,
        "run_control": {
          "read_only": false
        },
        "scrolled": true,
        "trusted": true
      },
      "outputs": [
        {
          "name": "stdout",
          "output_type": "stream",
          "text": [
            "data dimensions: (195, 38)\n",
            "Index(['Continent', 'Region', 'DevName', '1980', '1981', '1982', '1983',\n",
            "       '1984', '1985', '1986', '1987', '1988', '1989', '1990', '1991', '1992',\n",
            "       '1993', '1994', '1995', '1996', '1997', '1998', '1999', '2000', '2001',\n",
            "       '2002', '2003', '2004', '2005', '2006', '2007', '2008', '2009', '2010',\n",
            "       '2011', '2012', '2013', 'Total'],\n",
            "      dtype='object')\n"
          ]
        },
        {
          "data": {
            "text/html": [
              "<div>\n",
              "<style scoped>\n",
              "    .dataframe tbody tr th:only-of-type {\n",
              "        vertical-align: middle;\n",
              "    }\n",
              "\n",
              "    .dataframe tbody tr th {\n",
              "        vertical-align: top;\n",
              "    }\n",
              "\n",
              "    .dataframe thead th {\n",
              "        text-align: right;\n",
              "    }\n",
              "</style>\n",
              "<table border=\"1\" class=\"dataframe\">\n",
              "  <thead>\n",
              "    <tr style=\"text-align: right;\">\n",
              "      <th></th>\n",
              "      <th>Continent</th>\n",
              "      <th>Region</th>\n",
              "      <th>DevName</th>\n",
              "      <th>1980</th>\n",
              "      <th>1981</th>\n",
              "      <th>1982</th>\n",
              "      <th>1983</th>\n",
              "      <th>1984</th>\n",
              "      <th>1985</th>\n",
              "      <th>1986</th>\n",
              "      <th>...</th>\n",
              "      <th>2005</th>\n",
              "      <th>2006</th>\n",
              "      <th>2007</th>\n",
              "      <th>2008</th>\n",
              "      <th>2009</th>\n",
              "      <th>2010</th>\n",
              "      <th>2011</th>\n",
              "      <th>2012</th>\n",
              "      <th>2013</th>\n",
              "      <th>Total</th>\n",
              "    </tr>\n",
              "    <tr>\n",
              "      <th>Country</th>\n",
              "      <th></th>\n",
              "      <th></th>\n",
              "      <th></th>\n",
              "      <th></th>\n",
              "      <th></th>\n",
              "      <th></th>\n",
              "      <th></th>\n",
              "      <th></th>\n",
              "      <th></th>\n",
              "      <th></th>\n",
              "      <th></th>\n",
              "      <th></th>\n",
              "      <th></th>\n",
              "      <th></th>\n",
              "      <th></th>\n",
              "      <th></th>\n",
              "      <th></th>\n",
              "      <th></th>\n",
              "      <th></th>\n",
              "      <th></th>\n",
              "      <th></th>\n",
              "    </tr>\n",
              "  </thead>\n",
              "  <tbody>\n",
              "    <tr>\n",
              "      <th>Afghanistan</th>\n",
              "      <td>Asia</td>\n",
              "      <td>Southern Asia</td>\n",
              "      <td>Developing regions</td>\n",
              "      <td>16</td>\n",
              "      <td>39</td>\n",
              "      <td>39</td>\n",
              "      <td>47</td>\n",
              "      <td>71</td>\n",
              "      <td>340</td>\n",
              "      <td>496</td>\n",
              "      <td>...</td>\n",
              "      <td>3436</td>\n",
              "      <td>3009</td>\n",
              "      <td>2652</td>\n",
              "      <td>2111</td>\n",
              "      <td>1746</td>\n",
              "      <td>1758</td>\n",
              "      <td>2203</td>\n",
              "      <td>2635</td>\n",
              "      <td>2004</td>\n",
              "      <td>58639</td>\n",
              "    </tr>\n",
              "    <tr>\n",
              "      <th>Albania</th>\n",
              "      <td>Europe</td>\n",
              "      <td>Southern Europe</td>\n",
              "      <td>Developed regions</td>\n",
              "      <td>1</td>\n",
              "      <td>0</td>\n",
              "      <td>0</td>\n",
              "      <td>0</td>\n",
              "      <td>0</td>\n",
              "      <td>0</td>\n",
              "      <td>1</td>\n",
              "      <td>...</td>\n",
              "      <td>1223</td>\n",
              "      <td>856</td>\n",
              "      <td>702</td>\n",
              "      <td>560</td>\n",
              "      <td>716</td>\n",
              "      <td>561</td>\n",
              "      <td>539</td>\n",
              "      <td>620</td>\n",
              "      <td>603</td>\n",
              "      <td>15699</td>\n",
              "    </tr>\n",
              "  </tbody>\n",
              "</table>\n",
              "<p>2 rows × 38 columns</p>\n",
              "</div>"
            ],
            "text/plain": [
              "            Continent           Region             DevName  1980  1981  1982  \\\n",
              "Country                                                                        \n",
              "Afghanistan      Asia    Southern Asia  Developing regions    16    39    39   \n",
              "Albania        Europe  Southern Europe   Developed regions     1     0     0   \n",
              "\n",
              "             1983  1984  1985  1986  ...  2005  2006  2007  2008  2009  2010  \\\n",
              "Country                              ...                                       \n",
              "Afghanistan    47    71   340   496  ...  3436  3009  2652  2111  1746  1758   \n",
              "Albania         0     0     0     1  ...  1223   856   702   560   716   561   \n",
              "\n",
              "             2011  2012  2013  Total  \n",
              "Country                               \n",
              "Afghanistan  2203  2635  2004  58639  \n",
              "Albania       539   620   603  15699  \n",
              "\n",
              "[2 rows x 38 columns]"
            ]
          },
          "execution_count": 36,
          "metadata": {},
          "output_type": "execute_result"
        }
      ],
      "source": [
        "print('data dimensions:', df_can.shape)\n",
        "print(df_can.columns)\n",
        "df_can.head(2)"
      ]
    },
    {
      "cell_type": "markdown",
      "metadata": {
        "button": false,
        "new_sheet": false,
        "run_control": {
          "read_only": false
        }
      },
      "source": [
        "***\n",
        "\n",
        "# Visualizing Data using Matplotlib<a id=\"8\"></a>\n"
      ]
    },
    {
      "cell_type": "markdown",
      "metadata": {
        "button": false,
        "new_sheet": false,
        "run_control": {
          "read_only": false
        }
      },
      "source": [
        "## Matplotlib: Standard Python Visualization Library<a id=\"10\"></a>\n",
        "\n",
        "The primary plotting library we will explore in the course is [Matplotlib](http://matplotlib.org/?utm_medium=Exinfluencer&utm_source=Exinfluencer&utm_content=000026UJ&utm_term=10006555&utm_id=NA-SkillsNetwork-Channel-SkillsNetworkCoursesIBMDeveloperSkillsNetworkDV0101ENSkillsNetwork20297740-2021-01-01).  As mentioned on their website:\n",
        "\n",
        "> Matplotlib is a Python 2D plotting library which produces publication quality figures in a variety of hardcopy formats and interactive environments across platforms. Matplotlib can be used in Python scripts, the Python and IPython shell, the jupyter notebook, web application servers, and four graphical user interface toolkits.\n",
        "\n",
        "If you are aspiring to create impactful visualization with python, Matplotlib is an essential tool to have at your disposal.\n"
      ]
    },
    {
      "cell_type": "markdown",
      "metadata": {
        "button": false,
        "new_sheet": false,
        "run_control": {
          "read_only": false
        }
      },
      "source": [
        "### Matplotlib.Pyplot\n",
        "\n",
        "One of the core aspects of Matplotlib is `matplotlib.pyplot`. It is Matplotlib's scripting layer which we studied in details in the videos about Matplotlib. Recall that it is a collection of command style functions that make Matplotlib work like MATLAB. Each `pyplot` function makes some change to a figure: e.g., creates a figure, creates a plotting area in a figure, plots some lines in a plotting area, decorates the plot with labels, etc. In this lab, we will work with the scripting layer to learn how to generate line plots. In future labs, we will get to work with the Artist layer as well to experiment first hand how it differs from the scripting layer.\n"
      ]
    },
    {
      "cell_type": "markdown",
      "metadata": {
        "button": false,
        "new_sheet": false,
        "run_control": {
          "read_only": false
        }
      },
      "source": [
        "Let's start by importing `matplotlib` and `matplotlib.pyplot` as follows:\n"
      ]
    },
    {
      "cell_type": "code",
      "execution_count": 37,
      "metadata": {
        "button": false,
        "new_sheet": false,
        "run_control": {
          "read_only": false
        },
        "trusted": true
      },
      "outputs": [],
      "source": [
        "# we are using the inline backend\n",
        "%matplotlib inline \n",
        "\n",
        "import matplotlib as mpl\n",
        "import matplotlib.pyplot as plt"
      ]
    },
    {
      "cell_type": "markdown",
      "metadata": {
        "button": false,
        "new_sheet": false,
        "run_control": {
          "read_only": false
        }
      },
      "source": [
        "\\*optional: check if Matplotlib is loaded.\n"
      ]
    },
    {
      "cell_type": "code",
      "execution_count": 38,
      "metadata": {
        "button": false,
        "new_sheet": false,
        "run_control": {
          "read_only": false
        },
        "trusted": true
      },
      "outputs": [
        {
          "name": "stdout",
          "output_type": "stream",
          "text": [
            "Matplotlib version:  3.6.3\n"
          ]
        }
      ],
      "source": [
        "print('Matplotlib version: ', mpl.__version__)  # >= 2.0.0"
      ]
    },
    {
      "cell_type": "markdown",
      "metadata": {
        "button": false,
        "new_sheet": false,
        "run_control": {
          "read_only": false
        }
      },
      "source": [
        "\\*optional: apply a style to Matplotlib.\n"
      ]
    },
    {
      "cell_type": "code",
      "execution_count": 39,
      "metadata": {
        "button": false,
        "new_sheet": false,
        "run_control": {
          "read_only": false
        },
        "trusted": true
      },
      "outputs": [
        {
          "name": "stdout",
          "output_type": "stream",
          "text": [
            "['Solarize_Light2', '_classic_test_patch', '_mpl-gallery', '_mpl-gallery-nogrid', 'bmh', 'classic', 'dark_background', 'fast', 'fivethirtyeight', 'ggplot', 'grayscale', 'seaborn-v0_8', 'seaborn-v0_8-bright', 'seaborn-v0_8-colorblind', 'seaborn-v0_8-dark', 'seaborn-v0_8-dark-palette', 'seaborn-v0_8-darkgrid', 'seaborn-v0_8-deep', 'seaborn-v0_8-muted', 'seaborn-v0_8-notebook', 'seaborn-v0_8-paper', 'seaborn-v0_8-pastel', 'seaborn-v0_8-poster', 'seaborn-v0_8-talk', 'seaborn-v0_8-ticks', 'seaborn-v0_8-white', 'seaborn-v0_8-whitegrid', 'tableau-colorblind10']\n"
          ]
        }
      ],
      "source": [
        "print(plt.style.available)\n",
        "mpl.style.use(['ggplot']) # optional: for ggplot-like style"
      ]
    },
    {
      "cell_type": "markdown",
      "metadata": {
        "button": false,
        "new_sheet": false,
        "run_control": {
          "read_only": false
        }
      },
      "source": [
        "### Plotting in *pandas*\n",
        "\n",
        "Fortunately, pandas has a built-in implementation of Matplotlib that we can use. Plotting in *pandas* is as simple as appending a `.plot()` method to a series or dataframe.\n",
        "\n",
        "Documentation:\n",
        "\n",
        "*   [Plotting with Series](http://pandas.pydata.org/pandas-docs/stable/api.html?utm_medium=Exinfluencer&utm_source=Exinfluencer&utm_content=000026UJ&utm_term=10006555&utm_id=NA-SkillsNetwork-Channel-SkillsNetworkCoursesIBMDeveloperSkillsNetworkDV0101ENSkillsNetwork20297740-2021-01-01#plotting)<br>\n",
        "*   [Plotting with Dataframes](http://pandas.pydata.org/pandas-docs/stable/api.html?utm_medium=Exinfluencer&utm_source=Exinfluencer&utm_content=000026UJ&utm_term=10006555&utm_id=NA-SkillsNetwork-Channel-SkillsNetworkCoursesIBMDeveloperSkillsNetworkDV0101ENSkillsNetwork20297740-2021-01-01#api-dataframe-plotting)\n"
      ]
    },
    {
      "cell_type": "markdown",
      "metadata": {
        "button": false,
        "new_sheet": false,
        "run_control": {
          "read_only": false
        }
      },
      "source": [
        "# Line Pots (Series/Dataframe) <a id=\"12\"></a>\n"
      ]
    },
    {
      "cell_type": "markdown",
      "metadata": {
        "button": false,
        "new_sheet": false,
        "run_control": {
          "read_only": false
        }
      },
      "source": [
        "**What is a line plot and why use it?**\n",
        "\n",
        "A line chart or line plot is a type of plot which displays information as a series of data points called 'markers' connected by straight line segments. It is a basic type of chart common in many fields.\n",
        "Use line plot when you have a continuous data set. These are best suited for trend-based visualizations of data over a period of time.\n"
      ]
    },
    {
      "cell_type": "markdown",
      "metadata": {
        "button": false,
        "new_sheet": false,
        "run_control": {
          "read_only": false
        }
      },
      "source": [
        "**Let's start with a case study:**\n",
        "\n",
        "In 2010, Haiti suffered a catastrophic magnitude 7.0 earthquake. The quake caused widespread devastation and loss of life and aout three million people were affected by this natural disaster. As part of Canada's humanitarian effort, the Government of Canada stepped up its effort in accepting refugees from Haiti. We can quickly visualize this effort using a `Line` plot:\n",
        "\n",
        "**Question:** Plot a line graph of immigration from Haiti using `df.plot()`.\n"
      ]
    },
    {
      "cell_type": "markdown",
      "metadata": {
        "button": false,
        "new_sheet": false,
        "run_control": {
          "read_only": false
        }
      },
      "source": [
        "First, we will extract the data series for Haiti.\n"
      ]
    },
    {
      "cell_type": "code",
      "execution_count": 42,
      "metadata": {
        "button": false,
        "new_sheet": false,
        "run_control": {
          "read_only": false
        },
        "trusted": true
      },
      "outputs": [
        {
          "data": {
            "text/plain": [
              "1980    1666\n",
              "1981    3692\n",
              "1982    3498\n",
              "1983    2860\n",
              "1984    1418\n",
              "1985    1321\n",
              "1986    1753\n",
              "1987    2132\n",
              "1988    1829\n",
              "1989    2377\n",
              "1990    2379\n",
              "1991    2829\n",
              "1992    2399\n",
              "1993    3655\n",
              "1994    2100\n",
              "1995    2014\n",
              "1996    1955\n",
              "1997    1645\n",
              "1998    1295\n",
              "1999    1439\n",
              "2000    1631\n",
              "2001    2433\n",
              "2002    2174\n",
              "2003    1930\n",
              "2004    1652\n",
              "2005    1682\n",
              "2006    1619\n",
              "2007    1598\n",
              "2008    2491\n",
              "2009    2080\n",
              "2010    4744\n",
              "2011    6503\n",
              "2012    5868\n",
              "2013    4152\n",
              "Name: Haiti, dtype: object"
            ]
          },
          "execution_count": 42,
          "metadata": {},
          "output_type": "execute_result"
        }
      ],
      "source": [
        "haiti=df_can.loc['Haiti',years]\n",
        "haiti"
      ]
    },
    {
      "cell_type": "markdown",
      "metadata": {
        "button": false,
        "new_sheet": false,
        "run_control": {
          "read_only": false
        }
      },
      "source": [
        "Next, we will plot a line plot by appending `.plot()` to the `haiti` dataframe.\n"
      ]
    },
    {
      "cell_type": "code",
      "execution_count": 43,
      "metadata": {
        "button": false,
        "new_sheet": false,
        "run_control": {
          "read_only": false
        },
        "trusted": true
      },
      "outputs": [
        {
          "data": {
            "text/plain": [
              "<AxesSubplot: >"
            ]
          },
          "execution_count": 43,
          "metadata": {},
          "output_type": "execute_result"
        },
        {
          "data": {
            "image/png": "[encoded data removed]",
            "text/plain": [
              "<Figure size 640x480 with 1 Axes>"
            ]
          },
          "metadata": {},
          "output_type": "display_data"
        }
      ],
      "source": [
        "haiti.plot()"
      ]
    },
    {
      "cell_type": "markdown",
      "metadata": {
        "button": false,
        "new_sheet": false,
        "run_control": {
          "read_only": false
        }
      },
      "source": [
        "*pandas* automatically populated the x-axis with the index values (years), and the y-axis with the column values (population). However, notice how the years were not displayed because they are of type *string*. Therefore, let's change the type of the index values to *integer* for plotting.\n",
        "\n",
        "Also, let's label the x and y axis using `plt.title()`, `plt.ylabel()`, and `plt.xlabel()` as follows:\n"
      ]
    },
    {
      "cell_type": "code",
      "execution_count": 46,
      "metadata": {
        "button": false,
        "new_sheet": false,
        "run_control": {
          "read_only": false
        },
        "scrolled": true,
        "trusted": true
      },
      "outputs": [
        {
          "data": {
            "text/plain": [
              "Text(0.5, 0, 'Years')"
            ]
          },
          "execution_count": 46,
          "metadata": {},
          "output_type": "execute_result"
        },
        {
          "data": {
            "image/png": "[encoded data removed]",
            "text/plain": [
              "<Figure size 640x480 with 1 Axes>"
            ]
          },
          "metadata": {},
          "output_type": "display_data"
        }
      ],
      "source": [
        "haiti.index=haiti.index.astype('int')\n",
        "haiti.index\n",
        "haiti.plot()\n",
        "\n",
        "plt.title('Immigration from Haiti')\n",
        "plt.ylabel('Number of immigrants')\n",
        "plt.xlabel('Years')"
      ]
    },
    {
      "cell_type": "markdown",
      "metadata": {
        "button": false,
        "new_sheet": false,
        "run_control": {
          "read_only": false
        }
      },
      "source": [
        "We can clearly notice how number of immigrants from Haiti spiked up from 2010 as Canada stepped up its efforts to accept refugees from Haiti. Let's annotate this spike in the plot by using the `plt.text()` method.\n"
      ]
    },
    {
      "cell_type": "code",
      "execution_count": 47,
      "metadata": {
        "button": false,
        "new_sheet": false,
        "run_control": {
          "read_only": false
        },
        "trusted": true
      },
      "outputs": [
        {
          "data": {
            "image/png": "[encoded data removed]",
            "text/plain": [
              "<Figure size 640x480 with 1 Axes>"
            ]
          },
          "metadata": {},
          "output_type": "display_data"
        }
      ],
      "source": [
        "haiti.plot()\n",
        "\n",
        "plt.title('Immigration from Haiti')\n",
        "plt.ylabel('Number of immigrants')\n",
        "plt.xlabel('Years')\n",
        "plt.text(2000, 6000, '2010 Earthquake') # see note below\n",
        "\n",
        "plt.show() "
      ]
    },
    {
      "cell_type": "markdown",
      "metadata": {
        "button": false,
        "new_sheet": false,
        "run_control": {
          "read_only": false
        }
      },
      "source": [
        "With just a few lines of code, you were able to quickly identify and visualize the spike in immigration!\n",
        "\n",
        "Quick note on x and y values in `plt.text(x, y, label)`:\n",
        "\n",
        "```\n",
        " Since the x-axis (years) is type 'integer', we specified x as a year. The y axis (number of immigrants) is type 'integer', so we can just specify the value y = 6000.\n",
        "```\n",
        "\n",
        "```python\n",
        "    plt.text(2000, 6000, '2010 Earthquake') # years stored as type int\n",
        "```\n",
        "\n",
        "```\n",
        "If the years were stored as type 'string', we would need to specify x as the index position of the year. Eg 20th index is year 2000 since it is the 20th year with a base year of 1980.\n",
        "```\n",
        "\n",
        "```python\n",
        "    plt.text(20, 6000, '2010 Earthquake') # years stored as type int\n",
        "```\n",
        "\n",
        "```\n",
        "We will cover advanced annotation methods in later modules.\n",
        "```\n"
      ]
    },
    {
      "cell_type": "markdown",
      "metadata": {
        "button": false,
        "new_sheet": false,
        "run_control": {
          "read_only": false
        }
      },
      "source": [
        "We can easily add more countries to line plot to make meaningful comparisons immigration from different countries.\n",
        "\n",
        "**Question:** Let's compare the number of immigrants from India and China from 1980 to 2013.\n"
      ]
    },
    {
      "cell_type": "markdown",
      "metadata": {
        "button": false,
        "new_sheet": false,
        "run_control": {
          "read_only": false
        }
      },
      "source": [
        "Step 1: Get the data set for China and India, and display the dataframe.\n"
      ]
    },
    {
      "cell_type": "code",
      "execution_count": null,
      "metadata": {
        "button": false,
        "new_sheet": false,
        "run_control": {
          "read_only": false
        },
        "scrolled": true,
        "trusted": true
      },
      "outputs": [],
      "source": [
        "### type your answer here\n",
        "# df_CI = ...\n",
        "# df_CI\n"
      ]
    },
    {
      "cell_type": "markdown",
      "metadata": {
        "button": false,
        "new_sheet": false,
        "run_control": {
          "read_only": false
        }
      },
      "source": [
        "<details><summary>Click here for a sample python solution</summary>\n",
        "\n",
        "```python\n",
        "    #The correct answer is:\n",
        "    df_CI = df_can.loc[['India', 'China'], years]\n",
        "    df_CI\n",
        "```\n",
        "\n",
        "</details>\n"
      ]
    },
    {
      "cell_type": "markdown",
      "metadata": {
        "button": false,
        "new_sheet": false,
        "run_control": {
          "read_only": false
        }
      },
      "source": [
        "Step 2: Plot graph. We will explicitly specify line plot by passing in `kind` parameter to `plot()`.\n"
      ]
    },
    {
      "cell_type": "code",
      "execution_count": null,
      "metadata": {
        "button": false,
        "new_sheet": false,
        "run_control": {
          "read_only": false
        },
        "scrolled": true,
        "trusted": true
      },
      "outputs": [],
      "source": [
        "### type your answer here\n",
        "# df_CI. ...\n"
      ]
    },
    {
      "cell_type": "markdown",
      "metadata": {
        "button": false,
        "new_sheet": false,
        "run_control": {
          "read_only": false
        }
      },
      "source": [
        "<details><summary>Click here for a sample python solution</summary>\n",
        "\n",
        "```python\n",
        "    #The correct answer is:\n",
        "    df_CI.plot(kind='line')\n",
        "```\n",
        "\n",
        "</details>\n"
      ]
    },
    {
      "cell_type": "markdown",
      "metadata": {
        "button": false,
        "new_sheet": false,
        "run_control": {
          "read_only": false
        }
      },
      "source": [
        "That doesn't look right...\n",
        "\n",
        "Recall that *pandas* plots the indices on the x-axis and the columns as individual lines on the y-axis. Since `df_CI` is a dataframe with the `country` as the index and `years` as the columns, we must first transpose the dataframe using `transpose()` method to swap the row and columns.\n"
      ]
    },
    {
      "cell_type": "code",
      "execution_count": null,
      "metadata": {
        "button": false,
        "new_sheet": false,
        "run_control": {
          "read_only": false
        },
        "trusted": true
      },
      "outputs": [],
      "source": [
        "df_CI = df_CI.transpose()\n",
        "df_CI.head()"
      ]
    },
    {
      "cell_type": "markdown",
      "metadata": {
        "button": false,
        "new_sheet": false,
        "run_control": {
          "read_only": false
        }
      },
      "source": [
        "*pandas* will auomatically graph the two countries on the same graph. Go ahead and plot the new transposed dataframe. Make sure to add a title to the plot and label the axes.\n"
      ]
    },
    {
      "cell_type": "code",
      "execution_count": null,
      "metadata": {
        "button": false,
        "new_sheet": false,
        "run_control": {
          "read_only": false
        },
        "trusted": true
      },
      "outputs": [],
      "source": [
        "### type your answer here\n",
        "\n",
        "\n",
        "\n"
      ]
    },
    {
      "cell_type": "markdown",
      "metadata": {
        "button": false,
        "new_sheet": false,
        "run_control": {
          "read_only": false
        }
      },
      "source": [
        "<details><summary>Click here for a sample python solution</summary>\n",
        "\n",
        "```python\n",
        "    #The correct answer is:\n",
        "    df_CI.index = df_CI.index.map(int) # let's change the index values of df_CI to type integer for plotting\n",
        "    df_CI.plot(kind='line')\n",
        "\n",
        "    plt.title('Immigrants from China and India')\n",
        "    plt.ylabel('Number of Immigrants')\n",
        "    plt.xlabel('Years')\n",
        "\n",
        "    plt.show()\n",
        "```\n",
        "\n",
        "</details>\n"
      ]
    },
    {
      "cell_type": "markdown",
      "metadata": {
        "button": false,
        "new_sheet": false,
        "run_control": {
          "read_only": false
        }
      },
      "source": [
        "<br>From the above plot, we can observe that the China and India have very similar immigration trends through the years.\n"
      ]
    },
    {
      "cell_type": "markdown",
      "metadata": {
        "button": false,
        "new_sheet": false,
        "run_control": {
          "read_only": false
        }
      },
      "source": [
        "*Note*: How come we didn't need to transpose Haiti's dataframe before plotting (like we did for df_CI)?\n",
        "\n",
        "That's because `haiti` is a series as opposed to a dataframe, and has the years as its indices as shown below.\n",
        "\n",
        "```python\n",
        "print(type(haiti))\n",
        "print(haiti.head(5))\n",
        "```\n",
        "\n",
        "> class 'pandas.core.series.Series' <br>\n",
        "> 1980    1666 <br>\n",
        "> 1981    3692 <br>\n",
        "> 1982    3498 <br>\n",
        "> 1983    2860 <br>\n",
        "> 1984    1418 <br>\n",
        "> Name: Haiti, dtype: int64 <br>\n"
      ]
    },
    {
      "cell_type": "markdown",
      "metadata": {
        "button": false,
        "new_sheet": false,
        "run_control": {
          "read_only": false
        }
      },
      "source": [
        "Line plot is a handy tool to display several dependent variables against one independent variable. However, it is recommended that no more than 5-10 lines on a single graph; any more than that and it becomes difficult to interpret.\n"
      ]
    },
    {
      "cell_type": "markdown",
      "metadata": {
        "button": false,
        "new_sheet": false,
        "run_control": {
          "read_only": false
        }
      },
      "source": [
        "**Question:** Compare the trend of top 5 countries that contributed the most to immigration to Canada.\n"
      ]
    },
    {
      "cell_type": "code",
      "execution_count": null,
      "metadata": {
        "button": false,
        "new_sheet": false,
        "run_control": {
          "read_only": false
        },
        "trusted": true
      },
      "outputs": [],
      "source": [
        "### type your answer here\n",
        "\n",
        "\n"
      ]
    },
    {
      "cell_type": "markdown",
      "metadata": {
        "button": false,
        "new_sheet": false,
        "run_control": {
          "read_only": false
        }
      },
      "source": [
        "<details><summary>Click here for a sample python solution</summary>\n",
        "\n",
        "```python\n",
        "    #The correct answer is:    \n",
        "    #Step 1: Get the dataset. Recall that we created a Total column that calculates cumulative immigration by country. \n",
        "    #We will sort on this column to get our top 5 countries using pandas sort_values() method.\n",
        "    \n",
        "    inplace = True # paramemter saves the changes to the original df_can dataframe\n",
        "    df_can.sort_values(by='Total', ascending=False, axis=0, inplace=True)\n",
        "\n",
        "    # get the top 5 entries\n",
        "    df_top5 = df_can.head(5)\n",
        "\n",
        "    # transpose the dataframe\n",
        "    df_top5 = df_top5[years].transpose() \n",
        "\n",
        "    print(df_top5)\n",
        "\n",
        "\n",
        "    #Step 2: Plot the dataframe. To make the plot more readeable, we will change the size using the `figsize` parameter.\n",
        "    df_top5.index = df_top5.index.map(int) # let's change the index values of df_top5 to type integer for plotting\n",
        "    df_top5.plot(kind='line', figsize=(14, 8)) # pass a tuple (x, y) size\n",
        "\n",
        "\n",
        "\n",
        "    plt.title('Immigration Trend of Top 5 Countries')\n",
        "    plt.ylabel('Number of Immigrants')\n",
        "    plt.xlabel('Years')\n",
        "\n",
        "\n",
        "    plt.show()\n",
        "\n",
        "```\n",
        "\n",
        "</details>\n"
      ]
    },
    {
      "cell_type": "markdown",
      "metadata": {
        "button": false,
        "new_sheet": false,
        "run_control": {
          "read_only": false
        }
      },
      "source": [
        "### Other Plots\n",
        "\n",
        "Congratulations! you have learned how to wrangle data with python and create a line plot with Matplotlib. There are many other plotting styles available other than the default Line plot, all of which can be accessed by passing `kind` keyword to `plot()`. The full list of available plots are as follows:\n",
        "\n",
        "*   `bar` for vertical bar plots\n",
        "*   `barh` for horizontal bar plots\n",
        "*   `hist` for histogram\n",
        "*   `box` for boxplot\n",
        "*   `kde` or `density` for density plots\n",
        "*   `area` for area plots\n",
        "*   `pie` for pie plots\n",
        "*   `scatter` for scatter plots\n",
        "*   `hexbin` for hexbin plot\n"
      ]
    },
    {
      "cell_type": "markdown",
      "metadata": {
        "button": false,
        "new_sheet": false,
        "run_control": {
          "read_only": false
        }
      },
      "source": [
        "### Thank you for completing this lab!\n",
        "\n",
        "## Author\n",
        "\n",
        "<a href=\"https://www.linkedin.com/in/aklson/?utm_medium=Exinfluencer&utm_source=Exinfluencer&utm_content=000026UJ&utm_term=10006555&utm_id=NA-SkillsNetwork-Channel-SkillsNetworkCoursesIBMDeveloperSkillsNetworkDV0101ENSkillsNetwork20297740-2021-01-01\" target=\"_blank\">Alex Aklson</a>\n",
        "\n",
        "### Other Contributors\n",
        "\n",
        "[Jay Rajasekharan](https://www.linkedin.com/in/jayrajasekharan?utm_medium=Exinfluencer&utm_source=Exinfluencer&utm_content=000026UJ&utm_term=10006555&utm_id=NA-SkillsNetwork-Channel-SkillsNetworkCoursesIBMDeveloperSkillsNetworkDV0101ENSkillsNetwork20297740-2021-01-01),\n",
        "[Ehsan M. Kermani](https://www.linkedin.com/in/ehsanmkermani?utm_medium=Exinfluencer&utm_source=Exinfluencer&utm_content=000026UJ&utm_term=10006555&utm_id=NA-SkillsNetwork-Channel-SkillsNetworkCoursesIBMDeveloperSkillsNetworkDV0101ENSkillsNetwork20297740-2021-01-01),\n",
        "[Slobodan Markovic](https://www.linkedin.com/in/slobodan-markovic?utm_medium=Exinfluencer&utm_source=Exinfluencer&utm_content=000026UJ&utm_term=10006555&utm_id=NA-SkillsNetwork-Channel-SkillsNetworkCoursesIBMDeveloperSkillsNetworkDV0101ENSkillsNetwork20297740-2021-01-01),\n",
        "[Weiqing Wang](https://www.linkedin.com/in/weiqing-wang-641640133/?utm_medium=Exinfluencer&utm_source=Exinfluencer&utm_content=000026UJ&utm_term=10006555&utm_id=NA-SkillsNetwork-Channel-SkillsNetworkCoursesIBMDeveloperSkillsNetworkDV0101ENSkillsNetwork20297740-2021-01-01)\n",
        "\n",
        "## Change Log\n",
        "\n",
        "| Date (YYYY-MM-DD) | Version | Changed By    | Change Description                 |\n",
        "| ----------------- | ------- | ------------- | ---------------------------------- |\n",
        "| 2021-05-29        | 2.4     | Weiqing Wang  | Fixed typos and code smells.       |\n",
        "| 2021-01-20        | 2.3     | Lakshmi Holla | Changed TOC cell markdown          |\n",
        "| 2020-11-20        | 2.2     | Lakshmi Holla | Changed IBM box URL                |\n",
        "| 2020-11-03        | 2.1     | Lakshmi Holla | Changed URL and info method        |\n",
        "| 2020-08-27        | 2.0     | Lavanya       | Moved Lab to course repo in GitLab |\n",
        "\n",
        "## <h3 align=\"center\"> © IBM Corporation 2020. All rights reserved. <h3/>\n"
      ]
    }
  ],
  "metadata": {
    "kernelspec": {
      "display_name": "my_environment",
      "language": "python",
      "name": "python3"
    },
    "language_info": {
      "codemirror_mode": {
        "name": "ipython",
        "version": 3
      },
      "file_extension": ".py",
      "mimetype": "text/x-python",
      "name": "python",
      "nbconvert_exporter": "python",
      "pygments_lexer": "ipython3",
      "version": "3.11.0"
    },
    "vscode": {
      "interpreter": {
        "hash": "3a4478ecce38d020a6bf56b03f6b7dc45cead8c5b780e669a8971c8776e963cc"
      }
    },
    "widgets": {
      "state": {},
      "version": "1.1.2"
    }
  },
  "nbformat": 4,
  "nbformat_minor": 4
}
